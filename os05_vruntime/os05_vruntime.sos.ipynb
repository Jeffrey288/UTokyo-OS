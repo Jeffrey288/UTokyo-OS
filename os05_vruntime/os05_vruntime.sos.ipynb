{
 "cells": [
  {
   "cell_type": "markdown",
   "metadata": {
    "deletable": false,
    "editable": false,
    "kernel": "SoS",
    "nbgrader": {
     "cell_type": "markdown",
     "checksum": "aa3eb2df8de25a7fdebf435f6c36f9be",
     "grade": false,
     "grade_id": "c-001",
     "locked": true,
     "schema_version": 3,
     "solution": false,
     "task": false
    }
   },
   "source": [
    "\n",
    "#  オペレーティングシステム 演習 05\n",
    "#  Linux CFSスケジューラ, vruntime"
   ]
  },
  {
   "cell_type": "markdown",
   "metadata": {
    "kernel": "SoS",
    "nbgrader": {
     "grade": false,
     "grade_id": "c-002",
     "locked": false,
     "schema_version": 3,
     "solution": false,
     "task": false
    }
   },
   "source": [
    "\n",
    "名前と学生証番号を書け. Enter your name and student ID.\n",
    "\n",
    " * 名前 Name:\n",
    " * 学生証番号 Student ID:\n"
   ]
  },
  {
   "cell_type": "markdown",
   "metadata": {
    "deletable": false,
    "editable": false,
    "kernel": "SoS",
    "nbgrader": {
     "cell_type": "markdown",
     "checksum": "c445efb1c1e9dfdddd607e7216353261",
     "grade": false,
     "grade_id": "c-003",
     "locked": true,
     "schema_version": 3,
     "solution": false,
     "task": false
    }
   },
   "source": [
    "# 1. Linux CFSスケジューラ"
   ]
  },
  {
   "cell_type": "markdown",
   "metadata": {
    "deletable": false,
    "editable": false,
    "kernel": "SoS",
    "nbgrader": {
     "cell_type": "markdown",
     "checksum": "6aa1f661880bae41c37d336f7d312976",
     "grade": false,
     "grade_id": "c-004",
     "locked": true,
     "schema_version": 3,
     "solution": false,
     "task": false
    }
   },
   "source": [
    "\n",
    "* OSによるスケジューリングの基本\n",
    "  * 中断しているスレッドと実行可能なスレッドを区別する\n",
    "  * 実行可能なスレッドに公平にCPU時間を割り当てる\n",
    "\n",
    "* 公平にCPU時間を割り当てる方法は色々あるがLinux のデフォルトスケジューラである, Complete Fair Scheduler (CFS) はCPUの利用時間累計を記録して, スレッド切り替え(実行中スレッドが中断した, 中断中スレッドが復帰した, タイマ割り込みがおきたなど)のタイミングで, それが最も少ないものに割り当てるという自然なもの\n",
    "* CFSではCPUの利用時間累計を, スレッドごとに vruntime という変数を割り当てて管理してる. すなわち使ったCPU時間だけvruntimeを加算し, 次に実行するスレッドを選ぶときにvruntime最小のスレッドにCPU時間を割り当てるのがCFSの基本である\n",
    "* しかしvruntimeに文字通りのCPU利用時間累計を記録していくと, 生まれたばかりのスレッドはvruntime=0, また, ほとんどCPUを使わずにずっと中断していたスレッドも vruntime $\\approx$ 0ということになり, それらのスレッドが急に計算を始めると, それらに長時間CPUが連続して割り当てられる(すでにCPUを10秒消費しているスレッドには10秒間順番がまわってこない)ということになりかねない\n",
    "* したがってvruntimeは以下のような管理がなされる\n",
    "\n",
    "1. 親スレッドAが子スレッドBを生成した時, BはAのvruntimeを引き継ぐ (プロセスの場合も同様)\n",
    "   Bのvruntime = Aのvruntime\n",
    "2. 実行中のスレッドAから別のスレッドBに実行が切り替わる(コンテクストスイッチ)時\n",
    "   Aのvruntime += Aが今回消費した時間\n",
    "3. 中断中のスレッドAが復帰する時\n",
    "   Aのvruntime += max(Aのvruntime, min { tのvruntime | t : 実行可能なスレッド})\n"
   ]
  },
  {
   "cell_type": "markdown",
   "metadata": {
    "deletable": false,
    "editable": false,
    "kernel": "SoS",
    "nbgrader": {
     "cell_type": "markdown",
     "checksum": "f52d56164db9d09ba918adb9a2a52d7f",
     "grade": false,
     "grade_id": "c-005",
     "locked": true,
     "schema_version": 3,
     "solution": false,
     "task": false
    }
   },
   "source": [
    "\n",
    "* 以下のプログラムはvruntimeをずっと観測し続け, 時間とともにどう変化したかを記録する\n",
    "* 以下が実際のCコード\n"
   ]
  },
  {
   "cell_type": "code",
   "execution_count": 1,
   "metadata": {
    "deletable": false,
    "kernel": "Python 3 (ipykernel)",
    "nbgrader": {
     "cell_type": "code",
     "checksum": "0064d20dd0be0664e75fd38c4b015771",
     "grade": true,
     "grade_id": "p-001",
     "locked": false,
     "points": 1,
     "schema_version": 3,
     "solution": true,
     "task": false
    }
   },
   "outputs": [
    {
     "name": "stdout",
     "output_type": "stream",
     "text": [
      "Writing vruntime_rec.c\n"
     ]
    }
   ],
   "source": [
    "\n",
    "%%writefile vruntime_rec.c\n",
    "#define _GNU_SOURCE\n",
    "#include <assert.h>\n",
    "#include <sched.h>\n",
    "#include <time.h>\n",
    "#include <stdio.h>\n",
    "#include <stdlib.h>\n",
    "#include <string.h>\n",
    "#include <unistd.h>\n",
    "\n",
    "/* 時刻 begin -- end まで proc 上で動いていた記録 */\n",
    "typedef struct {\n",
    "  double begin;\n",
    "  double end;\n",
    "  double vruntime;\n",
    "  int proc;\n",
    "} rec_t;\n",
    "\n",
    "/* 現在時刻を得る */\n",
    "double cur_time() {\n",
    "  struct timespec tp[1];\n",
    "  clock_gettime(CLOCK_REALTIME, tp);\n",
    "  return tp->tv_sec + tp->tv_nsec * 1.0e-9;\n",
    "}\n",
    "\n",
    "\n",
    "double cur_vruntime() {\n",
    "  char buf[100];\n",
    "  char field[100];\n",
    "  double val;\n",
    "  FILE * fp = fopen(\"/proc/self/sched\", \"rb\");\n",
    "  char * r;\n",
    "  int x;\n",
    "  r = fgets(buf, sizeof(buf), fp);\n",
    "  assert(r);\n",
    "  r = fgets(buf, sizeof(buf), fp);\n",
    "  assert(r);\n",
    "  assert(strcmp(\"-------------------------------------------------------------------\\n\",\n",
    "\t\tbuf) == 0);\n",
    "  fseek(fp, 68, SEEK_CUR);\n",
    "  r = fgets(buf, sizeof(buf), fp);\n",
    "  if (!r) {\n",
    "    perror(\"fgets\"); \n",
    "    fclose(fp);\n",
    "    exit(1);\n",
    "  }\n",
    "  fclose(fp);\n",
    "  //printf(\"%s\", buf);\n",
    "  x = sscanf(buf, \"%s : %lf\\n\", field, &val);\n",
    "  assert(x == 2);\n",
    "  assert(strcmp(field, \"se.vruntime\") == 0);\n",
    "  //printf(\"%s=%f\\n\", field, val);\n",
    "  return val;\n",
    "}\n",
    "\n",
    "/* T秒間走り続け, vruntimeの変化を記録する */\n",
    "int run(double T,\n",
    "        long n) {\n",
    "  pid_t pid = getpid();\n",
    "  double limit = cur_time() + T;\n",
    "  rec_t * R = (rec_t *)calloc(n, sizeof(rec_t));\n",
    "  long i = 0;\n",
    "  R[i].begin = R[i].end = cur_time();\n",
    "  R[i].vruntime = cur_vruntime();\n",
    "  R[i].proc = sched_getcpu();\n",
    "  while (R[i].end < limit && i < n) {\n",
    "    double t = cur_time(); /* 現在時刻を得る */\n",
    "    double vr = cur_vruntime();\n",
    "    int proc = sched_getcpu();\n",
    "    if (vr == R[i].vruntime && proc == R[i].proc) {\n",
    "      /* 最後に見たvruntimeと変化なし */\n",
    "      R[i].end = t;\n",
    "      R[i].vruntime = vr;\n",
    "    } else {\n",
    "      /* vruntimeが変化している -> 新しい区間に入る */\n",
    "      if (i + 1 >= n) break;\n",
    "      i++;\n",
    "      R[i].proc = proc;\n",
    "      R[i].begin = R[i].end = cur_time();\n",
    "      R[i].vruntime = cur_vruntime();\n",
    "    }\n",
    "  }\n",
    "  assert(i < n);\n",
    "  int j;\n",
    "  for (j = 0; j <= i; j++) {\n",
    "    printf(\"%d %d %f %f %f %f\\n\", \n",
    "\t   pid, R[j].proc,\n",
    "           R[j].begin, R[j].end, R[j].end - R[j].begin,\n",
    "           R[j].vruntime);\n",
    "  }\n",
    "  return 0;\n",
    "}\n",
    "\n",
    "int main(int argc, char ** argv) {\n",
    "  long i = 1;\n",
    "  double T     = (argc > i ? atof(argv[i]) : 10.0);    i++; /* 合計時間 */\n",
    "  long n       = (argc > i ? atoi(argv[i]) : 1000000); i++;\n",
    "  run(T, n);\n",
    "  return 0;\n",
    "}"
   ]
  },
  {
   "cell_type": "code",
   "execution_count": 2,
   "metadata": {
    "deletable": false,
    "kernel": "Bash",
    "nbgrader": {
     "cell_type": "code",
     "checksum": "5549511938c487714ad86c640add14f5",
     "grade": true,
     "grade_id": "p-002",
     "locked": false,
     "points": 1,
     "schema_version": 3,
     "solution": true,
     "task": false
    }
   },
   "outputs": [],
   "source": [
    "\n",
    "gcc -Wall -o vruntime_rec vruntime_rec.c"
   ]
  },
  {
   "cell_type": "markdown",
   "metadata": {
    "deletable": false,
    "editable": false,
    "kernel": "SoS",
    "nbgrader": {
     "cell_type": "markdown",
     "checksum": "bd93d8512fa675c89b2c357c9bd92c52",
     "grade": false,
     "grade_id": "c-006",
     "locked": true,
     "schema_version": 3,
     "solution": false,
     "task": false
    }
   },
   "source": [
    "\n",
    "* 以下は1秒ほど, 単独で走らせてみて, 出力の最初の10行を表示する例\n",
    "* 出力1行の読み方は以下\n",
    "```\n",
    "プロセスID CPU番号 区間開始時刻  区間終了時刻  区間の長さ その間のvruntime\n",
    "```\n",
    "* 各行は, vruntimeが変わらなかった区間を表している\n"
   ]
  },
  {
   "cell_type": "code",
   "execution_count": 3,
   "metadata": {
    "kernel": "Bash",
    "nbgrader": {
     "grade": false,
     "grade_id": "c-007",
     "locked": false,
     "schema_version": 3,
     "solution": false,
     "task": false
    }
   },
   "outputs": [
    {
     "name": "stdout",
     "output_type": "stream",
     "text": [
      "152337 2 1697591190.035589 1697591190.037328 0.001739 4102205.086119\n",
      "152337 2 1697591190.037371 1697591190.041340 0.003969 4102207.330280\n",
      "152337 2 1697591190.041377 1697591190.045341 0.003965 4102211.327658\n",
      "152337 2 1697591190.045378 1697591190.049327 0.003949 4102215.326683\n",
      "152337 2 1697591190.049362 1697591190.053338 0.003977 4102219.326150\n",
      "152337 2 1697591190.053374 1697591190.057330 0.003956 4102223.326603\n",
      "152337 2 1697591190.057377 1697591190.061331 0.003954 4102227.330689\n",
      "152337 2 1697591190.061378 1697591190.065335 0.003957 4102231.315557\n",
      "152337 2 1697591190.065394 1697591190.069332 0.003938 4102235.315725\n",
      "152337 2 1697591190.069366 1697591190.073331 0.003964 4102239.315319\n"
     ]
    }
   ],
   "source": [
    "taskset -c 2 ./vruntime_rec 3 > vr.0\n",
    "head vr.0"
   ]
  },
  {
   "cell_type": "markdown",
   "metadata": {
    "deletable": false,
    "editable": false,
    "kernel": "SoS",
    "nbgrader": {
     "cell_type": "markdown",
     "checksum": "baadb184c92fecbb758d4b8b3211c6ac",
     "grade": false,
     "grade_id": "c-008",
     "locked": true,
     "schema_version": 3,
     "solution": false,
     "task": false
    }
   },
   "source": [
    "\n",
    "* なお以下の taskset -c 2 は processor (仮想コア) 2番 だけで実行せよという指示\n",
    "* これはそのスレッドが1つの仮想コアでしか実行されないようにするための仕掛け(2番であることには意味はない)\n",
    "* vruntime はprocessorごとに別々に管理されているため, スレッドがprocessor間を移動するとvruntimeは急に変化する(それはそれで見ておくと良い)\n"
   ]
  },
  {
   "cell_type": "markdown",
   "metadata": {
    "deletable": false,
    "editable": false,
    "kernel": "SoS",
    "nbgrader": {
     "cell_type": "markdown",
     "checksum": "251c48b441e110423577d2d141bd5006",
     "grade": false,
     "grade_id": "c-009",
     "locked": true,
     "schema_version": 3,
     "solution": false,
     "task": false
    }
   },
   "source": [
    "\n",
    "# 2. 可視化\n",
    "* 以下が結果を可視化するプログラム\n"
   ]
  },
  {
   "cell_type": "code",
   "execution_count": 4,
   "metadata": {
    "kernel": "Python 3 (ipykernel)",
    "nbgrader": {
     "grade": false,
     "grade_id": "c-010",
     "locked": false,
     "schema_version": 3,
     "solution": false,
     "task": false
    }
   },
   "outputs": [],
   "source": [
    "#!/usr/bin/python3\n",
    "import sys\n",
    "import re\n",
    "import matplotlib.collections as mc\n",
    "import matplotlib.pyplot as plt\n",
    "import numpy as np\n",
    "\n",
    "def read_dat(dat):\n",
    "    pat = re.compile(\"(?P<pid>\\d+) (?P<cpu>\\d+) (?P<begin>\\d+\\.\\d+) (?P<end>\\d+\\.\\d+) (?P<dt>\\d+\\.\\d+) (?P<vruntime>\\d+)\")\n",
    "    log = {}\n",
    "    with open(dat) as fp:\n",
    "        for line in fp:\n",
    "            m = pat.match(line)\n",
    "            if not m:\n",
    "                sys.stderr.write(\"warning: ignore line [%s]\\n\" % line.rstrip())\n",
    "                continue\n",
    "            pid = int(m.group(\"pid\"))\n",
    "            cpu = int(m.group(\"cpu\"))\n",
    "            begin = float(m.group(\"begin\"))\n",
    "            end = float(m.group(\"end\"))\n",
    "            dt = float(m.group(\"dt\"))\n",
    "            vruntime = int(m.group(\"vruntime\"))\n",
    "            if pid not in log:\n",
    "                log[pid] = []\n",
    "            log[pid].append((begin, end, vruntime, cpu))\n",
    "    return log\n",
    "\n",
    "def read_dats(dats):\n",
    "    log = {}\n",
    "    for dat in dats:\n",
    "        log.update(read_dat(dat))\n",
    "    return log\n",
    "\n",
    "def vruntime_vis(files, start_t=0, end_t=float(\"inf\")):\n",
    "    log = read_dats(files)\n",
    "    n_procs = len(log)\n",
    "    n_cpus = max(max(cpu for _, _, _, cpu in recs) for recs in log.values()) + 1\n",
    "    cmap = plt.cm.get_cmap('RdYlGn', n_procs)\n",
    "    T0 = min(min(begin for begin, _, _, _ in recs) for recs in log.values())\n",
    "    V0 = min(min(vrunt for _, _, vrunt, _ in recs) for recs in log.values())\n",
    "    segs = []\n",
    "    cols = []\n",
    "    fig, ax = plt.subplots()\n",
    "    for i, (pid, recs) in enumerate(log.items()):\n",
    "        recs.sort()\n",
    "        for begin, end, vruntime, cpu in recs:\n",
    "            t0 = max(begin - T0, start_t)\n",
    "            t1 = min(end - T0, end_t)\n",
    "            if t0 >= t1:\n",
    "                continue\n",
    "            c = cmap(i)\n",
    "            segs.append([(t0, vruntime), (t1, vruntime)])\n",
    "            cols.append(c)\n",
    "    wc = mc.LineCollection(segs, colors=cols, linewidths=3)\n",
    "    ax.add_collection(wc)\n",
    "    ax.autoscale()\n",
    "    plt.title(\"thread vruntime\")\n",
    "    plt.xlabel(\"time\")\n",
    "    plt.ylabel(\"vruntime\")\n",
    "    plt.savefig(\"vruntime.svg\")\n",
    "    plt.show()\n",
    "    \n",
    "# usage:\n",
    "# if you have n processes\n",
    "# vruntime_vis([\"vr.{}\".format(i) for i in range(n)])"
   ]
  },
  {
   "cell_type": "markdown",
   "metadata": {
    "deletable": false,
    "editable": false,
    "kernel": "SoS",
    "nbgrader": {
     "cell_type": "markdown",
     "checksum": "a4e324769834db7478443e41c54aa448",
     "grade": false,
     "grade_id": "c-011",
     "locked": true,
     "schema_version": 3,
     "solution": false,
     "task": false
    }
   },
   "source": [
    "\n",
    "* 以下で実際に可視化\n"
   ]
  },
  {
   "cell_type": "code",
   "execution_count": 5,
   "metadata": {
    "deletable": false,
    "kernel": "Python 3 (ipykernel)",
    "nbgrader": {
     "cell_type": "code",
     "checksum": "01c1afc636e99d2c11e98c75014d4b90",
     "grade": true,
     "grade_id": "p-003",
     "locked": false,
     "points": 1,
     "schema_version": 3,
     "solution": true,
     "task": false
    }
   },
   "outputs": [
    {
     "name": "stderr",
     "output_type": "stream",
     "text": [
      "/tmp/ipykernel_152069/4012078638.py:38: MatplotlibDeprecationWarning: The get_cmap function was deprecated in Matplotlib 3.7 and will be removed two minor releases later. Use ``matplotlib.colormaps[name]`` or ``matplotlib.colormaps.get_cmap(obj)`` instead.\n",
      "  cmap = plt.cm.get_cmap('RdYlGn', n_procs)\n"
     ]
    },
    {
     "data": {
      "image/png": "[encoded data removed]",
      "text/plain": [
       "<Figure size 640x480 with 1 Axes>"
      ]
     },
     "metadata": {},
     "output_type": "display_data"
    }
   ],
   "source": [
    "\n",
    "vruntime_vis([\"vr.0\"])"
   ]
  },
  {
   "cell_type": "markdown",
   "metadata": {
    "deletable": false,
    "editable": false,
    "kernel": "SoS",
    "nbgrader": {
     "cell_type": "markdown",
     "checksum": "eb225297fad3394653a3ee89f99d2b81",
     "grade": false,
     "grade_id": "c-012",
     "locked": true,
     "schema_version": 3,
     "solution": false,
     "task": false
    }
   },
   "source": [
    "* 特定の領域を可視化するには, `start_t=開始時刻, end_t=終了時刻` を与える\n",
    "* 一見して連続的に変化しているように見えるが, 狭い範囲をどんどん拡大してみると, 区間ごとに一定で, それが定期的に, 階段状に増加していることがわかる\n",
    "* 以下の引数を変更して小さな区間を拡大表示してみよ\n",
    "\n",
    "* 下記を実行するとvruntime.svgというSVG (ベクタ画像)ファイルが生成されるので, ある程度まで拡大表示した画像をダウンロードして適当な画像ビューアで拡大しても良い\n"
   ]
  },
  {
   "cell_type": "code",
   "execution_count": 6,
   "metadata": {
    "kernel": "Python 3 (ipykernel)",
    "nbgrader": {
     "grade": false,
     "grade_id": "c-013",
     "locked": false,
     "schema_version": 3,
     "solution": false,
     "task": false
    }
   },
   "outputs": [
    {
     "name": "stderr",
     "output_type": "stream",
     "text": [
      "/tmp/ipykernel_152069/4012078638.py:38: MatplotlibDeprecationWarning: The get_cmap function was deprecated in Matplotlib 3.7 and will be removed two minor releases later. Use ``matplotlib.colormaps[name]`` or ``matplotlib.colormaps.get_cmap(obj)`` instead.\n",
      "  cmap = plt.cm.get_cmap('RdYlGn', n_procs)\n"
     ]
    },
    {
     "data": {
      "image/png": "[encoded data removed]",
      "text/plain": [
       "<Figure size 640x480 with 1 Axes>"
      ]
     },
     "metadata": {},
     "output_type": "display_data"
    }
   ],
   "source": [
    "vruntime_vis([\"vr.0\"], start_t=1.0, end_t=1.5)"
   ]
  },
  {
   "cell_type": "markdown",
   "metadata": {
    "deletable": false,
    "editable": false,
    "kernel": "SoS",
    "nbgrader": {
     "cell_type": "markdown",
     "checksum": "61bb595a5244fbe49ba664edda4bce41",
     "grade": false,
     "grade_id": "c-014",
     "locked": true,
     "schema_version": 3,
     "solution": false,
     "task": false
    }
   },
   "source": [
    "# 3. taskset でスレッドをprocessorに固定しない場合\n",
    "* taskset でスレッドを特定のprocessorに固定しない場合, スレッドがprocessor間を動き回れるようになる\n",
    "* 実際にスレッドがprocessor間を移動するかはわからないが, 途中でvruntime値が大きくジャンプしたらそれはおそらくprocessor (仮想コア)間をスレッドが移動したとき\n"
   ]
  },
  {
   "cell_type": "code",
   "execution_count": 7,
   "metadata": {
    "deletable": false,
    "kernel": "Bash",
    "nbgrader": {
     "cell_type": "code",
     "checksum": "f1c32dc7d2c6ecc6801915f0bf7eaccb",
     "grade": true,
     "grade_id": "p-004",
     "locked": false,
     "points": 1,
     "schema_version": 3,
     "solution": true,
     "task": false
    }
   },
   "outputs": [],
   "source": [
    "\n",
    "./vruntime_rec 3 > vr.0"
   ]
  },
  {
   "cell_type": "code",
   "execution_count": 8,
   "metadata": {
    "deletable": false,
    "kernel": "Python 3 (ipykernel)",
    "nbgrader": {
     "cell_type": "code",
     "checksum": "536f7a58bee51f4bfbf9266e74139ca1",
     "grade": true,
     "grade_id": "p-005",
     "locked": false,
     "points": 1,
     "schema_version": 3,
     "solution": true,
     "task": false
    }
   },
   "outputs": [
    {
     "name": "stderr",
     "output_type": "stream",
     "text": [
      "/tmp/ipykernel_152069/4012078638.py:38: MatplotlibDeprecationWarning: The get_cmap function was deprecated in Matplotlib 3.7 and will be removed two minor releases later. Use ``matplotlib.colormaps[name]`` or ``matplotlib.colormaps.get_cmap(obj)`` instead.\n",
      "  cmap = plt.cm.get_cmap('RdYlGn', n_procs)\n"
     ]
    },
    {
     "data": {
      "image/png": "[encoded data removed]",
      "text/plain": [
       "<Figure size 640x480 with 1 Axes>"
      ]
     },
     "metadata": {},
     "output_type": "display_data"
    }
   ],
   "source": [
    "\n",
    "vruntime_vis([\"vr.0\"])\n",
    "# vruntime_vis([\"vr.0\"], start_t=1.0, end_t=1.5)"
   ]
  },
  {
   "cell_type": "markdown",
   "metadata": {
    "deletable": false,
    "editable": false,
    "kernel": "SoS",
    "nbgrader": {
     "cell_type": "markdown",
     "checksum": "77e10d250e8b88134cdb3bff2f0e08ef",
     "grade": false,
     "grade_id": "c-015",
     "locked": true,
     "schema_version": 3,
     "solution": false,
     "task": false
    }
   },
   "source": [
    "\n",
    "# 4. 複数のスレッドがいる場合\n",
    "* 以下はシェルスクリプトで同時に4個, 3秒間このプロセスを走らせ, 結果はファイル vr.0, vr.1, vr.2, vr.3 に記録したもの\n",
    "* tasksetコマンドですべて同じprocessor (仮想コア) で実行するようにしている\n"
   ]
  },
  {
   "cell_type": "code",
   "execution_count": 15,
   "metadata": {
    "deletable": false,
    "kernel": "Bash",
    "nbgrader": {
     "cell_type": "code",
     "checksum": "8469e73715455876ca548fcf787a8b37",
     "grade": true,
     "grade_id": "p-006",
     "locked": false,
     "points": 1,
     "schema_version": 3,
     "solution": true,
     "task": false
    }
   },
   "outputs": [
    {
     "name": "stdout",
     "output_type": "stream",
     "text": [
      "[1] 156481\n",
      "[2] 156482\n",
      "[3] 156483\n",
      "[4] 156484\n",
      "[1]   Done                    taskset -c 2 ./vruntime_rec 3 > vr.${i}\n",
      "[2]   Done                    taskset -c 2 ./vruntime_rec 3 > vr.${i}\n",
      "[3]-  Done                    taskset -c 2 ./vruntime_rec 3 > vr.${i}\n"
     ]
    }
   ],
   "source": [
    "\n",
    "for i in $(seq 0 3); do\n",
    "  taskset -c 2 ./vruntime_rec 3 > vr.${i} &\n",
    "done\n",
    "wait"
   ]
  },
  {
   "cell_type": "markdown",
   "metadata": {
    "deletable": false,
    "editable": false,
    "kernel": "SoS",
    "nbgrader": {
     "cell_type": "markdown",
     "checksum": "20efc1faa4c04fc1dada39f74a71f9c2",
     "grade": false,
     "grade_id": "c-016",
     "locked": true,
     "schema_version": 3,
     "solution": false,
     "task": false
    }
   },
   "source": [
    "\n",
    "* 実行し終えたら再び可視化せよ\n",
    "* 適切に短い区間を拡大表示するなどして4つのプロセスのvruntimeがどのように増えていくかを観察せよ\n"
   ]
  },
  {
   "cell_type": "code",
   "execution_count": 16,
   "metadata": {
    "kernel": "Python 3 (ipykernel)",
    "nbgrader": {
     "grade": false,
     "grade_id": "c-017",
     "locked": false,
     "schema_version": 3,
     "solution": false,
     "task": false
    }
   },
   "outputs": [
    {
     "name": "stderr",
     "output_type": "stream",
     "text": [
      "/tmp/ipykernel_152069/4012078638.py:38: MatplotlibDeprecationWarning: The get_cmap function was deprecated in Matplotlib 3.7 and will be removed two minor releases later. Use ``matplotlib.colormaps[name]`` or ``matplotlib.colormaps.get_cmap(obj)`` instead.\n",
      "  cmap = plt.cm.get_cmap('RdYlGn', n_procs)\n"
     ]
    },
    {
     "data": {
      "image/png": "[encoded data removed]",
      "text/plain": [
       "<Figure size 640x480 with 1 Axes>"
      ]
     },
     "metadata": {},
     "output_type": "display_data"
    }
   ],
   "source": [
    "vruntime_vis([\"vr.0\", \"vr.1\", \"vr.2\", \"vr.3\"])\n",
    "#vruntime_vis([\"vr.0\", \"vr.1\", \"vr.2\", \"vr.3\"], start_t=1.0, end_t=1.5)"
   ]
  },
  {
   "cell_type": "markdown",
   "metadata": {
    "deletable": false,
    "editable": false,
    "kernel": "SoS",
    "nbgrader": {
     "cell_type": "markdown",
     "checksum": "0ee8d3d99b8dcbaf739177b4280f3974",
     "grade": false,
     "grade_id": "c-018",
     "locked": true,
     "schema_version": 3,
     "solution": false,
     "task": false
    }
   },
   "source": [
    "* なお, プロセス数が多いときにも通用するもう少しスマートな書き方は以下 (これは純粋にPythonの話)"
   ]
  },
  {
   "cell_type": "code",
   "execution_count": 17,
   "metadata": {
    "kernel": "Python 3 (ipykernel)",
    "nbgrader": {
     "grade": false,
     "grade_id": "c-019",
     "locked": false,
     "schema_version": 3,
     "solution": false,
     "task": false
    }
   },
   "outputs": [
    {
     "name": "stderr",
     "output_type": "stream",
     "text": [
      "/tmp/ipykernel_152069/4012078638.py:38: MatplotlibDeprecationWarning: The get_cmap function was deprecated in Matplotlib 3.7 and will be removed two minor releases later. Use ``matplotlib.colormaps[name]`` or ``matplotlib.colormaps.get_cmap(obj)`` instead.\n",
      "  cmap = plt.cm.get_cmap('RdYlGn', n_procs)\n"
     ]
    },
    {
     "data": {
      "image/png": "[encoded data removed]",
      "text/plain": [
       "<Figure size 640x480 with 1 Axes>"
      ]
     },
     "metadata": {},
     "output_type": "display_data"
    }
   ],
   "source": [
    "vruntime_vis([f\"vr.{i}\" for i in range(4)])\n",
    "#vruntime_vis([f\"vr.{i}\" for i in range(4)], start_t=1.0, end_t=1.5)"
   ]
  },
  {
   "cell_type": "markdown",
   "metadata": {
    "deletable": false,
    "editable": false,
    "kernel": "SoS",
    "nbgrader": {
     "cell_type": "markdown",
     "checksum": "46d78a91c531479505ba390a2ba38868",
     "grade": false,
     "grade_id": "c-020",
     "locked": true,
     "schema_version": 3,
     "solution": false,
     "task": false
    }
   },
   "source": [
    "\n",
    "# 5. Blockしている間はvruntimeは増えない\n",
    "* 「vruntimeはCPUを使っていない時間は増えない」ことを確かめるために, 先のプログラムを少し走っては少し休むように変更したものが以下\n",
    "\n",
    "```\n",
    "./vruntime_rec_slp T R S\n",
    "```\n",
    "\n",
    "とすると, 「R秒走ってS秒sleepする」を, 合計T秒間繰り返す\n"
   ]
  },
  {
   "cell_type": "code",
   "execution_count": 18,
   "metadata": {
    "deletable": false,
    "kernel": "Python 3 (ipykernel)",
    "nbgrader": {
     "cell_type": "code",
     "checksum": "e89688118cb9e938781e2c4a555f9d68",
     "grade": true,
     "grade_id": "p-007",
     "locked": false,
     "points": 1,
     "schema_version": 3,
     "solution": true,
     "task": false
    }
   },
   "outputs": [
    {
     "name": "stdout",
     "output_type": "stream",
     "text": [
      "Writing vruntime_rec_slp.c\n"
     ]
    }
   ],
   "source": [
    "\n",
    "%%writefile vruntime_rec_slp.c\n",
    "#define _GNU_SOURCE\n",
    "#include <assert.h>\n",
    "#include <sched.h>\n",
    "#include <time.h>\n",
    "#include <stdio.h>\n",
    "#include <stdlib.h>\n",
    "#include <string.h>\n",
    "#include <unistd.h>\n",
    "\n",
    "/* 時刻 begin -- end まで proc 上で動いていた記録 */\n",
    "typedef struct {\n",
    "  double begin;\n",
    "  double end;\n",
    "  double vruntime;\n",
    "  int proc;\n",
    "} rec_t;\n",
    "\n",
    "/* 現在時刻を得る */\n",
    "double cur_time() {\n",
    "  struct timespec tp[1];\n",
    "  clock_gettime(CLOCK_REALTIME, tp);\n",
    "  return tp->tv_sec + tp->tv_nsec * 1.0e-9;\n",
    "}\n",
    "\n",
    "void sleep_sec(double slp_t) {\n",
    "  struct timespec tp[1];\n",
    "  tp->tv_sec = (long)slp_t;\n",
    "  tp->tv_nsec = (slp_t - (long)slp_t) * 1.0e9;\n",
    "  nanosleep(tp, 0);\n",
    "}\n",
    "\n",
    "double cur_vruntime() {\n",
    "  char buf[100];\n",
    "  char field[100];\n",
    "  double val;\n",
    "  FILE * fp = fopen(\"/proc/self/sched\", \"rb\");\n",
    "  char * r;\n",
    "  int x;\n",
    "  r = fgets(buf, sizeof(buf), fp);\n",
    "  assert(r);\n",
    "  r = fgets(buf, sizeof(buf), fp);\n",
    "  assert(r);\n",
    "  assert(strcmp(\"-------------------------------------------------------------------\\n\",\n",
    "\t\tbuf) == 0);\n",
    "  fseek(fp, 68, SEEK_CUR);\n",
    "  r = fgets(buf, sizeof(buf), fp);\n",
    "  if (!r) {\n",
    "    perror(\"fgets\"); \n",
    "    fclose(fp);\n",
    "    exit(1);\n",
    "  }\n",
    "  fclose(fp);\n",
    "  //printf(\"%s\", buf);\n",
    "  x = sscanf(buf, \"%s : %lf\\n\", field, &val);\n",
    "  assert(x == 2);\n",
    "  assert(strcmp(field, \"se.vruntime\") == 0);\n",
    "  //printf(\"%s=%f\\n\", field, val);\n",
    "  return val;\n",
    "}\n",
    "\n",
    "/* T秒間走り続け, vruntimeの変化を記録する */\n",
    "int run(double T,\n",
    "        double run_t, double slp_t,\n",
    "        long n) {\n",
    "  pid_t pid = getpid();\n",
    "  double limit = cur_time() + T;\n",
    "  rec_t * R = (rec_t *)calloc(n, sizeof(rec_t));\n",
    "  long i = 0;\n",
    "  sleep_sec(slp_t);\n",
    "  double start = R[i].begin = R[i].end = cur_time();\n",
    "  R[i].vruntime = cur_vruntime();\n",
    "  R[i].proc = sched_getcpu();\n",
    "  while (R[i].end < limit && i < n) {\n",
    "    double t = cur_time(); /* 現在時刻を得る */\n",
    "    double vr = cur_vruntime();\n",
    "    int proc = sched_getcpu();\n",
    "    if (vr == R[i].vruntime && proc == R[i].proc) {\n",
    "      /* 最後に見たvruntimeと変化なし */\n",
    "      R[i].end = t;\n",
    "      R[i].vruntime = vr;\n",
    "    } else {\n",
    "      /* vruntimeが変化している -> 新しい区間に入る */\n",
    "      if (i + 1 >= n) break;\n",
    "      i++;\n",
    "      R[i].proc = proc;\n",
    "      R[i].begin = R[i].end = cur_time();\n",
    "      R[i].vruntime = cur_vruntime();\n",
    "    }\n",
    "    if (t > start + run_t) {\n",
    "      sleep_sec(slp_t);\n",
    "      start = cur_time();\n",
    "    }\n",
    "  }\n",
    "  assert(i < n);\n",
    "  int j;\n",
    "  for (j = 0; j <= i; j++) {\n",
    "    printf(\"%d %d %f %f %f %f\\n\", \n",
    "\t   pid, R[j].proc,\n",
    "           R[j].begin, R[j].end, R[j].end - R[j].begin,\n",
    "           R[j].vruntime);\n",
    "  }\n",
    "  return 0;\n",
    "}\n",
    "\n",
    "int main(int argc, char ** argv) {\n",
    "  long i = 1;\n",
    "  double T     = (argc > i ? atof(argv[i]) : 10.0);    i++; /* 合計時間 */\n",
    "  double run_t = (argc > i ? atof(argv[i]) : T);       i++; /* 1回走り続ける時間 */\n",
    "  double slp_t = (argc > i ? atof(argv[i]) : 0);       i++; /* 1回sleepする時間 */\n",
    "  long n       = (argc > i ? atoi(argv[i]) : 1000000); i++;\n",
    "  run(T, run_t, slp_t, n);\n",
    "  return 0;\n",
    "}"
   ]
  },
  {
   "cell_type": "code",
   "execution_count": 19,
   "metadata": {
    "deletable": false,
    "kernel": "Bash",
    "nbgrader": {
     "cell_type": "code",
     "checksum": "3376a6b80e2fef4a94a258573d3a0ebe",
     "grade": true,
     "grade_id": "p-008",
     "locked": false,
     "points": 1,
     "schema_version": 3,
     "solution": true,
     "task": false
    }
   },
   "outputs": [],
   "source": [
    "\n",
    "gcc -Wall -o vruntime_rec_slp vruntime_rec_slp.c"
   ]
  },
  {
   "cell_type": "markdown",
   "metadata": {
    "deletable": false,
    "editable": false,
    "kernel": "SoS",
    "nbgrader": {
     "cell_type": "markdown",
     "checksum": "dbe4add9068e31a363b49f6445d22f1a",
     "grade": false,
     "grade_id": "c-021",
     "locked": true,
     "schema_version": 3,
     "solution": false,
     "task": false
    }
   },
   "source": [
    "* 実行"
   ]
  },
  {
   "cell_type": "code",
   "execution_count": 20,
   "metadata": {
    "deletable": false,
    "kernel": "Bash",
    "nbgrader": {
     "cell_type": "code",
     "checksum": "a35191e20f8aeffa08eb8509ad916629",
     "grade": true,
     "grade_id": "p-009",
     "locked": false,
     "points": 1,
     "schema_version": 3,
     "solution": true,
     "task": false
    }
   },
   "outputs": [],
   "source": [
    "\n",
    "taskset -c 2 ./vruntime_rec_slp 3 0.2 0.1 > vr.0"
   ]
  },
  {
   "cell_type": "markdown",
   "metadata": {
    "deletable": false,
    "editable": false,
    "kernel": "SoS",
    "nbgrader": {
     "cell_type": "markdown",
     "checksum": "3159575a37bcacffc97e55f154589f4e",
     "grade": false,
     "grade_id": "c-022",
     "locked": true,
     "schema_version": 3,
     "solution": false,
     "task": false
    }
   },
   "source": [
    "* vruntime可視化"
   ]
  },
  {
   "cell_type": "code",
   "execution_count": 21,
   "metadata": {
    "kernel": "Python 3 (ipykernel)",
    "nbgrader": {
     "grade": false,
     "grade_id": "c-023",
     "locked": false,
     "schema_version": 3,
     "solution": false,
     "task": false
    }
   },
   "outputs": [
    {
     "name": "stderr",
     "output_type": "stream",
     "text": [
      "/tmp/ipykernel_152069/4012078638.py:38: MatplotlibDeprecationWarning: The get_cmap function was deprecated in Matplotlib 3.7 and will be removed two minor releases later. Use ``matplotlib.colormaps[name]`` or ``matplotlib.colormaps.get_cmap(obj)`` instead.\n",
      "  cmap = plt.cm.get_cmap('RdYlGn', n_procs)\n"
     ]
    },
    {
     "data": {
      "image/png": "[encoded data removed]",
      "text/plain": [
       "<Figure size 640x480 with 1 Axes>"
      ]
     },
     "metadata": {},
     "output_type": "display_data"
    }
   ],
   "source": [
    "vruntime_vis([\"vr.0\"])\n",
    "#vruntime_vis([\"vr.0\"], start_t=1.0, end_t=1.5)"
   ]
  },
  {
   "cell_type": "markdown",
   "metadata": {
    "deletable": false,
    "editable": false,
    "kernel": "SoS",
    "nbgrader": {
     "cell_type": "markdown",
     "checksum": "bbedc55cc525eea3fd13af4f7921423b",
     "grade": false,
     "grade_id": "c-024",
     "locked": true,
     "schema_version": 3,
     "solution": false,
     "task": false
    }
   },
   "source": [
    "\n",
    "* ずっとCPUを使っているスレッドの傍ら, 少し走っては少しsleepを繰り返すスレッドがいた場合, 後者がsleepから目覚めたときのvruntimeには何が起きているか\n",
    "* 以下は\n",
    "  * 0.2秒走って0.1秒sleep する (./vruntime_rec_slp 3 0.2 0.1) を1つと\n",
    "  * ずっと走る (./vruntime_rec_slp 3 3 0) を3つ\n",
    "同時に走らせる\n"
   ]
  },
  {
   "cell_type": "code",
   "execution_count": 22,
   "metadata": {
    "kernel": "Bash",
    "nbgrader": {
     "grade": false,
     "grade_id": "c-025",
     "locked": false,
     "schema_version": 3,
     "solution": false,
     "task": false
    }
   },
   "outputs": [
    {
     "name": "stdout",
     "output_type": "stream",
     "text": [
      "[1] 157053\n",
      "[2] 157054\n",
      "[3] 157055\n",
      "[4] 157056\n",
      "[1]   Done                    if [ ${i} = 0 ]; then\n",
      "    taskset -c 2 ./vruntime_rec_slp 3 0.2 0.1;\n",
      "else\n",
      "    taskset -c 2 ./vruntime_rec_slp 3 3 0;\n",
      "fi > vr.${i}\n",
      "[2]   Done                    if [ ${i} = 0 ]; then\n",
      "    taskset -c 2 ./vruntime_rec_slp 3 0.2 0.1;\n",
      "else\n",
      "    taskset -c 2 ./vruntime_rec_slp 3 3 0;\n",
      "fi > vr.${i}\n",
      "[3]-  Done                    if [ ${i} = 0 ]; then\n",
      "    taskset -c 2 ./vruntime_rec_slp 3 0.2 0.1;\n",
      "else\n",
      "    taskset -c 2 ./vruntime_rec_slp 3 3 0;\n",
      "fi > vr.${i}\n",
      "[4]+  Done                    if [ ${i} = 0 ]; then\n",
      "    taskset -c 2 ./vruntime_rec_slp 3 0.2 0.1;\n",
      "else\n",
      "    taskset -c 2 ./vruntime_rec_slp 3 3 0;\n",
      "fi > vr.${i}\n"
     ]
    }
   ],
   "source": [
    "for i in $(seq 0 3); do\n",
    "  if [ ${i} = 0 ]; then\n",
    "    taskset -c 2 ./vruntime_rec_slp 3 0.2 0.1 ;\n",
    "  else\n",
    "    taskset -c 2 ./vruntime_rec_slp 3 3 0 ;\n",
    "  fi > vr.${i} &\n",
    "done\n",
    "wait"
   ]
  },
  {
   "cell_type": "markdown",
   "metadata": {
    "deletable": false,
    "editable": false,
    "kernel": "SoS",
    "nbgrader": {
     "cell_type": "markdown",
     "checksum": "cf029c59fef3ba498e1cd31ca98ea0c0",
     "grade": false,
     "grade_id": "c-026",
     "locked": true,
     "schema_version": 3,
     "solution": false,
     "task": false
    }
   },
   "source": [
    "* 可視化"
   ]
  },
  {
   "cell_type": "code",
   "execution_count": 23,
   "metadata": {
    "kernel": "Python 3 (ipykernel)",
    "nbgrader": {
     "grade": false,
     "grade_id": "c-027",
     "locked": false,
     "schema_version": 3,
     "solution": false,
     "task": false
    }
   },
   "outputs": [
    {
     "name": "stderr",
     "output_type": "stream",
     "text": [
      "/tmp/ipykernel_152069/4012078638.py:38: MatplotlibDeprecationWarning: The get_cmap function was deprecated in Matplotlib 3.7 and will be removed two minor releases later. Use ``matplotlib.colormaps[name]`` or ``matplotlib.colormaps.get_cmap(obj)`` instead.\n",
      "  cmap = plt.cm.get_cmap('RdYlGn', n_procs)\n"
     ]
    },
    {
     "data": {
      "image/png": "[encoded data removed]",
      "text/plain": [
       "<Figure size 640x480 with 1 Axes>"
      ]
     },
     "metadata": {},
     "output_type": "display_data"
    }
   ],
   "source": [
    "vruntime_vis([f\"vr.{i}\" for i in range(4)])\n",
    "#vruntime_vis([f\"vr.{i}\" for i in range(4)], start_t=1.0, end_t=1.5)"
   ]
  },
  {
   "cell_type": "markdown",
   "metadata": {
    "deletable": false,
    "editable": false,
    "kernel": "SoS",
    "nbgrader": {
     "cell_type": "markdown",
     "checksum": "db07f5c2d646e17fb5383515768392d5",
     "grade": false,
     "grade_id": "c-028",
     "locked": true,
     "schema_version": 3,
     "solution": false,
     "task": false
    }
   },
   "source": [
    "# 6. niceの効果\n",
    "* niceというコマンドならびにシステムコールがある\n",
    "* プロセスの「nice値」を決めるもので, nice値が高い = 他のプロセスに実行をよく譲る(だからnice) = 優先度を非掬するというもの\n",
    "\n",
    "```\n",
    "nice -19 コマンド\n",
    "```\n",
    "\n",
    "は「コマンド」の「nice値」を19 (最大)にする. 同名のシステムコールもある.\n",
    "\n",
    "* デフォルトのnice値は0. 正の値は多少なりとも優先度を下げるという意味になる\n",
    "\n",
    "* nice値大きいプロセスと普通のプロセスが並走すると, ほとんどの時間を後者が消費するようになる\n",
    "\n",
    "* CFSスケジューラでniceがどのように実現されているのかをvruntimeを観測することで考えてみよ"
   ]
  },
  {
   "cell_type": "code",
   "execution_count": 24,
   "metadata": {
    "kernel": "Bash",
    "nbgrader": {
     "grade": false,
     "grade_id": "c-029",
     "locked": false,
     "schema_version": 3,
     "solution": false,
     "task": false
    }
   },
   "outputs": [
    {
     "name": "stdout",
     "output_type": "stream",
     "text": [
      "[1] 157255\n",
      "[2] 157256\n",
      "[3] 157257\n",
      "[4] 157258\n",
      "[1]   Done                    if [ ${i} = 0 ]; then\n",
      "    taskset -c 2 nice -5 ./vruntime_rec 3;\n",
      "else\n",
      "    taskset -c 2 ./vruntime_rec 3;\n",
      "fi > vr.${i}\n",
      "[4]+  Done                    if [ ${i} = 0 ]; then\n",
      "    taskset -c 2 nice -5 ./vruntime_rec 3;\n",
      "else\n",
      "    taskset -c 2 ./vruntime_rec 3;\n",
      "fi > vr.${i}\n",
      "[2]-  Done                    if [ ${i} = 0 ]; then\n",
      "    taskset -c 2 nice -5 ./vruntime_rec 3;\n",
      "else\n",
      "    taskset -c 2 ./vruntime_rec 3;\n",
      "fi > vr.${i}\n",
      "[3]+  Done                    if [ ${i} = 0 ]; then\n",
      "    taskset -c 2 nice -5 ./vruntime_rec 3;\n",
      "else\n",
      "    taskset -c 2 ./vruntime_rec 3;\n",
      "fi > vr.${i}\n"
     ]
    }
   ],
   "source": [
    "for i in $(seq 0 3); do\n",
    "  if [ ${i} = 0 ]; then\n",
    "    taskset -c 2 nice -5 ./vruntime_rec 3 ;\n",
    "  else\n",
    "    taskset -c 2 ./vruntime_rec 3 ;\n",
    "  fi > vr.${i} &\n",
    "done\n",
    "wait"
   ]
  },
  {
   "cell_type": "code",
   "execution_count": 25,
   "metadata": {
    "kernel": "Python 3 (ipykernel)",
    "nbgrader": {
     "grade": false,
     "grade_id": "c-030",
     "locked": false,
     "schema_version": 3,
     "solution": false,
     "task": false
    }
   },
   "outputs": [
    {
     "name": "stderr",
     "output_type": "stream",
     "text": [
      "/tmp/ipykernel_152069/4012078638.py:38: MatplotlibDeprecationWarning: The get_cmap function was deprecated in Matplotlib 3.7 and will be removed two minor releases later. Use ``matplotlib.colormaps[name]`` or ``matplotlib.colormaps.get_cmap(obj)`` instead.\n",
      "  cmap = plt.cm.get_cmap('RdYlGn', n_procs)\n"
     ]
    },
    {
     "data": {
      "image/png": "[encoded data removed]",
      "text/plain": [
       "<Figure size 640x480 with 1 Axes>"
      ]
     },
     "metadata": {},
     "output_type": "display_data"
    }
   ],
   "source": [
    "vruntime_vis([f\"vr.{i}\" for i in range(4)])\n",
    "#vruntime_vis([f\"vr.{i}\" for i in range(4)], start_t=1.0, end_t=1.5)"
   ]
  }
 ],
 "metadata": {
  "kernelspec": {
   "display_name": "SoS",
   "language": "sos",
   "name": "sos"
  },
  "language_info": {
   "codemirror_mode": "sos",
   "file_extension": ".sos",
   "mimetype": "text/x-sos",
   "name": "sos",
   "nbconvert_exporter": "sos_notebook.converter.SoS_Exporter",
   "pygments_lexer": "sos"
  },
  "sos": {
   "kernels": [
    [
     "Bash",
     "bash",
     "bash",
     "",
     "shell"
    ],
    [
     "C",
     "c_kernel",
     "c",
     "",
     ""
    ],
    [
     "Go",
     "gophernotes",
     "go",
     "",
     ""
    ],
    [
     "Julia 1.8.5",
     "julia-1.8",
     "julia",
     "",
     ""
    ],
    [
     "OCaml default",
     "ocaml-jupyter",
     "OCaml",
     "",
     "text/x-ocaml"
    ],
    [
     "Python 3 (ipykernel)",
     "python3",
     "python3",
     "",
     {
      "name": "ipython",
      "version": 3
     }
    ],
    [
     "Rust",
     "rust",
     "rust",
     "",
     ""
    ]
   ],
   "panel": {
    "displayed": true,
    "height": 0
   },
   "version": "0.23.3"
  }
 },
 "nbformat": 4,
 "nbformat_minor": 4
}
