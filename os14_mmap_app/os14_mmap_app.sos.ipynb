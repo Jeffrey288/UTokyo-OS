{
 "cells": [
  {
   "cell_type": "markdown",
   "metadata": {
    "deletable": false,
    "editable": false,
    "kernel": "SoS",
    "nbgrader": {
     "cell_type": "markdown",
     "checksum": "8666c7e0c011897988d4512d06446cab",
     "grade": false,
     "grade_id": "c-001",
     "locked": true,
     "schema_version": 3,
     "solution": false,
     "task": false
    }
   },
   "source": [
    "# 1. オペレーティングシステム 演習 14\n",
    "#  mmapの課題"
   ]
  },
  {
   "cell_type": "markdown",
   "metadata": {
    "kernel": "SoS",
    "nbgrader": {
     "grade": false,
     "grade_id": "c-002",
     "locked": false,
     "schema_version": 3,
     "solution": false,
     "task": false
    }
   },
   "source": [
    "名前と学生証番号を書け. Enter your name and student ID.\n",
    "\n",
    " * 名前 Name: Hartanto Kwee Jeffrey\n",
    " * 学生証番号 Student ID: 7V239416"
   ]
  },
  {
   "cell_type": "markdown",
   "metadata": {
    "deletable": false,
    "editable": false,
    "kernel": "SoS",
    "nbgrader": {
     "cell_type": "markdown",
     "checksum": "ef9261fd7b83676bd766684111e34f09",
     "grade": false,
     "grade_id": "c-003",
     "locked": true,
     "schema_version": 3,
     "solution": false,
     "task": false
    }
   },
   "source": [
    "# 2. mmapを利用した高速な検索\n",
    "* 整列された配列の2分探索をするbsearchというライブラリ関数がある(man bsearch参照)\n",
    "* 以下は使用例 (配列aが昇順に整列されていることに注意)"
   ]
  },
  {
   "cell_type": "code",
   "execution_count": 10,
   "metadata": {
    "kernel": "Python 3 (ipykernel)",
    "nbgrader": {
     "grade": false,
     "grade_id": "c-004",
     "locked": false,
     "schema_version": 3,
     "solution": false,
     "task": false
    }
   },
   "outputs": [
    {
     "name": "stdout",
     "output_type": "stream",
     "text": [
      "Overwriting bsearch.c\n"
     ]
    }
   ],
   "source": [
    "%%writefile bsearch.c\n",
    "#include <stdio.h>\n",
    "#include <stdlib.h>\n",
    "\n",
    "int compare_int(const void * a_, const void * b_) {\n",
    "  const int * a = a_;\n",
    "  const int * b = b_;\n",
    "  return *a - *b;\n",
    "}\n",
    "\n",
    "int main(int argc, char ** argv) {\n",
    "  int key = (argc > 1 ? atoi(argv[1]) : 100);\n",
    "  int a[] = { 100, 200, 300, 400, 500 };\n",
    "  int n = sizeof(a) / sizeof(a[0]);\n",
    "  int * found = bsearch(&key, a, n, sizeof(int), compare_int);\n",
    "  if (found) {\n",
    "    printf(\"%d found at %ld-th element\\n\", key, found - a);\n",
    "  } else {\n",
    "    printf(\"%d not found\\n\", key);\n",
    "  }\n",
    "  return 0;\n",
    "}"
   ]
  },
  {
   "cell_type": "code",
   "execution_count": 11,
   "metadata": {
    "kernel": "Bash",
    "nbgrader": {
     "grade": false,
     "grade_id": "c-005",
     "locked": false,
     "schema_version": 3,
     "solution": false,
     "task": false
    }
   },
   "outputs": [],
   "source": [
    "gcc -o bsearch -O3 -Wall bsearch.c"
   ]
  },
  {
   "cell_type": "markdown",
   "metadata": {
    "deletable": false,
    "editable": false,
    "kernel": "SoS",
    "nbgrader": {
     "cell_type": "markdown",
     "checksum": "be0df905b26e9e373351e2593f310045",
     "grade": false,
     "grade_id": "c-006",
     "locked": true,
     "schema_version": 3,
     "solution": false,
     "task": false
    }
   },
   "source": [
    "* 実行例"
   ]
  },
  {
   "cell_type": "code",
   "execution_count": 12,
   "metadata": {
    "kernel": "Bash",
    "nbgrader": {
     "grade": false,
     "grade_id": "c-007",
     "locked": false,
     "schema_version": 3,
     "solution": false,
     "task": false
    }
   },
   "outputs": [
    {
     "name": "stdout",
     "output_type": "stream",
     "text": [
      "100 found at 0-th element\n",
      "200 found at 1-th element\n",
      "400 found at 3-th element\n",
      "390 not found\n"
     ]
    }
   ],
   "source": [
    "./bsearch 100\n",
    "./bsearch 200\n",
    "./bsearch 400\n",
    "./bsearch 390"
   ]
  },
  {
   "cell_type": "markdown",
   "metadata": {
    "deletable": false,
    "editable": false,
    "kernel": "SoS",
    "nbgrader": {
     "cell_type": "markdown",
     "checksum": "0fb601e7e821a859ff275f1aa8af3266",
     "grade": false,
     "grade_id": "c-008",
     "locked": true,
     "schema_version": 3,
     "solution": false,
     "task": false
    }
   },
   "source": [
    "* 以下で, 多数の32 bit整数が隙間なく, 256M個, 昇順に整列されたファイルを作る (512MB)"
   ]
  },
  {
   "cell_type": "code",
   "execution_count": 1,
   "metadata": {
    "kernel": "Python 3 (ipykernel)",
    "nbgrader": {
     "grade": false,
     "grade_id": "c-009",
     "locked": false,
     "schema_version": 3,
     "solution": false,
     "task": false
    }
   },
   "outputs": [],
   "source": [
    "#!/usr/bin/python3\n",
    "import os\n",
    "import sys\n",
    "import getpass\n",
    "import numpy as np\n",
    "\n",
    "def mk_sorted_file(filename, size):\n",
    "    assert(size <= 1024 * 1024 * 1024), \"don't make it > 4GB\"\n",
    "    rg = np.random.RandomState()\n",
    "    rg.seed(1234)\n",
    "    gap = 1024 * 1024 * 1024 / size\n",
    "    a = rg.randint(0, gap, size=size, dtype=np.uint32)\n",
    "    s = 0\n",
    "    for i in range(size):\n",
    "        s += a[i]\n",
    "        a[i] = s\n",
    "    dirname = os.path.dirname(filename)\n",
    "    if dirname == \"\":\n",
    "        dirname = \".\"\n",
    "    os.makedirs(dirname, exist_ok=True)\n",
    "    with open(filename, \"wb\") as wp:\n",
    "        a.tofile(wp)\n",
    "\n",
    "def main():\n",
    "    filename = sys.argv[1]\n",
    "    sz = int(sys.argv[2])\n",
    "    mk_sorted_file(filename, sz)\n",
    "        \n",
    "if sys.argv[0].endswith(\"mk_sorted_file.py\"):\n",
    "    main()\n"
   ]
  },
  {
   "cell_type": "markdown",
   "metadata": {
    "deletable": false,
    "editable": false,
    "kernel": "SoS",
    "nbgrader": {
     "cell_type": "markdown",
     "checksum": "d93170da1740dd4913fc783f64c4116a",
     "grade": false,
     "grade_id": "c-010",
     "locked": true,
     "schema_version": 3,
     "solution": false,
     "task": false
    }
   },
   "source": [
    "* 多少(20秒くらい)かかるが気長に待つ"
   ]
  },
  {
   "cell_type": "code",
   "execution_count": 2,
   "metadata": {
    "kernel": "Python 3 (ipykernel)",
    "nbgrader": {
     "grade": false,
     "grade_id": "c-011",
     "locked": false,
     "schema_version": 3,
     "solution": false,
     "task": false
    }
   },
   "outputs": [],
   "source": [
    "n = 256 * 1024 * 1024\n",
    "mk_sorted_file(\"sorted.bin\", n)"
   ]
  },
  {
   "cell_type": "markdown",
   "metadata": {
    "deletable": false,
    "editable": false,
    "kernel": "SoS",
    "nbgrader": {
     "cell_type": "markdown",
     "checksum": "5f96328cf222a7336a245b8de74dca8a",
     "grade": false,
     "grade_id": "c-012",
     "locked": true,
     "schema_version": 3,
     "solution": false,
     "task": false
    }
   },
   "source": [
    "* 確認"
   ]
  },
  {
   "cell_type": "code",
   "execution_count": 15,
   "metadata": {
    "kernel": "Bash",
    "nbgrader": {
     "grade": false,
     "grade_id": "c-013",
     "locked": false,
     "schema_version": 3,
     "solution": false,
     "task": false
    }
   },
   "outputs": [
    {
     "name": "stdout",
     "output_type": "stream",
     "text": [
      "-rw-r--r-- 1 u23391 u23391 1073741824 Jan  5 22:15 sorted.bin\n"
     ]
    }
   ],
   "source": [
    "ls -l sorted.bin"
   ]
  },
  {
   "cell_type": "markdown",
   "metadata": {
    "deletable": false,
    "editable": false,
    "kernel": "SoS",
    "nbgrader": {
     "cell_type": "markdown",
     "checksum": "5f93699086831069a321be7b7c409fa4",
     "grade": false,
     "grade_id": "c-014",
     "locked": true,
     "schema_version": 3,
     "solution": false,
     "task": false
    }
   },
   "source": [
    "# <font color=\"green\"> Problem 1 :  mmapの有効な利用</font>"
   ]
  },
  {
   "cell_type": "markdown",
   "metadata": {
    "deletable": false,
    "editable": false,
    "kernel": "SoS",
    "nbgrader": {
     "cell_type": "markdown",
     "checksum": "6279e62ae47059ad9eaf2ecad05b5dda",
     "grade": false,
     "grade_id": "c-015",
     "locked": true,
     "schema_version": 3,
     "solution": false,
     "task": false
    }
   },
   "source": [
    "* ファイル名と検索したい整数Kを与えられ, その整数がファイル中にあれば,\n",
    "```\n",
    "193659 found at 25850-th element\n",
    "```\n",
    "のように, その数(193659)がファイル中の何番目(最初の数を0-th elementとする)であるかを表示し, なければ,\n",
    "```\n",
    "19365 not found\n",
    "```\n",
    "のように, ないと答えるプログラムを, mmapをbsearchを有効に用いて書け\n",
    "* マニュアルページなどを参照しながら必要な ヘッダファイルを #include して, 一から書いてみよ"
   ]
  },
  {
   "cell_type": "code",
   "execution_count": 16,
   "metadata": {
    "deletable": false,
    "kernel": "Python 3 (ipykernel)",
    "nbgrader": {
     "cell_type": "code",
     "checksum": "c0be8362155c64826259af941745e8bf",
     "grade": true,
     "grade_id": "p-001",
     "locked": false,
     "points": 1,
     "schema_version": 3,
     "solution": true,
     "task": false
    }
   },
   "outputs": [
    {
     "name": "stdout",
     "output_type": "stream",
     "text": [
      "Overwriting mmap_bsearch.c\n"
     ]
    }
   ],
   "source": [
    "\n",
    "%%writefile mmap_bsearch.c\n",
    "#include <stdio.h>\n",
    "#include <stdlib.h>\n",
    "#include <fcntl.h>\n",
    "#include <sys/stat.h>\n",
    "#include <sys/mman.h>\n",
    "#include <err.h>\n",
    "\n",
    "int compare_int(const void * a_, const void * b_) {\n",
    "  const int * a = a_;\n",
    "  const int * b = b_;\n",
    "  return *a - *b;\n",
    "}\n",
    "\n",
    "int main(int argc, char ** argv) {\n",
    "  // https://stackoverflow.com/questions/43674522/how-is-char-to-string-literal-valid\n",
    "  char * filename = (argc > 1 ? argv[1] : \"sorted.bin\");\n",
    "  int key = (argc > 2 ? atoi(argv[2]) : 100);\n",
    "  // int key = 362382304;\n",
    "  int fd = open(filename, O_RDONLY);\n",
    "  struct stat st;\n",
    "  fstat(fd, &st);\n",
    "  int fd_size = st.st_size;\n",
    "  // printf(\"%d\\n\", fd_size);\n",
    "  int num_numbers = fd_size / sizeof(int); // divide by 4\n",
    "  if (num_numbers != 256 * 1024 * 1024) err(-1, \"num_numbers\");\n",
    "\n",
    "  int* a = mmap(0, fd_size, PROT_READ, MAP_SHARED, fd, 0);\n",
    "  if (a == MAP_FAILED) err(1, \"mmap\");\n",
    "\n",
    "  int* found = bsearch(&key, a, num_numbers, sizeof(int), compare_int);\n",
    "  if (found) {\n",
    "    printf(\"%d found at %ld-th element\\n\", key, found - a);\n",
    "  } else {\n",
    "    printf(\"%d not found\\n\", key);\n",
    "  }\n",
    "  return 0;\n",
    "}"
   ]
  },
  {
   "cell_type": "code",
   "execution_count": 17,
   "metadata": {
    "kernel": "Bash",
    "nbgrader": {
     "grade": false,
     "grade_id": "c-016",
     "locked": false,
     "schema_version": 3,
     "solution": false,
     "task": false
    }
   },
   "outputs": [],
   "source": [
    "gcc -o mmap_bsearch -Wall -O3 mmap_bsearch.c"
   ]
  },
  {
   "cell_type": "markdown",
   "metadata": {
    "deletable": false,
    "editable": false,
    "kernel": "SoS",
    "nbgrader": {
     "cell_type": "markdown",
     "checksum": "d3869c321e5cb34c6701d2853b8f94c8",
     "grade": false,
     "grade_id": "c-017",
     "locked": true,
     "schema_version": 3,
     "solution": false,
     "task": false
    }
   },
   "source": [
    "* テスト"
   ]
  },
  {
   "cell_type": "code",
   "execution_count": 4,
   "metadata": {
    "kernel": "Bash",
    "nbgrader": {
     "grade": false,
     "grade_id": "c-018",
     "locked": false,
     "schema_version": 3,
     "solution": false,
     "task": false
    }
   },
   "outputs": [
    {
     "name": "stdout",
     "output_type": "stream",
     "text": [
      "362382304 found at 241618944-th element\n",
      "0.00user 0.00system 0:00.01elapsed 30%CPU (0avgtext+0avgdata 2452maxresident)k\n",
      "3328inputs+0outputs (13major+72minor)pagefaults 0swaps\n",
      "OK\n",
      "322162113 found at 214802432-th element\n",
      "0.00user 0.00system 0:00.00elapsed 25%CPU (0avgtext+0avgdata 2564maxresident)k\n",
      "2560inputs+0outputs (11major+75minor)pagefaults 0swaps\n",
      "OK\n",
      "281936687 found at 187985920-th element\n",
      "0.00user 0.00system 0:00.00elapsed 25%CPU (0avgtext+0avgdata 2500maxresident)k\n",
      "2816inputs+0outputs (11major+75minor)pagefaults 0swaps\n",
      "OK\n",
      "241713801 found at 161169408-th element\n",
      "0.00user 0.00system 0:00.00elapsed 33%CPU (0avgtext+0avgdata 2424maxresident)k\n",
      "2560inputs+0outputs (10major+75minor)pagefaults 0swaps\n",
      "OK\n",
      "362382307 not found\n",
      "0.00user 0.00system 0:00.00elapsed 50%CPU (0avgtext+0avgdata 2464maxresident)k\n",
      "0inputs+0outputs (0major+85minor)pagefaults 0swaps\n",
      "OK\n",
      "322162115 not found\n",
      "0.00user 0.00system 0:00.00elapsed 66%CPU (0avgtext+0avgdata 2452maxresident)k\n",
      "0inputs+0outputs (0major+86minor)pagefaults 0swaps\n",
      "OK\n",
      "281936688 not found\n",
      "0.00user 0.00system 0:00.00elapsed 0%CPU (0avgtext+0avgdata 2520maxresident)k\n",
      "0inputs+0outputs (0major+86minor)pagefaults 0swaps\n",
      "OK\n",
      "241713802 not found\n",
      "0.00user 0.00system 0:00.00elapsed 50%CPU (0avgtext+0avgdata 2480maxresident)k\n",
      "0inputs+0outputs (0major+86minor)pagefaults 0swaps\n",
      "OK\n"
     ]
    }
   ],
   "source": [
    "data=sorted.bin\n",
    "if /usr/bin/time ./mmap_bsearch ${data} 362382304 | grep \"362382304 found at 241618944-th element\" ; then echo OK ; else echo NG ; fi\n",
    "if /usr/bin/time ./mmap_bsearch ${data} 322162113 | grep \"322162113 found at 214802432-th element\" ; then echo OK ; else echo NG ; fi\n",
    "if /usr/bin/time ./mmap_bsearch ${data} 281936687 | grep \"281936687 found at 187985920-th element\" ; then echo OK ; else echo NG ; fi\n",
    "if /usr/bin/time ./mmap_bsearch ${data} 241713801 | grep \"241713801 found at 161169408-th element\" ; then echo OK ; else echo NG ; fi\n",
    "if /usr/bin/time ./mmap_bsearch ${data} 362382307 | grep \"362382307 not found\" ; then echo OK ; else echo NG ; fi\n",
    "if /usr/bin/time ./mmap_bsearch ${data} 322162115 | grep \"322162115 not found\" ; then echo OK ; else echo NG ; fi\n",
    "if /usr/bin/time ./mmap_bsearch ${data} 281936688 | grep \"281936688 not found\" ; then echo OK ; else echo NG ; fi\n",
    "if /usr/bin/time ./mmap_bsearch ${data} 241713802 | grep \"241713802 not found\" ; then echo OK ; else echo NG ; fi"
   ]
  },
  {
   "cell_type": "markdown",
   "metadata": {
    "deletable": false,
    "editable": false,
    "kernel": "SoS",
    "nbgrader": {
     "cell_type": "markdown",
     "checksum": "a4600b90ea021e69bad394e2ce13ed14",
     "grade": false,
     "grade_id": "c-019",
     "locked": true,
     "schema_version": 3,
     "solution": false,
     "task": false
    }
   },
   "source": [
    "# <font color=\"green\"> Problem 2 :  readで2分探索</font>"
   ]
  },
  {
   "cell_type": "markdown",
   "metadata": {
    "deletable": false,
    "editable": false,
    "kernel": "SoS",
    "nbgrader": {
     "cell_type": "markdown",
     "checksum": "ec5b774b98e4751a9473d149a4c109b0",
     "grade": false,
     "grade_id": "c-020",
     "locked": true,
     "schema_version": 3,
     "solution": false,
     "task": false
    }
   },
   "source": [
    "同じ仕様のプログラムを, 「read関数でファイルを大きな配列に全て読み込み, その配列をbsearchで探索する」という方法でも実装せよ"
   ]
  },
  {
   "cell_type": "code",
   "execution_count": 77,
   "metadata": {
    "deletable": false,
    "kernel": "Python 3 (ipykernel)",
    "nbgrader": {
     "cell_type": "code",
     "checksum": "e593f61ff86d24a507aa17ef6d47954d",
     "grade": true,
     "grade_id": "p-002",
     "locked": false,
     "points": 1,
     "schema_version": 3,
     "solution": true,
     "task": false
    }
   },
   "outputs": [
    {
     "name": "stdout",
     "output_type": "stream",
     "text": [
      "Overwriting read_bsearch.c\n"
     ]
    }
   ],
   "source": [
    "\n",
    "%%writefile read_bsearch.c\n",
    "#include <stdio.h>\n",
    "#include <stdlib.h>\n",
    "#include <fcntl.h>\n",
    "#include <sys/stat.h>\n",
    "#include <sys/mman.h>\n",
    "#include <err.h>\n",
    "#include <unistd.h>\n",
    "\n",
    "int compare_int(const void * a_, const void * b_) {\n",
    "  const int * a = a_;\n",
    "  const int * b = b_;\n",
    "  return *a - *b;\n",
    "}\n",
    "\n",
    "int main(int argc, char ** argv) {\n",
    "  char * filename = (argc > 1 ? argv[1] : \"sorted.bin\");\n",
    "  int key = (argc > 2 ? atoi(argv[2]) : 100);\n",
    "\n",
    "  int fd = open(filename, O_RDONLY);\n",
    "  struct stat st;\n",
    "  fstat(fd, &st);\n",
    "  int fd_size = st.st_size;\n",
    "  int num_numbers = fd_size / sizeof(int); // divide by 4\n",
    "  if (num_numbers != 256 * 1024 * 1024) err(-1, \"num_numbers\");\n",
    "\n",
    "  // Allocate memory dynamically using mmap\n",
    "  int* a = mmap(0, fd_size, PROT_READ|PROT_WRITE, MAP_PRIVATE|MAP_ANONYMOUS, -1, 0);\n",
    "  if (a == MAP_FAILED) err(-1, \"mmap\");\n",
    "  // int a[256 * 1024 * 1024]; // will segfault\n",
    "\n",
    "  // Read from the file\n",
    "  if (read(fd, a, fd_size) == -1) err(-1, \"read\");\n",
    "\n",
    "  int* found = bsearch(&key, a, num_numbers, sizeof(int), compare_int);\n",
    "  if (found) {\n",
    "    printf(\"%d found at %ld-th element\\n\", key, found - a);\n",
    "  } else {\n",
    "    printf(\"%d not found\\n\", key);\n",
    "  }\n",
    "\n",
    "  return 0;\n",
    "}"
   ]
  },
  {
   "cell_type": "code",
   "execution_count": 78,
   "metadata": {
    "kernel": "Bash",
    "nbgrader": {
     "grade": false,
     "grade_id": "c-021",
     "locked": false,
     "schema_version": 3,
     "solution": false,
     "task": false
    }
   },
   "outputs": [],
   "source": [
    "gcc -o read_bsearch -Wall -O3 read_bsearch.c"
   ]
  },
  {
   "cell_type": "code",
   "execution_count": 6,
   "metadata": {
    "kernel": "Bash",
    "nbgrader": {
     "grade": false,
     "grade_id": "c-022",
     "locked": false,
     "schema_version": 3,
     "solution": false,
     "task": false
    }
   },
   "outputs": [
    {
     "name": "stdout",
     "output_type": "stream",
     "text": [
      "362382304 found at 241618944-th element\n",
      "0.00user 0.85system 0:00.86elapsed 98%CPU (0avgtext+0avgdata 1050184maxresident)k\n",
      "2097152inputs+0outputs (0major+262215minor)pagefaults 0swaps\n",
      "OK\n",
      "322162113 found at 214802432-th element\n",
      "0.00user 0.55system 0:00.55elapsed 99%CPU (0avgtext+0avgdata 1050276maxresident)k\n",
      "0inputs+0outputs (0major+262217minor)pagefaults 0swaps\n",
      "OK\n",
      "281936687 found at 187985920-th element\n",
      "0.00user 0.52system 0:00.52elapsed 99%CPU (0avgtext+0avgdata 1050200maxresident)k\n",
      "0inputs+0outputs (0major+262215minor)pagefaults 0swaps\n",
      "OK\n",
      "241713801 found at 161169408-th element\n",
      "0.00user 0.53system 0:00.53elapsed 99%CPU (0avgtext+0avgdata 1050248maxresident)k\n",
      "0inputs+0outputs (0major+262216minor)pagefaults 0swaps\n",
      "OK\n",
      "362382307 not found\n",
      "0.00user 0.50system 0:00.50elapsed 99%CPU (0avgtext+0avgdata 1050236maxresident)k\n",
      "0inputs+0outputs (0major+262216minor)pagefaults 0swaps\n",
      "OK\n",
      "322162115 not found\n",
      "0.00user 0.51system 0:00.51elapsed 99%CPU (0avgtext+0avgdata 1050232maxresident)k\n",
      "0inputs+0outputs (0major+262216minor)pagefaults 0swaps\n",
      "OK\n",
      "281936688 not found\n",
      "0.00user 0.50system 0:00.50elapsed 100%CPU (0avgtext+0avgdata 1050216maxresident)k\n",
      "0inputs+0outputs (0major+262215minor)pagefaults 0swaps\n",
      "OK\n",
      "241713802 not found\n",
      "0.00user 0.51system 0:00.51elapsed 99%CPU (0avgtext+0avgdata 1050244maxresident)k\n",
      "0inputs+0outputs (0major+262217minor)pagefaults 0swaps\n",
      "OK\n"
     ]
    }
   ],
   "source": [
    "data=sorted.bin\n",
    "if /usr/bin/time ./read_bsearch ${data} 362382304 | grep \"362382304 found at 241618944-th element\" ; then echo OK ; else echo NG ; fi\n",
    "if /usr/bin/time ./read_bsearch ${data} 322162113 | grep \"322162113 found at 214802432-th element\" ; then echo OK ; else echo NG ; fi\n",
    "if /usr/bin/time ./read_bsearch ${data} 281936687 | grep \"281936687 found at 187985920-th element\" ; then echo OK ; else echo NG ; fi\n",
    "if /usr/bin/time ./read_bsearch ${data} 241713801 | grep \"241713801 found at 161169408-th element\" ; then echo OK ; else echo NG ; fi\n",
    "if /usr/bin/time ./read_bsearch ${data} 362382307 | grep \"362382307 not found\" ; then echo OK ; else echo NG ; fi\n",
    "if /usr/bin/time ./read_bsearch ${data} 322162115 | grep \"322162115 not found\" ; then echo OK ; else echo NG ; fi\n",
    "if /usr/bin/time ./read_bsearch ${data} 281936688 | grep \"281936688 not found\" ; then echo OK ; else echo NG ; fi\n",
    "if /usr/bin/time ./read_bsearch ${data} 241713802 | grep \"241713802 not found\" ; then echo OK ; else echo NG ; fi"
   ]
  },
  {
   "cell_type": "markdown",
   "metadata": {
    "deletable": false,
    "editable": false,
    "kernel": "SoS",
    "nbgrader": {
     "cell_type": "markdown",
     "checksum": "0ff5b7c5c9b125b246016073d951e810",
     "grade": false,
     "grade_id": "c-023",
     "locked": true,
     "schema_version": 3,
     "solution": false,
     "task": false
    }
   },
   "source": [
    "# <font color=\"green\"> Problem 3 :  線形探索</font>\n",
    "同じ仕様のプログラムを, 「read関数でファイルを先頭から一定数読んでは, 与えられた値と比較する」ことでも実装せよ"
   ]
  },
  {
   "cell_type": "code",
   "execution_count": 33,
   "metadata": {
    "deletable": false,
    "kernel": "Python 3 (ipykernel)",
    "nbgrader": {
     "cell_type": "code",
     "checksum": "8cdfe9ea7be00ebaa848517f81627de6",
     "grade": true,
     "grade_id": "p-003",
     "locked": false,
     "points": 1,
     "schema_version": 3,
     "solution": true,
     "task": false
    }
   },
   "outputs": [
    {
     "name": "stdout",
     "output_type": "stream",
     "text": [
      "Overwriting lin_search.c\n"
     ]
    }
   ],
   "source": [
    "\n",
    "%%writefile lin_search.c\n",
    "#include <stdio.h>\n",
    "#include <stdlib.h>\n",
    "#include <fcntl.h>\n",
    "#include <sys/stat.h>\n",
    "#include <sys/mman.h>\n",
    "#include <err.h>\n",
    "#include <unistd.h>\n",
    "\n",
    "int main(int argc, char ** argv) {\n",
    "  char * filename = (argc > 1 ? argv[1] : \"sorted.bin\");\n",
    "  int key = (argc > 2 ? atoi(argv[2]) : 100);\n",
    "\n",
    "  int fd = open(filename, O_RDONLY);\n",
    "  struct stat st;\n",
    "  fstat(fd, &st);\n",
    "  int fd_size = st.st_size;\n",
    "  int num_numbers = fd_size / sizeof(int); // divide by 4\n",
    "  if (num_numbers != 256 * 1024 * 1024) err(-1, \"num_numbers\");\n",
    "\n",
    "  // Allocate memory dynamically using mmap\n",
    "  const int how_many_numbers_read_at_a_time = 1024;\n",
    "  int a[how_many_numbers_read_at_a_time];\n",
    "  int numbers_read = 0;\n",
    "\n",
    "  int found = -1;\n",
    "  while (numbers_read < num_numbers) {\n",
    "      if (read(fd, a, how_many_numbers_read_at_a_time * sizeof(int)) != how_many_numbers_read_at_a_time * sizeof(int)) err(-1, \"read\");\n",
    "      for (int i = 0; i < how_many_numbers_read_at_a_time; i++) {\n",
    "          if (a[i] == key) {\n",
    "              found = numbers_read + i;\n",
    "              break;\n",
    "          }\n",
    "      }\n",
    "      if (a[how_many_numbers_read_at_a_time - 1] > key) break;\n",
    "      if (found != -1) break;\n",
    "      numbers_read += how_many_numbers_read_at_a_time;\n",
    "  }\n",
    "\n",
    "  if (found != -1) {\n",
    "    printf(\"%d found at %d-th element\\n\", key, found);\n",
    "  } else {\n",
    "    printf(\"%d not found\\n\", key);\n",
    "  }\n",
    "  return 0;\n",
    "\n",
    "}"
   ]
  },
  {
   "cell_type": "code",
   "execution_count": 34,
   "metadata": {
    "kernel": "Bash",
    "nbgrader": {
     "grade": false,
     "grade_id": "c-024",
     "locked": false,
     "schema_version": 3,
     "solution": false,
     "task": false
    }
   },
   "outputs": [],
   "source": [
    "gcc -o lin_search -Wall -O3 lin_search.c"
   ]
  },
  {
   "cell_type": "code",
   "execution_count": 35,
   "metadata": {
    "kernel": "Bash",
    "nbgrader": {
     "grade": false,
     "grade_id": "c-025",
     "locked": false,
     "schema_version": 3,
     "solution": false,
     "task": false
    }
   },
   "outputs": [
    {
     "name": "stdout",
     "output_type": "stream",
     "text": [
      "362382304 found at 241618944-th element\n",
      "0.16user 0.13system 0:00.30elapsed 99%CPU (0avgtext+0avgdata 1744maxresident)k\n",
      "0inputs+0outputs (0major+73minor)pagefaults 0swaps\n",
      "OK\n",
      "322162113 found at 214802432-th element\n",
      "0.12user 0.14system 0:00.27elapsed 99%CPU (0avgtext+0avgdata 1604maxresident)k\n",
      "0inputs+0outputs (0major+71minor)pagefaults 0swaps\n",
      "OK\n",
      "281936687 found at 187985920-th element\n",
      "0.13user 0.10system 0:00.24elapsed 98%CPU (0avgtext+0avgdata 1668maxresident)k\n",
      "0inputs+0outputs (0major+72minor)pagefaults 0swaps\n",
      "OK\n",
      "241713801 found at 161169408-th element\n",
      "0.11user 0.09system 0:00.21elapsed 99%CPU (0avgtext+0avgdata 1672maxresident)k\n",
      "0inputs+0outputs (0major+72minor)pagefaults 0swaps\n",
      "OK\n",
      "362382307 not found\n",
      "0.15user 0.15system 0:00.31elapsed 99%CPU (0avgtext+0avgdata 1608maxresident)k\n",
      "0inputs+0outputs (0major+71minor)pagefaults 0swaps\n",
      "OK\n",
      "322162115 not found\n",
      "0.16user 0.10system 0:00.27elapsed 98%CPU (0avgtext+0avgdata 1608maxresident)k\n",
      "0inputs+0outputs (0major+72minor)pagefaults 0swaps\n",
      "OK\n",
      "281936688 not found\n",
      "0.12user 0.11system 0:00.24elapsed 99%CPU (0avgtext+0avgdata 1672maxresident)k\n",
      "0inputs+0outputs (0major+72minor)pagefaults 0swaps\n",
      "OK\n",
      "241713802 not found\n",
      "0.11user 0.09system 0:00.21elapsed 99%CPU (0avgtext+0avgdata 1628maxresident)k\n",
      "0inputs+0outputs (0major+72minor)pagefaults 0swaps\n",
      "OK\n"
     ]
    }
   ],
   "source": [
    "data=sorted.bin\n",
    "if /usr/bin/time ./lin_search ${data} 362382304 | grep \"362382304 found at 241618944-th element\" ; then echo OK ; else echo NG ; fi\n",
    "if /usr/bin/time ./lin_search ${data} 322162113 | grep \"322162113 found at 214802432-th element\" ; then echo OK ; else echo NG ; fi\n",
    "if /usr/bin/time ./lin_search ${data} 281936687 | grep \"281936687 found at 187985920-th element\" ; then echo OK ; else echo NG ; fi\n",
    "if /usr/bin/time ./lin_search ${data} 241713801 | grep \"241713801 found at 161169408-th element\" ; then echo OK ; else echo NG ; fi\n",
    "if /usr/bin/time ./lin_search ${data} 362382307 | grep \"362382307 not found\" ; then echo OK ; else echo NG ; fi\n",
    "if /usr/bin/time ./lin_search ${data} 322162115 | grep \"322162115 not found\" ; then echo OK ; else echo NG ; fi\n",
    "if /usr/bin/time ./lin_search ${data} 281936688 | grep \"281936688 not found\" ; then echo OK ; else echo NG ; fi\n",
    "if /usr/bin/time ./lin_search ${data} 241713802 | grep \"241713802 not found\" ; then echo OK ; else echo NG ; fi"
   ]
  },
  {
   "cell_type": "markdown",
   "metadata": {
    "deletable": false,
    "editable": false,
    "kernel": "SoS",
    "nbgrader": {
     "cell_type": "markdown",
     "checksum": "2746c677d80b9763aa7f949f3fbc8413",
     "grade": false,
     "grade_id": "c-026",
     "locked": true,
     "schema_version": 3,
     "solution": false,
     "task": false
    }
   },
   "source": [
    "# <font color=\"green\"> Problem 4 :  速度比較</font>\n",
    "mmap_bsearch, read_bsearch, lin_search の3つのプログラムを, 実行速度の観点で比較せよ. つまり, (大きなデータに対して)速いと思われる順を 理由とともに述べよ. 実際に実験して確認してみよ\n"
   ]
  },
  {
   "cell_type": "markdown",
   "metadata": {
    "deletable": false,
    "kernel": "SoS",
    "nbgrader": {
     "cell_type": "markdown",
     "checksum": "b19c1e7ee00ce891dde71caa6a837aa7",
     "grade": true,
     "grade_id": "p-004",
     "locked": false,
     "points": 1,
     "schema_version": 3,
     "solution": true,
     "task": false
    }
   },
   "source": [
    "実行速度に関して、早い順にmmap_bsearch, read_bsearch, lin_searchになると思われる。  \n",
    "mmap_bsearchはファイル全体を読み込むことなく、二分捜索に必要なファイルの部分だけ読み取っているだけである。  \n",
    "read_bsearchとlin_searchはファイル全体を読んでから捜索を行っているので、読み込みに時間がかかってプログラムが遅くなる。  \n",
    "さらに、mmap_bsearchは直接キャッシュでデータを保存しているのに対して、read_bsearchとlin_searchはまず二次記憶装置からキャッシュへデータを移して、  \n",
    "それからキャッシュからRAMにコピーしているので、時間がかかってしまう。  \n",
    "\n",
    "実験的に確認してみればlin_searchがread_bsearchより早いということがわかる。正確的に、経過時間がlin_searchのほうが早い。  \n",
    "理論上、線形捜索の平均時間は二分捜索より遅いし、検証に使われいる数字（362382304）は最大の数字（402600476）と桁数一緒で、  \n",
    "線形捜索はファイルをほぼ最後まで処理していることので線形捜索は遅いはず。    \n",
    "これはuser時間に反映されている。実際に捜索に使われいる時間は二分捜索のほうが少ないので、user timeはread_bsearchのほうが少ない。   \n",
    "しかし、read_bsearchとlin_searchの実装を気を付けて読んだら、read_bsearchはmmapを使って一気にファイルを読めるほど大きい配列`a`を作っているのに対して、   \n",
    "lin_searchは小さめのstaticの配列を作っている。実行中のメモリ割り当てに必要なsystem時間はstatic配列の割り当てよりよっぽど長いので、read_bsearchのsystem時間が長く、   \n",
    "実行時間のほぼ全部を占めている。\n",
    "\n"
   ]
  },
  {
   "cell_type": "markdown",
   "metadata": {
    "deletable": false,
    "editable": false,
    "kernel": "SoS",
    "nbgrader": {
     "cell_type": "markdown",
     "checksum": "8edcc2a76093fbbd20ce04d4435c9c7f",
     "grade": false,
     "grade_id": "c-027",
     "locked": true,
     "schema_version": 3,
     "solution": false,
     "task": false
    }
   },
   "source": [
    "# <font color=\"green\"> Problem 5 :  メモリ使用量比較</font>\n",
    "mmap_bsearch, read_bsearch, lin_search の3つのプログラムを, メモリ消費量の観点で比較せよ. ファイルが一切キャッシュされていない状態で各プログラムを一度起動した際, 最大でどのくらいのメモリが消費されるか, を比較せよ.\n"
   ]
  },
  {
   "cell_type": "code",
   "execution_count": 7,
   "metadata": {
    "kernel": "Bash"
   },
   "outputs": [],
   "source": [
    "../os11_cache/drop_cache sorted.bin"
   ]
  },
  {
   "attachments": {
    "005271dd-4fe2-4607-aae4-14febef7d2e4.png": {
     "image/png": "[encoded data removed]"
    },
    "559bc4e8-c7cd-49e9-b22a-3f586b11e322.png": {
     "image/png": "[encoded data removed]"
    },
    "af47cb78-523f-4db4-917a-08f8ad55c035.png": {
     "image/png": "[encoded data removed]"
    }
   },
   "cell_type": "markdown",
   "metadata": {
    "deletable": false,
    "kernel": "SoS",
    "nbgrader": {
     "cell_type": "markdown",
     "checksum": "b2ac61e3245d378e25700f291fd6f296",
     "grade": true,
     "grade_id": "p-005",
     "locked": false,
     "points": 1,
     "schema_version": 3,
     "solution": true,
     "task": false
    }
   },
   "source": [
    "実験結果を見ると、メモリ消費量の低い順に並ぶと、lin_search (\\~1500), mmap_bsearch (\\~2500), read_bsearch(\\~100000)になる。  \n",
    "ここでの実装から言うと、lin_searchは一つの配列`a`を何回も同じように最初から最後までループしているだけなので、  \n",
    "`a`のサイズにかかわらず、OSはこの規則に気づき`a`を常にスワップアウトすることでメモリ消費を抑えている。  \n",
    "`how_many_numbers_read_at_a_time`をでかい数字(e.g. 1024*1024)にしてもメモリ消費量は少ない(i.e. \\~9000)。  \n",
    "mmap_bsearchとread_bsearchでの配列の読み方は同じで、それが非規則的なので、スワップアウトはlin_searchに比べて少ない。  \n",
    "両方のスワップアウトの数が同じとして、read_bsearchは配列全体を読み込んでいるので、メモリ消費量はmmap_bsearchより大きい。  \n",
    "\n",
    "あと、キャッシュされているかどうかは結果にあまり影響しないようである。\n",
    "以下はファイルのキャッシュを消した後、捜索の一回目と二回目の結果。\n",
    "\n",
    "1. mmap_bsearch  \n",
    "![image.png](attachment:005271dd-4fe2-4607-aae4-14febef7d2e4.png)　　\n",
    "\n",
    "2. read_bsearch  \n",
    "![image.png](attachment:559bc4e8-c7cd-49e9-b22a-3f586b11e322.png)  \n",
    "\n",
    "3. lin_search  \n",
    "![image.png](attachment:af47cb78-523f-4db4-917a-08f8ad55c035.png)"
   ]
  }
 ],
 "metadata": {
  "kernelspec": {
   "display_name": "SoS",
   "language": "sos",
   "name": "sos"
  },
  "language_info": {
   "codemirror_mode": "sos",
   "file_extension": ".sos",
   "mimetype": "text/x-sos",
   "name": "sos",
   "nbconvert_exporter": "sos_notebook.converter.SoS_Exporter",
   "pygments_lexer": "sos"
  },
  "sos": {
   "kernels": [
    [
     "Bash",
     "bash",
     "bash",
     "",
     "shell"
    ],
    [
     "Python 3 (ipykernel)",
     "python3",
     "python3",
     "",
     {
      "name": "ipython",
      "version": 3
     }
    ]
   ],
   "panel": {
    "displayed": true,
    "height": 0
   },
   "version": "0.23.3"
  }
 },
 "nbformat": 4,
 "nbformat_minor": 4
}
