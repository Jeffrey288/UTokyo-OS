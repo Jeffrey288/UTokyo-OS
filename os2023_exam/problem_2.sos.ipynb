{
 "cells": [
  {
   "cell_type": "markdown",
   "metadata": {
    "deletable": false,
    "editable": false,
    "kernel": "SoS",
    "nbgrader": {
     "cell_type": "markdown",
     "checksum": "4506cfc4df94593ce64a0a2aa3e0a03e",
     "grade": false,
     "grade_id": "c-001",
     "locked": true,
     "schema_version": 3,
     "solution": false,
     "task": false
    }
   },
   "source": [
    "#  問題2"
   ]
  },
  {
   "cell_type": "markdown",
   "metadata": {
    "deletable": false,
    "editable": false,
    "kernel": "SoS",
    "nbgrader": {
     "cell_type": "markdown",
     "checksum": "0dc46f795d81701b43fe96f18838112f",
     "grade": false,
     "grade_id": "c-002",
     "locked": true,
     "schema_version": 3,
     "solution": false,
     "task": false
    }
   },
   "source": [
    "##  (1)"
   ]
  },
  {
   "cell_type": "markdown",
   "metadata": {
    "deletable": false,
    "editable": false,
    "kernel": "SoS",
    "nbgrader": {
     "cell_type": "markdown",
     "checksum": "3e6bbc6d425d48f57c6718ac34792380",
     "grade": false,
     "grade_id": "c-003",
     "locked": true,
     "schema_version": 3,
     "solution": false,
     "task": false
    }
   },
   "source": [
    "###  counter_t の定義"
   ]
  },
  {
   "cell_type": "code",
   "execution_count": null,
   "metadata": {
    "deletable": false,
    "kernel": "Python 3 (ipykernel)",
    "nbgrader": {
     "cell_type": "code",
     "checksum": "69b978b127ad190e256ea8e28257e866",
     "grade": true,
     "grade_id": "p-001",
     "locked": false,
     "points": 1,
     "schema_version": 3,
     "solution": true,
     "task": false
    }
   },
   "outputs": [],
   "source": [
    "%%writefile counter.h\n",
    "\n",
    "\n",
    "#include <pthread.h>\n",
    "\n",
    "typedef struct {\n",
    "    long v;\n",
    "    pthread_mutex_t m;\n",
    "} counter_t;"
   ]
  },
  {
   "cell_type": "markdown",
   "metadata": {
    "deletable": false,
    "editable": false,
    "kernel": "SoS",
    "nbgrader": {
     "cell_type": "markdown",
     "checksum": "98a719605cfc919925cfad90efb763fa",
     "grade": false,
     "grade_id": "c-004",
     "locked": true,
     "schema_version": 3,
     "solution": false,
     "task": false
    }
   },
   "source": [
    "###  counter_init, counter_dec の定義"
   ]
  },
  {
   "cell_type": "code",
   "execution_count": null,
   "metadata": {
    "deletable": false,
    "kernel": "Python 3 (ipykernel)",
    "nbgrader": {
     "cell_type": "code",
     "checksum": "88d61012fb2b08f1c028d50f3eb1ad70",
     "grade": true,
     "grade_id": "p-002",
     "locked": false,
     "points": 1,
     "schema_version": 3,
     "solution": true,
     "task": false
    }
   },
   "outputs": [],
   "source": [
    "%%writefile counter.c\n",
    "\n",
    "#include <pthread.h>\n",
    "#include \"counter.h\"\n",
    "\n",
    "void counter_init(counter_t *c, long v) {\n",
    "    c->v = v;\n",
    "    ptrhead_mutex_init(c->m, NULL);\n",
    "}\n",
    "\n",
    "void counter_dec(counter_t * c, long x) {\n",
    "    pthread_mutex_lock(&m);\n",
    "    if (c->v < x) {\n",
    "        return 0;\n",
    "    } else {\n",
    "        c->v -= x;\n",
    "        return 1;\n",
    "    }\n",
    "    pthread_mutex_unlock(&m);\n",
    "}"
   ]
  },
  {
   "cell_type": "markdown",
   "metadata": {
    "deletable": false,
    "editable": false,
    "kernel": "SoS",
    "nbgrader": {
     "cell_type": "markdown",
     "checksum": "82d17d6d78c41cb53d7f1a4b75fc348b",
     "grade": false,
     "grade_id": "c-005",
     "locked": true,
     "schema_version": 3,
     "solution": false,
     "task": false
    }
   },
   "source": [
    "##  (2)"
   ]
  },
  {
   "cell_type": "markdown",
   "metadata": {
    "deletable": false,
    "editable": false,
    "kernel": "SoS",
    "nbgrader": {
     "cell_type": "markdown",
     "checksum": "67de5357dfef197f853527a2d71e29d5",
     "grade": false,
     "grade_id": "c-006",
     "locked": true,
     "schema_version": 3,
     "solution": false,
     "task": false
    }
   },
   "source": [
    "###  counter_t の定義"
   ]
  },
  {
   "cell_type": "code",
   "execution_count": null,
   "metadata": {
    "deletable": false,
    "kernel": "Python 3 (ipykernel)",
    "nbgrader": {
     "cell_type": "code",
     "checksum": "1a0c70fb92fffabb585c32f0372b8340",
     "grade": true,
     "grade_id": "p-003",
     "locked": false,
     "points": 1,
     "schema_version": 3,
     "solution": true,
     "task": false
    }
   },
   "outputs": [],
   "source": [
    "%%writefile counter_cas.h\n",
    "\n",
    "typedef struct {\n",
    "    long v;\n",
    "} counter_t;"
   ]
  },
  {
   "cell_type": "markdown",
   "metadata": {
    "deletable": false,
    "editable": false,
    "kernel": "SoS",
    "nbgrader": {
     "cell_type": "markdown",
     "checksum": "8133a79768cb506cccb2577a7c544dc6",
     "grade": false,
     "grade_id": "c-007",
     "locked": true,
     "schema_version": 3,
     "solution": false,
     "task": false
    }
   },
   "source": [
    "###  counter_init, counter_dec の定義"
   ]
  },
  {
   "cell_type": "code",
   "execution_count": null,
   "metadata": {
    "deletable": false,
    "kernel": "Python 3 (ipykernel)",
    "nbgrader": {
     "cell_type": "code",
     "checksum": "5bac0612bca9a72915331affa01699a2",
     "grade": true,
     "grade_id": "p-004",
     "locked": false,
     "points": 1,
     "schema_version": 3,
     "solution": true,
     "task": false
    }
   },
   "outputs": [],
   "source": [
    "%%writefile counter_cas.c\n",
    "\n",
    "#include \"counter_cas.h\"\n",
    "\n",
    "void counter_init(counter_t *c, long v) {\n",
    "    c->v = v;\n",
    "}\n",
    "\n",
    "void counter_dec(counter_t * c, long x) {\n",
    "    if (x == 0) return 1; // check\n",
    "    if (c->v < x) { // if c_v < x, then c_v - x < 0, (c_v - x) / x == -1\n",
    "        // dunno if operations within this is considered atomic\n",
    "        // (probably not) but lecture note had this example so i'm\n",
    "        // going with it wheeeeeeee\n",
    "        long temp = (c->v - x) / x;\n",
    "        return __sync_bool_compare_and_swap(&long, -1, c->x - x); // rethink this it's probably wrong after u added the long temp = ...\n",
    "    } \n",
    "}"
   ]
  },
  {
   "cell_type": "markdown",
   "metadata": {
    "deletable": false,
    "editable": false,
    "kernel": "SoS",
    "nbgrader": {
     "cell_type": "markdown",
     "checksum": "8998082b87319099d886fdb1c8ae62cc",
     "grade": false,
     "grade_id": "c-008",
     "locked": true,
     "schema_version": 3,
     "solution": false,
     "task": false
    }
   },
   "source": [
    "##  (3)\n",
    "条件1を満たしているか(どちらかを残す)?"
   ]
  },
  {
   "cell_type": "markdown",
   "metadata": {
    "deletable": false,
    "kernel": "SoS",
    "nbgrader": {
     "cell_type": "markdown",
     "checksum": "92174c0c96696fb2373cd992df9f2947",
     "grade": true,
     "grade_id": "p-005",
     "locked": false,
     "points": 1,
     "schema_version": 3,
     "solution": true,
     "task": false
    }
   },
   "source": [
    "1: YES\n",
    "2: YES\n",
    "3: NO"
   ]
  },
  {
   "cell_type": "markdown",
   "metadata": {
    "deletable": false,
    "editable": false,
    "kernel": "SoS",
    "nbgrader": {
     "cell_type": "markdown",
     "checksum": "c139b440b338731623b18296978eaadf",
     "grade": false,
     "grade_id": "c-009",
     "locked": true,
     "schema_version": 3,
     "solution": false,
     "task": false
    }
   },
   "source": [
    "NOならばそれを示す実行系列"
   ]
  },
  {
   "cell_type": "markdown",
   "metadata": {
    "deletable": false,
    "kernel": "SoS",
    "nbgrader": {
     "cell_type": "markdown",
     "checksum": "ec080f9e2f2aa7dabe60f86ebbb50d33",
     "grade": true,
     "grade_id": "p-006",
     "locked": false,
     "points": 1,
     "schema_version": 3,
     "solution": true,
     "task": false
    }
   },
   "source": [
    "C[M] = (3, 2), M = 2\n",
    "\n",
    "customer 1: p,q,x,y = 0,1,3,3\n",
    "customer 2: p,q,x,y = 0,1,1,1\n",
    "\n",
    "1に対しxがdecされ0になって、\n",
    "2に対しxが買いえない状態であり購入が中止される\n",
    "1が商品1が買えないのでそれも中止\n",
    "しかしもともと2の購入は成立する -> 3 no"
   ]
  },
  {
   "cell_type": "markdown",
   "metadata": {
    "deletable": false,
    "editable": false,
    "kernel": "SoS",
    "nbgrader": {
     "cell_type": "markdown",
     "checksum": "910c7e71a4bf51383cef222dbf5eaf62",
     "grade": false,
     "grade_id": "c-010",
     "locked": true,
     "schema_version": 3,
     "solution": false,
     "task": false
    }
   },
   "source": [
    "##  (4)\n",
    "条件1を満たしているか(どちらかを残す)?"
   ]
  },
  {
   "cell_type": "markdown",
   "metadata": {
    "deletable": false,
    "kernel": "SoS",
    "nbgrader": {
     "cell_type": "markdown",
     "checksum": "cf8dda6796d27d89726cba02ac72de7a",
     "grade": true,
     "grade_id": "p-007",
     "locked": false,
     "points": 1,
     "schema_version": 3,
     "solution": true,
     "task": false
    }
   },
   "source": [
    "1: NO\n",
    "2: YES\n",
    "3: YES"
   ]
  },
  {
   "cell_type": "markdown",
   "metadata": {
    "deletable": false,
    "editable": false,
    "kernel": "SoS",
    "nbgrader": {
     "cell_type": "markdown",
     "checksum": "d2b7a6d857e6b5d06af7e913f7bf11fd",
     "grade": false,
     "grade_id": "c-011",
     "locked": true,
     "schema_version": 3,
     "solution": false,
     "task": false
    }
   },
   "source": [
    "NOならばそれを示す実行系列"
   ]
  },
  {
   "cell_type": "markdown",
   "metadata": {
    "deletable": false,
    "kernel": "SoS",
    "nbgrader": {
     "cell_type": "markdown",
     "checksum": "9f0c5c537c64405b1379295c53170cd6",
     "grade": true,
     "grade_id": "p-008",
     "locked": false,
     "points": 1,
     "schema_version": 3,
     "solution": true,
     "task": false
    }
   },
   "source": [
    "C[M] = (3, 2, 3), M = 3\n",
    "\n",
    "customer 1: p,q,x,y = 0,1,3,3\n",
    "customer 2: p,q,x,y = 1,2,1,1\n",
    "customer 3: p,q,x,y = 2,0,1,1\n",
    "\n",
    "1 no: deadlockが起こる：\n",
    "1 lock p=0\n",
    "2 lock p=1\n",
    "3 lock p=2\n",
    "全部ロックされているため実行が進まない\n"
   ]
  },
  {
   "cell_type": "markdown",
   "metadata": {
    "deletable": false,
    "editable": false,
    "kernel": "SoS",
    "nbgrader": {
     "cell_type": "markdown",
     "checksum": "6808c6469e9a70fcf92df91dcb60e0a5",
     "grade": false,
     "grade_id": "c-012",
     "locked": true,
     "schema_version": 3,
     "solution": false,
     "task": false
    }
   },
   "source": [
    "##  (5)\n",
    "条件1を満たしているか(どちらかを残す)?"
   ]
  },
  {
   "cell_type": "markdown",
   "metadata": {
    "deletable": false,
    "kernel": "SoS",
    "nbgrader": {
     "cell_type": "markdown",
     "checksum": "0eb884e5dc88c1c8d7eb735eadf6e1f7",
     "grade": true,
     "grade_id": "p-009",
     "locked": false,
     "points": 1,
     "schema_version": 3,
     "solution": true,
     "task": false
    }
   },
   "source": [
    "all YES"
   ]
  },
  {
   "cell_type": "markdown",
   "metadata": {
    "deletable": false,
    "editable": false,
    "kernel": "SoS",
    "nbgrader": {
     "cell_type": "markdown",
     "checksum": "6196b628116386061c3210ebcd766237",
     "grade": false,
     "grade_id": "c-013",
     "locked": true,
     "schema_version": 3,
     "solution": false,
     "task": false
    }
   },
   "source": [
    "NOならばそれを示す実行系列"
   ]
  },
  {
   "cell_type": "markdown",
   "metadata": {
    "deletable": false,
    "kernel": "SoS",
    "nbgrader": {
     "cell_type": "markdown",
     "checksum": "216a5838fa378e62700ceef4a404609d",
     "grade": true,
     "grade_id": "p-010",
     "locked": false,
     "points": 1,
     "schema_version": 3,
     "solution": true,
     "task": false
    }
   },
   "source": [
    "YOUR ANSWER HERE\n"
   ]
  },
  {
   "cell_type": "markdown",
   "metadata": {
    "deletable": false,
    "editable": false,
    "kernel": "SoS",
    "nbgrader": {
     "cell_type": "markdown",
     "checksum": "425727d98b324bace0013c6b0e65f96d",
     "grade": false,
     "grade_id": "c-014",
     "locked": true,
     "schema_version": 3,
     "solution": false,
     "task": false
    }
   },
   "source": [
    "##  (6)"
   ]
  },
  {
   "cell_type": "markdown",
   "metadata": {
    "deletable": false,
    "editable": false,
    "kernel": "SoS",
    "nbgrader": {
     "cell_type": "markdown",
     "checksum": "9beb21e3545ad8bd5bf104a30a53e717",
     "grade": false,
     "grade_id": "c-015",
     "locked": true,
     "schema_version": 3,
     "solution": false,
     "task": false
    }
   },
   "source": [
    "概略"
   ]
  },
  {
   "cell_type": "markdown",
   "metadata": {
    "deletable": false,
    "kernel": "SoS",
    "nbgrader": {
     "cell_type": "markdown",
     "checksum": "fef9acb363bbe4ac04c146de91e95b82",
     "grade": true,
     "grade_id": "p-011",
     "locked": false,
     "points": 1,
     "schema_version": 3,
     "solution": true,
     "task": false
    }
   },
   "source": [
    "YOUR ANSWER HERE"
   ]
  },
  {
   "cell_type": "code",
   "execution_count": null,
   "metadata": {
    "deletable": false,
    "kernel": "Python 3 (ipykernel)",
    "nbgrader": {
     "cell_type": "code",
     "checksum": "71d7f8714c7be3e615f2ba4257dff781",
     "grade": true,
     "grade_id": "p-012",
     "locked": false,
     "points": 1,
     "schema_version": 3,
     "solution": true,
     "task": false
    }
   },
   "outputs": [],
   "source": [
    "\n",
    "%%writefile buy2.c\n",
    "#include <assert.h>\n",
    "#include \"counter.h\"\n",
    "#include \"buy2.h\"\n",
    "\n",
    "int buy2(counter_t * C, long M, long p, long q, long x, long y) {\n",
    "  assert(0 <= p && p < M && 0 <= q && q < M);\n",
    "  \n",
    "}\n"
   ]
  },
  {
   "cell_type": "markdown",
   "metadata": {
    "deletable": false,
    "editable": false,
    "kernel": "SoS",
    "nbgrader": {
     "cell_type": "markdown",
     "checksum": "27dbf8af20064e5ab8ff817c98e7ace5",
     "grade": false,
     "grade_id": "c-016",
     "locked": true,
     "schema_version": 3,
     "solution": false,
     "task": false
    }
   },
   "source": [
    "テスト: 以下の, `CHANGE_IT_TO_THE_RIGHT_PASSWORD` の部分を正しいパスワード\n",
    "(問題文に記載)に書き換えて実行せよ. 無事実行できたら, `check_buy2.c`, `buy2.h` というファイルができる. "
   ]
  },
  {
   "cell_type": "code",
   "execution_count": null,
   "metadata": {
    "kernel": "Bash",
    "nbgrader": {
     "grade": false,
     "grade_id": "c-017",
     "locked": false,
     "schema_version": 3,
     "solution": false,
     "task": false
    }
   },
   "outputs": [],
   "source": [
    "password=CHANGE_IT_TO_THE_RIGHT_PASSWORD\n",
    "openssl enc -d -aes-256-cbc -pbkdf2 -iter 100000 -in check_buy2.c.encrypted -out check_buy2.c -k ${password}\n",
    "openssl enc -d -aes-256-cbc -pbkdf2 -iter 100000 -in buy2.h.encrypted -out buy2.h -k ${password}\n",
    "ls -l"
   ]
  },
  {
   "cell_type": "markdown",
   "metadata": {
    "deletable": false,
    "editable": false,
    "kernel": "SoS",
    "nbgrader": {
     "cell_type": "markdown",
     "checksum": "cb5815cdb806f5d40c4da5e451a8de74",
     "grade": false,
     "grade_id": "c-018",
     "locked": true,
     "schema_version": 3,
     "solution": false,
     "task": false
    }
   },
   "source": [
    "できたら以下でコンパイル, 実行せよ"
   ]
  },
  {
   "cell_type": "code",
   "execution_count": null,
   "metadata": {
    "kernel": "Bash",
    "nbgrader": {
     "grade": false,
     "grade_id": "c-019",
     "locked": false,
     "schema_version": 3,
     "solution": false,
     "task": false
    }
   },
   "outputs": [],
   "source": [
    "gcc -o check_buy2 -Wall -Wextra -O3 -fopenmp counter.c buy2.c check_buy2.c"
   ]
  },
  {
   "cell_type": "code",
   "execution_count": null,
   "metadata": {
    "kernel": "Bash",
    "nbgrader": {
     "grade": false,
     "grade_id": "c-020",
     "locked": false,
     "schema_version": 3,
     "solution": false,
     "task": false
    }
   },
   "outputs": [],
   "source": [
    "OMP_NUM_THREADS=10 timeout 10 ./check_buy2 100 1000000 91807290723"
   ]
  }
 ],
 "metadata": {
  "kernelspec": {
   "display_name": "SoS",
   "language": "sos",
   "name": "sos"
  },
  "language_info": {
   "codemirror_mode": "sos",
   "file_extension": ".sos",
   "mimetype": "text/x-sos",
   "name": "sos",
   "nbconvert_exporter": "sos_notebook.converter.SoS_Exporter",
   "pygments_lexer": "sos"
  },
  "sos": {
   "kernels": [
    [
     "Bash",
     "bash",
     "bash",
     "",
     "shell"
    ],
    [
     "C",
     "c_kernel",
     "c",
     "",
     ""
    ],
    [
     "Go",
     "gophernotes",
     "go",
     "",
     ""
    ],
    [
     "Julia 1.8.5",
     "julia-1.8",
     "julia",
     "",
     ""
    ],
    [
     "OCaml default",
     "ocaml-jupyter",
     "OCaml",
     "",
     "text/x-ocaml"
    ],
    [
     "Python 3 (ipykernel)",
     "python3",
     "python3",
     "",
     {
      "name": "ipython",
      "version": 3
     }
    ],
    [
     "Rust",
     "rust",
     "rust",
     "",
     ""
    ]
   ],
   "panel": {
    "displayed": true,
    "height": 0
   },
   "version": "0.23.3"
  }
 },
 "nbformat": 4,
 "nbformat_minor": 4
}
