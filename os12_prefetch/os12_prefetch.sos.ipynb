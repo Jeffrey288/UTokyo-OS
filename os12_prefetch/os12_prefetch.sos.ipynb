{
 "cells": [
  {
   "cell_type": "markdown",
   "metadata": {
    "deletable": false,
    "editable": false,
    "kernel": "SoS",
    "nbgrader": {
     "cell_type": "markdown",
     "checksum": "6b9e1037d656a34070f21afd52de8bb3",
     "grade": false,
     "grade_id": "c-001",
     "locked": true,
     "schema_version": 3,
     "solution": false,
     "task": false
    }
   },
   "source": [
    "\n",
    "#  オペレーティングシステム 演習 12\n",
    "#  先読み"
   ]
  },
  {
   "cell_type": "markdown",
   "metadata": {
    "kernel": "SoS",
    "nbgrader": {
     "grade": false,
     "grade_id": "c-002",
     "locked": false,
     "schema_version": 3,
     "solution": false,
     "task": false
    }
   },
   "source": [
    "名前と学生証番号を書け. Enter your name and student ID.\n",
    "\n",
    " * 名前 Name:\n",
    " * 学生証番号 Student ID:"
   ]
  },
  {
   "cell_type": "markdown",
   "metadata": {
    "deletable": false,
    "editable": false,
    "kernel": "SoS",
    "nbgrader": {
     "cell_type": "markdown",
     "checksum": "1ae1c8c7ae3cadcc98db2f0b57ed76f4",
     "grade": false,
     "grade_id": "c-003",
     "locked": true,
     "schema_version": 3,
     "solution": false,
     "task": false
    }
   },
   "source": [
    "# 1. はじめに: 逐次(シーケンシャル)アクセス vs ランダムアクセス\n",
    "* ファイルがキャッシュにあるか否かで性能が異なることを見たが, <font color=\"blue\">ファイルがキャッシュにない場合の性能もアクセスパターンによって大きく異なる</font>\n",
    "* 大雑把に言って, <font color=\"blue\">「逐次的なアクセス」vs.「ランダムなアクセス」で大きく性能が異なる</font>\n",
    "* 以下は上記のファイル読み込みを変更し, 逐次 vs. ランダムを引数で切り替えられるようにしたもの(第5引数が追加されており, 0ならば逐次, それ以外の場合それを乱数の種として読み出す順番をシャッフルする. どちらの場合も最終的に同じ場所を読み出す)"
   ]
  },
  {
   "cell_type": "code",
   "execution_count": 1,
   "metadata": {
    "kernel": "Python 3 (ipykernel)",
    "nbgrader": {
     "grade": false,
     "grade_id": "c-004",
     "locked": false,
     "schema_version": 3,
     "solution": false,
     "task": false
    }
   },
   "outputs": [
    {
     "name": "stdout",
     "output_type": "stream",
     "text": [
      "Writing read_file_seq_or_random.c\n"
     ]
    }
   ],
   "source": [
    "%%writefile read_file_seq_or_random.c\n",
    "#define _GNU_SOURCE             /* See feature_test_macros(7) */\n",
    "#include <assert.h>\n",
    "#include <err.h>\n",
    "#include <fcntl.h>\n",
    "#include <stdio.h>\n",
    "#include <stdlib.h>\n",
    "#include <string.h>\n",
    "#include <sys/time.h>\n",
    "#include <unistd.h>\n",
    "\n",
    "/* イベントの種類 */\n",
    "typedef enum {\n",
    "  ek_read_enter,\n",
    "  ek_read_return,\n",
    "} event_kind_t;\n",
    "\n",
    "/* 1イベントの記録 */\n",
    "typedef struct {\n",
    "  double t;                     /* 時刻 */\n",
    "  event_kind_t kind;            /* イベントの種類(read呼び出し, read復帰, etc.) */\n",
    "  size_t offset;                /* 読んだ場所 */\n",
    "  size_t size;                  /* 読んだサイズ */\n",
    "} record_t;\n",
    "\n",
    "/* 全イベントの記録 */\n",
    "typedef struct {\n",
    "  long n_records;              /* 配列aのサイズ */\n",
    "  long i;                       /* 次に書き込むインデクス */\n",
    "  record_t * a;                 /* recordの配列 */\n",
    "  int fd;                       /* ファイルディスクリプタ */\n",
    "  long data_sz;                 /* ファイル(使う部分)のサイズ */\n",
    "} records_t;\n",
    "\n",
    "const char * event_kind_string(event_kind_t k) {\n",
    "  switch (k) {\n",
    "  case ek_read_enter:\n",
    "    return \"read_enter\";\n",
    "  case ek_read_return:\n",
    "    return \"read_return\";\n",
    "  default:\n",
    "    assert(0);\n",
    "  }\n",
    "}\n",
    "\n",
    "const long page_sz = 4096;\n",
    "\n",
    "/* n_records分の記録を保持できるrecords_tを作る */\n",
    "records_t * mk_records(long n_records\n",
    "                       ) {\n",
    "  record_t * a = (record_t *)malloc(sizeof(record_t) * n_records);\n",
    "  memset(a, 0, sizeof(record_t) * n_records);\n",
    "  /* records_tの割当て */\n",
    "  records_t * R = (records_t *)malloc(sizeof(records_t));\n",
    "  R->n_records = n_records;\n",
    "  R->i = 0;\n",
    "  R->a = a;\n",
    "  return R;\n",
    "}\n",
    "\n",
    "void destroy_records(records_t * R) {\n",
    "  free((records_t *)R);\n",
    "}\n",
    "\n",
    "/* 時刻を返す */\n",
    "double cur_time() {\n",
    "  struct timeval tp[1];\n",
    "  gettimeofday(tp, 0);\n",
    "  double t = tp->tv_sec + 1.0e-6 * tp->tv_usec;\n",
    "  return t;\n",
    "}\n",
    "\n",
    "/* 1イベントの記録 */\n",
    "void record_event(records_t * R, event_kind_t k, size_t offset, size_t size) {\n",
    "  long i = __sync_fetch_and_add(&R->i, 1);\n",
    "  assert(i < R->n_records);\n",
    "  R->a[i].t = cur_time();\n",
    "  R->a[i].kind = k;\n",
    "  R->a[i].offset = offset;\n",
    "  R->a[i].size = size;\n",
    "}\n",
    "\n",
    "/* 全イベントの記録を標準出力へ表示 */\n",
    "void print_records(records_t * R) {\n",
    "  long m = R->i;\n",
    "  for (long i = 0; i < m; i++) {\n",
    "    printf(\"%f %s %ld %ld\\n\",\n",
    "           R->a[i].t - R->a[0].t,\n",
    "           event_kind_string(R->a[i].kind),\n",
    "           R->a[i].offset,\n",
    "           R->a[i].size);\n",
    "  }\n",
    "}\n",
    "\n",
    "/* 長さ n_blocks の配列 a を返す. \n",
    "   a[i] は i 番目に読むべきファイルの位置.\n",
    "   seed == 0 の場合 -> 逐次 \n",
    "   seed != 0 の場合 -> ランダム */\n",
    "ssize_t * make_offsets(int block_sz, int n_blocks, long seed) {\n",
    "  ssize_t * a = (ssize_t *)malloc(sizeof(ssize_t) * n_blocks);\n",
    "  int i = 0;\n",
    "  for (i = 0; i < n_blocks; i++) {\n",
    "    a[i] = i * block_sz;\n",
    "  }\n",
    "  if (seed) {\n",
    "    unsigned short rg[3] = {(unsigned short)(seed >> 16),\n",
    "                            (unsigned short)(seed >> 8),\n",
    "                            (unsigned short)(seed >> 0)};\n",
    "    /* 配列のかき混ぜ (10 * 要素数回くらい, 適当な2要素を入れ替え) */\n",
    "    for (i = 0; i < 10 * n_blocks; i++) {\n",
    "      int j = nrand48(rg) % n_blocks;\n",
    "      int k = nrand48(rg) % n_blocks;\n",
    "      int t = a[j];\n",
    "      a[j] = a[k];\n",
    "      a[k] = t;\n",
    "    }\n",
    "  }\n",
    "  return a;\n",
    "}\n",
    "\n",
    "/* szバイトぴったり読む. その前にEOFになったらエラー */\n",
    "long read_sz_at(int fd, char * buf, off_t offset, size_t sz, records_t * R) {\n",
    "  //if (lseek(fd, offset, SEEK_SET) == -1) err(1, \"lseek\");\n",
    "  record_event(R, ek_read_enter, offset, sz);\n",
    "  size_t rd = 0;\n",
    "  while (rd < sz) {\n",
    "    ssize_t x = pread(fd, buf + rd, sz - rd, offset + rd);\n",
    "    if (x == -1) err(1, \"read\");\n",
    "    assert(x > 0);\n",
    "    rd += x;\n",
    "  }\n",
    "  assert(rd == sz);\n",
    "  size_t begin_offset = offset + page_sz - 1;\n",
    "  begin_offset -= begin_offset % page_sz;\n",
    "  long s = 0;\n",
    "  for (size_t o = begin_offset; o < offset + sz; o += page_sz) {\n",
    "    s += buf[o - offset];\n",
    "  }\n",
    "  record_event(R, ek_read_return, offset, sz);\n",
    "  return s;\n",
    "}\n",
    "\n",
    "/* 10m, 100k みたいな文字列を読んで数に変換\n",
    "   e.g., 10k -> 10 * 1024 */\n",
    "long parse_size(char * s) {\n",
    "  long n = strlen(s);\n",
    "  long unit = -1;\n",
    "  assert(n > 0);\n",
    "  switch (s[n - 1]) {\n",
    "  case 'K' :\n",
    "  case 'k' :\n",
    "    unit = 1024L;\n",
    "    break;\n",
    "  case 'M' :\n",
    "  case 'm' :\n",
    "    unit = 1024L * 1024L;\n",
    "    break;\n",
    "  case '0' ... '9' :\n",
    "    unit = 1L;\n",
    "    break;\n",
    "  case 'G' :\n",
    "  case 'g' :\n",
    "    fprintf(stderr, \"do you mean GB? don't be so aggressive\\n\");\n",
    "    break;\n",
    "  case 'T' :\n",
    "  case 't' :\n",
    "    fprintf(stderr, \"do you mean TB? don't be so aggressive\\n\");\n",
    "    break;\n",
    "  default:\n",
    "    fprintf(stderr, \"invalid unit (%c) specified\\n\", s[n - 1]);\n",
    "    break;\n",
    "  }\n",
    "  if (unit == -1) return -1;\n",
    "  long x = atol(s);\n",
    "  assert(x > 0);\n",
    "  return x * unit;\n",
    "}\n",
    "\n",
    "/* \n",
    "./read_file_2 FILE SZ N_TIMES BLK_SZ SEED\n",
    " */\n",
    "int main(int argc, char ** argv) {\n",
    "  int i = 1;\n",
    "  char * const filename = (argc > i ? argv[i] : \"data.bin\"); i++;\n",
    "  /* 使うデータサイズ (ファイルの先頭から; MB単位) */\n",
    "  const long data_sz_   = (argc > i ? parse_size(argv[i]) : parse_size(\"64m\")); i++;\n",
    "  /* ファイル全体を読む周回数 */\n",
    "  const long n_times    = (argc > i ? atol(argv[i]) : 3); i++;\n",
    "  /* read一回で読む量 */\n",
    "  const long block_sz   = (argc > i ? parse_size(argv[i]) : parse_size(\"4k\")); i++;\n",
    "  /* 乱数 seed (0の場合は逐次) */\n",
    "  const long seed       = (argc > i ? atol(argv[i]) : 0); i++;\n",
    "  /* ブロック数 (中途半端は切り捨て) */\n",
    "  const long n_blocks   = data_sz_ / block_sz;\n",
    "  const long data_sz    = block_sz * n_blocks;\n",
    "  /* 読み出すオフセットを作成 */\n",
    "  const long n_records  = 2 * n_blocks * n_times;\n",
    "  ssize_t * const offsets = make_offsets(block_sz, n_blocks, seed);\n",
    "  records_t * const R = mk_records(n_records);\n",
    "\n",
    "  fprintf(stderr, \"read %ld bytes %ld times, %ld bytes at a time\\n\",\n",
    "          data_sz, n_times, block_sz); fflush(stderr);\n",
    "  for (long i = 0; i < n_times; i++) {\n",
    "    fprintf(stderr, \"%ld th read starts\\n\", i); fflush(stderr);\n",
    "    const double t0 = cur_time();\n",
    "    const int fd = open(filename, O_RDONLY);\n",
    "    if (fd == -1) err(1, \"open\");\n",
    "    long s = 0;\n",
    "    {\n",
    "      char * const buf = (char *)malloc(block_sz);\n",
    "      if (!buf) err(1, \"malloc\");\n",
    "      for (long j = 0; j < n_blocks; j++) {\n",
    "        if (j >= 0) {\n",
    "          s += read_sz_at(fd, buf, offsets[j], block_sz, R);\n",
    "        }\n",
    "      }\n",
    "      free(buf);\n",
    "    }\n",
    "    if (close(fd) == -1) err(1, \"close\");\n",
    "    double t1 = cur_time();\n",
    "    double dt = t1 - t0;\n",
    "    fprintf(stderr, \"took %f sec, %f MB/sec, sum = %ld\\n\",\n",
    "            dt, data_sz / (1024.0 * 1024.0) / dt, s);\n",
    "    fflush(stderr);\n",
    "  }\n",
    "  print_records(R);\n",
    "  destroy_records(R);\n",
    "  return 0;\n",
    "}"
   ]
  },
  {
   "cell_type": "code",
   "execution_count": 2,
   "metadata": {
    "kernel": "Bash",
    "nbgrader": {
     "grade": false,
     "grade_id": "c-005",
     "locked": false,
     "schema_version": 3,
     "solution": false,
     "task": false
    }
   },
   "outputs": [],
   "source": [
    "gcc -Wall -O3 -o read_file_seq_or_random read_file_seq_or_random.c"
   ]
  },
  {
   "cell_type": "markdown",
   "metadata": {
    "deletable": false,
    "editable": false,
    "kernel": "SoS",
    "nbgrader": {
     "cell_type": "markdown",
     "checksum": "2a21193f70af144bec0039a1c5ca8b3c",
     "grade": false,
     "grade_id": "c-006",
     "locked": true,
     "schema_version": 3,
     "solution": false,
     "task": false
    }
   },
   "source": [
    "* なお, 大きなデータをランダムに読み出すと, HDDの場合, 相当待たされることになるので以下は小さめ(64MB)で実験する\n",
    "\n",
    "* <font color=\"blue\">64MBを4KBずつ逐次</font>読み出し(第5引数=0)\n",
    "\n",
    "* <font color=\"red\">注:</font> 以下でデータ(`../os11_cache/data.bin`)やプログラム(`../os11_cache/drop_cache`)がないというエラーになったら, 前回のJupyter notebook (os11_cache) の適切なセルを実行すること"
   ]
  },
  {
   "cell_type": "code",
   "execution_count": 3,
   "metadata": {
    "kernel": "Bash",
    "nbgrader": {
     "grade": false,
     "grade_id": "c-007",
     "locked": false,
     "schema_version": 3,
     "solution": false,
     "task": false
    }
   },
   "outputs": [
    {
     "name": "stdout",
     "output_type": "stream",
     "text": [
      "read 67108864 bytes 3 times, 4096 bytes at a time\n",
      "0 th read starts\n",
      "took 0.104587 sec, 611.930280 MB/sec, sum = -11020\n",
      "1 th read starts\n",
      "took 0.019215 sec, 3330.712659 MB/sec, sum = -11020\n",
      "2 th read starts\n",
      "took 0.018798 sec, 3404.640252 MB/sec, sum = -11020\n"
     ]
    }
   ],
   "source": [
    "data=../os11_cache/data.bin\n",
    "../os11_cache/drop_cache ${data}\n",
    "./read_file_seq_or_random ${data} 64m 3 4k 0 > s.dat"
   ]
  },
  {
   "cell_type": "markdown",
   "metadata": {
    "deletable": false,
    "editable": false,
    "kernel": "SoS",
    "nbgrader": {
     "cell_type": "markdown",
     "checksum": "e14ecde9ea88ffe94716898b4f03461d",
     "grade": false,
     "grade_id": "c-008",
     "locked": true,
     "schema_version": 3,
     "solution": false,
     "task": false
    }
   },
   "source": [
    "* <font color=\"blue\">64MBを4KBずつランダム</font>読み出し(第5引数=123456 (0以外))"
   ]
  },
  {
   "cell_type": "code",
   "execution_count": 4,
   "metadata": {
    "kernel": "Bash",
    "nbgrader": {
     "grade": false,
     "grade_id": "c-009",
     "locked": false,
     "schema_version": 3,
     "solution": false,
     "task": false
    }
   },
   "outputs": [
    {
     "name": "stdout",
     "output_type": "stream",
     "text": [
      "read 67108864 bytes 3 times, 4096 bytes at a time\n",
      "0 th read starts\n",
      "took 1.310013 sec, 48.854484 MB/sec, sum = -11020\n",
      "1 th read starts\n",
      "took 0.021313 sec, 3002.868860 MB/sec, sum = -11020\n",
      "2 th read starts\n",
      "took 0.017728 sec, 3610.089918 MB/sec, sum = -11020\n"
     ]
    }
   ],
   "source": [
    "data=../os11_cache/data.bin\n",
    "../os11_cache/drop_cache ${data}\n",
    "./read_file_seq_or_random ${data} 64m 3 4k 123456 > s.dat"
   ]
  },
  {
   "cell_type": "markdown",
   "metadata": {
    "deletable": false,
    "editable": false,
    "kernel": "SoS",
    "nbgrader": {
     "cell_type": "markdown",
     "checksum": "782b686294af5bb1437592c26482b741",
     "grade": false,
     "grade_id": "c-010",
     "locked": true,
     "schema_version": 3,
     "solution": false,
     "task": false
    }
   },
   "source": [
    "\n",
    "# 2. 逐次的なアクセスはなぜ速いのか?\n",
    "* まずはランダムアクセスの可視化をしてみよう\n",
    "* 以下はreadの呼び出し前と後を曲線で表示しており, <font color=\"blue\">グラフの拡大表示を繰り返していくと, 各読み出し(readシステムコール)にかかった時間がわかるのでやってみよ</font>\n",
    "* 以下は時間節約のため16MBを1回だけ読み出す\n",
    "* 各4KBの読み出しにかかった時間がどのくらいかを見てみよ"
   ]
  },
  {
   "cell_type": "code",
   "execution_count": 5,
   "metadata": {
    "kernel": "Bash",
    "nbgrader": {
     "grade": false,
     "grade_id": "c-011",
     "locked": false,
     "schema_version": 3,
     "solution": false,
     "task": false
    }
   },
   "outputs": [
    {
     "name": "stdout",
     "output_type": "stream",
     "text": [
      "read 16777216 bytes 1 times, 4096 bytes at a time\n",
      "0 th read starts\n",
      "took 0.322853 sec, 49.558144 MB/sec, sum = 1315\n"
     ]
    }
   ],
   "source": [
    "data=../os11_cache/data.bin\n",
    "../os11_cache/drop_cache ${data}\n",
    "./read_file_seq_or_random ${data} 16m 1 4k 123456 > r.dat"
   ]
  },
  {
   "cell_type": "markdown",
   "metadata": {
    "deletable": false,
    "editable": false,
    "kernel": "SoS",
    "nbgrader": {
     "cell_type": "markdown",
     "checksum": "8e30e9abbd508ecd5d63e2f688a1d598",
     "grade": false,
     "grade_id": "c-012",
     "locked": true,
     "schema_version": 3,
     "solution": false,
     "task": false
    }
   },
   "source": [
    "#  可視化"
   ]
  },
  {
   "cell_type": "code",
   "execution_count": 6,
   "metadata": {
    "kernel": "Python 3 (ipykernel)",
    "nbgrader": {
     "grade": false,
     "grade_id": "c-013",
     "locked": false,
     "schema_version": 3,
     "solution": false,
     "task": false
    }
   },
   "outputs": [],
   "source": [
    "#!/usr/bin/python3\n",
    "import pdb\n",
    "import re\n",
    "import sqlite3\n",
    "import sys\n",
    "import matplotlib.pyplot as plt\n",
    "import numpy as np\n",
    "\n",
    "def process_line(filename, line, exprs, row_exprs, V, K, R):\n",
    "    for e in exprs:\n",
    "        m = e.search(line)\n",
    "        if m:\n",
    "            V.update(m.groupdict())\n",
    "            dK = set(V.keys()).difference(set(K))\n",
    "            K.extend(list(dK))\n",
    "    for r in row_exprs:\n",
    "        if r.search(line):\n",
    "            R.append(V.copy())\n",
    "            break\n",
    "\n",
    "def read_dats(result_dats, exprs, row_exprs):\n",
    "    K = []\n",
    "    R = []\n",
    "    for result_dat in result_dats:\n",
    "        V = {\"file\" : result_dat}\n",
    "        with open(result_dat) as fp:\n",
    "            for line in fp:\n",
    "                process_line(result_dat, line, exprs, row_exprs, V, K, R)\n",
    "    return K, R\n",
    "\n",
    "def sqlite3_val(x):\n",
    "    if x is None:\n",
    "        return None\n",
    "    try:\n",
    "        return int(x)\n",
    "    except ValueError:\n",
    "        pass\n",
    "    try:\n",
    "        return float(x)\n",
    "    except ValueError:\n",
    "        pass\n",
    "    try:\n",
    "        return float(x)\n",
    "    except ValueError:\n",
    "        pass\n",
    "    return x\n",
    "\n",
    "def dats_to_db(result_dats, exprs, row_exprs):\n",
    "    K, R = read_dats(result_dats, exprs, row_exprs)\n",
    "    co = sqlite3.connect(\":memory:\")\n",
    "    co.execute(\"create table a({cols})\".format(cols=\",\".join(K)))\n",
    "    insert = (\"insert into a({cols}) values({placeholders})\"\n",
    "              .format(cols=\",\".join(K), placeholders=\",\".join([\"?\"] * len(K))))\n",
    "    for r in R:\n",
    "        co.execute(insert, tuple([sqlite3_val(r.get(k)) for k in K]))\n",
    "    co.commit()\n",
    "    return co\n",
    "\n",
    "def draw(files, exprs, row_exprs, cmds, start=0, end=-1,\n",
    "         xlabel=None, ylabel=None, col_is_x=False):\n",
    "    co = dats_to_db(files, exprs, row_exprs)\n",
    "    fig, ax = plt.subplots()\n",
    "    if xlabel:\n",
    "        plt.xlabel(xlabel)\n",
    "    if ylabel:\n",
    "        plt.ylabel(ylabel)\n",
    "    for cmd,kw in cmds:\n",
    "        res = list(co.execute(cmd))\n",
    "        res = res[start:end]\n",
    "        if len(res) == 0:\n",
    "            continue\n",
    "        if len(res[0]) == 1:\n",
    "            res = list(enumerate(x for x, in res))\n",
    "            if col_is_x:\n",
    "                res = [(y,x) for x,y in res]\n",
    "        x = np.array([x for x,_ in res])\n",
    "        y = np.array([y for _,y in res])\n",
    "        plt.plot(x, y, '-o', **kw)\n",
    "    plt.legend()\n",
    "    plt.show()\n",
    "    co.close()\n",
    "\n",
    "def graph(files, start=0, end=-1):\n",
    "    exprs = [\n",
    "        re.compile(r\"(?P<t>\\d+\\.\\d+) (?P<event>.*?) (?P<offset>\\d+) (?P<size>\\d+)\"),\n",
    "    ]\n",
    "    row_exprs = exprs[-1:]\n",
    "    draw(files, exprs, row_exprs,\n",
    "         [('select 1000*t from a where event=\"%s\"' % x, dict(label=\"%s\" % x))\n",
    "          for x in [\"read_ahead_enter\", \"read_ahead_return\", \"read_enter\", \"read_return\"]],\n",
    "         start=start, end=end,\n",
    "         xlabel=\"count\", ylabel=\"time [ms]\")\n",
    "\n"
   ]
  },
  {
   "cell_type": "code",
   "execution_count": 7,
   "metadata": {
    "kernel": "Python 3 (ipykernel)",
    "nbgrader": {
     "grade": false,
     "grade_id": "c-014",
     "locked": false,
     "schema_version": 3,
     "solution": false,
     "task": false
    }
   },
   "outputs": [
    {
     "data": {
      "image/png": "[encoded data removed]",
      "text/plain": [
       "<Figure size 640x480 with 1 Axes>"
      ]
     },
     "metadata": {},
     "output_type": "display_data"
    }
   ],
   "source": [
    "graph([\"r.dat\"])"
   ]
  },
  {
   "cell_type": "markdown",
   "metadata": {
    "deletable": false,
    "editable": false,
    "kernel": "SoS",
    "nbgrader": {
     "cell_type": "markdown",
     "checksum": "0cf7ba045b0f28aa7fa411d07f8f35ab",
     "grade": false,
     "grade_id": "c-015",
     "locked": true,
     "schema_version": 3,
     "solution": false,
     "task": false
    }
   },
   "source": [
    "* 一部を拡大するために, start=, end= という引数を指定する\n",
    "* 以下を適宜変更して望むところを拡大する"
   ]
  },
  {
   "cell_type": "code",
   "execution_count": 8,
   "metadata": {
    "kernel": "Python 3 (ipykernel)",
    "nbgrader": {
     "grade": false,
     "grade_id": "c-016",
     "locked": false,
     "schema_version": 3,
     "solution": false,
     "task": false
    }
   },
   "outputs": [
    {
     "data": {
      "image/png": "[encoded data removed]",
      "text/plain": [
       "<Figure size 640x480 with 1 Axes>"
      ]
     },
     "metadata": {},
     "output_type": "display_data"
    }
   ],
   "source": [
    "graph([\"r.dat\"], start=0, end=500)"
   ]
  },
  {
   "cell_type": "markdown",
   "metadata": {
    "deletable": false,
    "editable": false,
    "kernel": "SoS",
    "nbgrader": {
     "cell_type": "markdown",
     "checksum": "f67fa8bdf9e69fa888c9ae420a2ae409",
     "grade": false,
     "grade_id": "c-017",
     "locked": true,
     "schema_version": 3,
     "solution": false,
     "task": false
    }
   },
   "source": [
    "* 逐次アクセスと比べる"
   ]
  },
  {
   "cell_type": "code",
   "execution_count": 9,
   "metadata": {
    "kernel": "Bash",
    "nbgrader": {
     "grade": false,
     "grade_id": "c-018",
     "locked": false,
     "schema_version": 3,
     "solution": false,
     "task": false
    }
   },
   "outputs": [
    {
     "name": "stdout",
     "output_type": "stream",
     "text": [
      "read 16777216 bytes 1 times, 4096 bytes at a time\n",
      "0 th read starts\n",
      "took 0.022761 sec, 702.953523 MB/sec, sum = 1315\n"
     ]
    }
   ],
   "source": [
    "data=../os11_cache/data.bin\n",
    "../os11_cache/drop_cache ${data}\n",
    "./read_file_seq_or_random ${data} 16m 1 4k 0 > s.dat"
   ]
  },
  {
   "cell_type": "markdown",
   "metadata": {
    "deletable": false,
    "editable": false,
    "kernel": "SoS",
    "nbgrader": {
     "cell_type": "markdown",
     "checksum": "fcbc12ec0bd550ad39167ade884e5a57",
     "grade": false,
     "grade_id": "c-019",
     "locked": true,
     "schema_version": 3,
     "solution": false,
     "task": false
    }
   },
   "source": [
    "* 可視化\n",
    "  * 特にはじめの方を, 2本の線の間隔がわかるようになるまで拡大表示てみよ"
   ]
  },
  {
   "cell_type": "code",
   "execution_count": 14,
   "metadata": {
    "kernel": "Python 3 (ipykernel)",
    "nbgrader": {
     "grade": false,
     "grade_id": "c-020",
     "locked": false,
     "schema_version": 3,
     "solution": false,
     "task": false
    }
   },
   "outputs": [
    {
     "data": {
      "image/png": "[encoded data removed]",
      "text/plain": [
       "<Figure size 640x480 with 1 Axes>"
      ]
     },
     "metadata": {},
     "output_type": "display_data"
    }
   ],
   "source": [
    "# graph([\"s.dat\"])\n",
    "graph([\"s.dat\"], start=0, end=100)"
   ]
  },
  {
   "cell_type": "markdown",
   "metadata": {
    "deletable": false,
    "editable": false,
    "kernel": "SoS",
    "nbgrader": {
     "cell_type": "markdown",
     "checksum": "3f05ccb7f6cd6925e37a46934f098ae7",
     "grade": false,
     "grade_id": "c-021",
     "locked": true,
     "schema_version": 3,
     "solution": false,
     "task": false
    }
   },
   "source": [
    "* <font color=\"blue\">ここからOSが何をしているのかの片鱗が見て取れる</font>\n",
    "* ある<font color=\"blue\">4KBのアクセスが終わるとその後しばらくのreadには, ほとんど時間がかからずに終了</font>していることが見て取れる(`read_enter`と`read_return`にほとんど隙間がない)\n",
    "* それは, それらの(すぐに終わる)readの発行時にはすでにそのデータがキャッシュ(メモリ)上に載っているからであり, それはOSが4KBの読み出しであっても, 「逐次的な読み出し」を察知するとその先のデータも一度に読み出(先読み)しているからであると考えられる\n",
    "* 実験結果から最大で32回分, したがって128KBくらいの読み出しを一度に出していると考えられる\n",
    "* 従ってランダムな(飛び飛びの)アクセスであっても一度にその程度の量を読み出すのであれば逐次読み出しと大差のない性能が得られると予想され, 実際そのとおりの結果になる\n",
    "\n",
    "* 128MBを逐次またはランダムに読み出す. ただし一度に128KB程度読み出す"
   ]
  },
  {
   "cell_type": "code",
   "execution_count": 15,
   "metadata": {
    "kernel": "Bash",
    "nbgrader": {
     "grade": false,
     "grade_id": "c-022",
     "locked": false,
     "schema_version": 3,
     "solution": false,
     "task": false
    }
   },
   "outputs": [
    {
     "name": "stdout",
     "output_type": "stream",
     "text": [
      "read 134217728 bytes 1 times, 131072 bytes at a time\n",
      "0 th read starts\n",
      "took 0.192731 sec, 664.137610 MB/sec, sum = -6773\n",
      "read 134217728 bytes 1 times, 131072 bytes at a time\n",
      "0 th read starts\n",
      "took 0.275088 sec, 465.305526 MB/sec, sum = -6773\n"
     ]
    }
   ],
   "source": [
    "data=../os11_cache/data.bin\n",
    "../os11_cache/drop_cache ${data}\n",
    "./read_file_seq_or_random ${data} 128m 1 128k 0 > s.dat\n",
    "../os11_cache/drop_cache ${data}\n",
    "./read_file_seq_or_random ${data} 128m 1 128k 123456 > r.dat"
   ]
  },
  {
   "cell_type": "markdown",
   "metadata": {
    "deletable": false,
    "editable": false,
    "kernel": "SoS",
    "nbgrader": {
     "cell_type": "markdown",
     "checksum": "f3ede5da4bcc27cf40891dbb0c0ddaff",
     "grade": false,
     "grade_id": "c-023",
     "locked": true,
     "schema_version": 3,
     "solution": false,
     "task": false
    }
   },
   "source": [
    "\n",
    "# 3. アプリケーション設計に対する指針\n",
    "* 逐次読み出し と ランダム読み出しの性能の違いはデータ処理アプリケーション設計の際にも重要な設計指針を与える\n",
    "* 勿論大きくは, 「データを読み出す量を最小にする」ことが効率化につながるわけだが, 一度に読み出すデータをある程度以下(2次記憶装置の「遅延 * 最大転送速度」に比べて極端に少なすぎる値)にしても, 2次記憶装置からの読み出し高速化にはつながらない\n",
    "* 例えば平均遅延が5ms, 最大の転送速度が100MB/secのHDDは,\n",
    "  * 1バイトの読み出しに5msかかる一方,\n",
    "  * 100KB の読み出しに 5ms + 100KB/100MB = 5ms + 1ms = 6ms しかかからない, ということになる\n",
    "* したがってディスク上で連続した100KB程度のデータであればその中のごく一部を読み出すような節約はあまり意味がないことになる\n",
    "* キャッシュに載っているデータであれば意味があるので, キャッシュの効果までを含めた, 効率的なデータ構造は自明な問題ではない\n",
    "\n",
    "* このことは大規模データからの検索やマイニングのようなアプリケーションで特に問題となる\n",
    "* 索引(木構造やハッシュ表)を使ってアクセスするデータを減らす(結果的にアクセスがランダムになりがち)のが良いのか, 全てのデータを逐次的に読んでしまうのが良いのか, という選択を迫られる\n",
    "\n",
    "# 4. ランダムアクセスを高速にすることは可能か?\n",
    "* ディスク上で散らばった細かいデータを高速に読み出すことは可能なのだろうか?\n",
    "* ランダムな読み出しが遅い理由は, 転送速度が「1回の読み出し量 / 遅延」で律速されるからである\n",
    "* 性能を向上させる基本的な手段は複数のアクセスを並行して行うことである.\n",
    "* 以下の方法で実際にこれで性能が向上するかどうかは2次記憶装置の特性に大きく依存する\n",
    "* 複数の(バラバラな場所に対する)アクセスを複数, 並行して処理することができる装置であれば性能向上が見込める\n",
    "\n",
    "* たとえ話\n",
    "  * 引っ越しで, 大量の荷物を運びたい\n",
    "  * 荷物は大量で, 1台の車だと何往復もする必要がある\n",
    "  * 全部の荷物を運び終えるのに一台の車をビュンビュン飛ばして走る方法(同じ時間で往復できる数を増やす)もあるが, 公道ではすぐに限界が来るだろう\n",
    "  * そうではなくて何台もの車を同時に走らせれば運び終えるまでの時間は短くなる\n",
    "\n",
    "# 5. readahead\n",
    "* <font color=\"blue\">readaheadはこれから必要となる領域をOSに指示するAPIで, OSがファイルの指定された領域をキャッシュまで読み込む効果を持つ</font>\n",
    "* man readaheadを参照\n",
    "* readと異なり, データの到着を待たないため, 複数の要求をどんどん発行することができる\n",
    "* 以下は第6引数で, 何回分の読み出しをreadahead (先出し)しておくかを指定する"
   ]
  },
  {
   "cell_type": "code",
   "execution_count": 16,
   "metadata": {
    "kernel": "Python 3 (ipykernel)",
    "nbgrader": {
     "grade": false,
     "grade_id": "c-024",
     "locked": false,
     "schema_version": 3,
     "solution": false,
     "task": false
    }
   },
   "outputs": [
    {
     "name": "stdout",
     "output_type": "stream",
     "text": [
      "Writing read_file_ahead.c\n"
     ]
    }
   ],
   "source": [
    "%%writefile read_file_ahead.c\n",
    "#define _GNU_SOURCE             /* See feature_test_macros(7) */\n",
    "#include <assert.h>\n",
    "#include <err.h>\n",
    "#include <fcntl.h>\n",
    "#include <stdio.h>\n",
    "#include <stdlib.h>\n",
    "#include <string.h>\n",
    "#include <sys/time.h>\n",
    "#include <unistd.h>\n",
    "\n",
    "/* イベントの種類 */\n",
    "typedef enum {\n",
    "  ek_read_enter,\n",
    "  ek_read_return,\n",
    "  ek_read_ahead_enter,\n",
    "  ek_read_ahead_return,\n",
    "} event_kind_t;\n",
    "\n",
    "/* 1イベントの記録 */\n",
    "typedef struct {\n",
    "  double t;                     /* 時刻 */\n",
    "  event_kind_t kind;            /* イベントの種類(read呼び出し, read復帰, etc.) */\n",
    "  size_t offset;                /* 読んだ場所 */\n",
    "  size_t size;                  /* 読んだサイズ */\n",
    "} record_t;\n",
    "\n",
    "/* 全イベントの記録 */\n",
    "typedef struct {\n",
    "  long n_records;              /* 配列aのサイズ */\n",
    "  long i;                       /* 次に書き込むインデクス */\n",
    "  record_t * a;                 /* recordの配列 */\n",
    "  int fd;                       /* ファイルディスクリプタ */\n",
    "  long data_sz;                 /* ファイル(使う部分)のサイズ */\n",
    "} records_t;\n",
    "\n",
    "const char * event_kind_string(event_kind_t k) {\n",
    "  switch (k) {\n",
    "  case ek_read_enter:\n",
    "    return \"read_enter\";\n",
    "  case ek_read_return:\n",
    "    return \"read_return\";\n",
    "  case ek_read_ahead_enter:\n",
    "    return \"read_ahead_enter\";\n",
    "  case ek_read_ahead_return:\n",
    "    return \"read_ahead_return\";\n",
    "  default:\n",
    "    assert(0);\n",
    "  }\n",
    "}\n",
    "\n",
    "const long page_sz = 4096;\n",
    "\n",
    "/* n_records分の記録を保持できるrecords_tを作る */\n",
    "records_t * mk_records(long n_records\n",
    "                       ) {\n",
    "  record_t * a = (record_t *)malloc(sizeof(record_t) * n_records);\n",
    "  memset(a, 0, sizeof(record_t) * n_records);\n",
    "  /* records_tの割当て */\n",
    "  records_t * R = (records_t *)malloc(sizeof(records_t));\n",
    "  R->n_records = n_records;\n",
    "  R->i = 0;\n",
    "  R->a = a;\n",
    "  return R;\n",
    "}\n",
    "\n",
    "void destroy_records(records_t * R) {\n",
    "  free((records_t *)R);\n",
    "}\n",
    "\n",
    "/* 時刻を返す */\n",
    "double cur_time() {\n",
    "  struct timeval tp[1];\n",
    "  gettimeofday(tp, 0);\n",
    "  double t = tp->tv_sec + 1.0e-6 * tp->tv_usec;\n",
    "  return t;\n",
    "}\n",
    "\n",
    "/* 1イベントの記録 */\n",
    "void record_event(records_t * R, event_kind_t k, size_t offset, size_t size) {\n",
    "  long i = __sync_fetch_and_add(&R->i, 1);\n",
    "  assert(i < R->n_records);\n",
    "  R->a[i].t = cur_time();\n",
    "  R->a[i].kind = k;\n",
    "  R->a[i].offset = offset;\n",
    "  R->a[i].size = size;\n",
    "}\n",
    "\n",
    "/* 全イベントの記録を標準出力へ表示 */\n",
    "void print_records(records_t * R) {\n",
    "  long m = R->i;\n",
    "  for (long i = 0; i < m; i++) {\n",
    "    printf(\"%f %s %ld %ld\\n\",\n",
    "           R->a[i].t - R->a[0].t,\n",
    "           event_kind_string(R->a[i].kind),\n",
    "           R->a[i].offset,\n",
    "           R->a[i].size);\n",
    "  }\n",
    "}\n",
    "\n",
    "/* 長さ n_blocks の配列 a を返す. \n",
    "   a[i] は i 番目に読むべきファイルの位置.\n",
    "   seed == 0 の場合 -> 逐次 \n",
    "   seed != 0 の場合 -> ランダム */\n",
    "ssize_t * make_offsets(int block_sz, int n_blocks, long seed) {\n",
    "  ssize_t * a = (ssize_t *)malloc(sizeof(ssize_t) * n_blocks);\n",
    "  int i = 0;\n",
    "  for (i = 0; i < n_blocks; i++) {\n",
    "    a[i] = i * block_sz;\n",
    "  }\n",
    "  if (seed) {\n",
    "    unsigned short rg[3] = {(unsigned short)(seed >> 16),\n",
    "                            (unsigned short)(seed >> 8),\n",
    "                            (unsigned short)(seed >> 0)};\n",
    "    /* 配列のかき混ぜ (10 * 要素数回くらい, 適当な2要素を入れ替え) */\n",
    "    for (i = 0; i < 10 * n_blocks; i++) {\n",
    "      int j = nrand48(rg) % n_blocks;\n",
    "      int k = nrand48(rg) % n_blocks;\n",
    "      int t = a[j];\n",
    "      a[j] = a[k];\n",
    "      a[k] = t;\n",
    "    }\n",
    "  }\n",
    "  return a;\n",
    "}\n",
    "\n",
    "/* ファイルfdの [offset, offset+sz) の範囲をreadahead */\n",
    "void read_ahead(int fd, off64_t offset, size_t sz, records_t * R) {\n",
    "  record_event(R, ek_read_ahead_enter, offset, sz);\n",
    "  ssize_t r = readahead(fd, offset, sz);\n",
    "  if (r == -1) err(1, \"readahead\");\n",
    "  record_event(R, ek_read_ahead_return, offset, sz);\n",
    "}\n",
    "\n",
    "/* szバイトぴったり読む. その前にEOFになったらエラー */\n",
    "long read_sz_at(int fd, char * buf, off_t offset, size_t sz, records_t * R) {\n",
    "  //if (lseek(fd, offset, SEEK_SET) == -1) err(1, \"lseek\");\n",
    "  record_event(R, ek_read_enter, offset, sz);\n",
    "  size_t rd = 0;\n",
    "  while (rd < sz) {\n",
    "    ssize_t x = pread(fd, buf + rd, sz - rd, offset + rd);\n",
    "    if (x == -1) err(1, \"read\");\n",
    "    assert(x > 0);\n",
    "    rd += x;\n",
    "  }\n",
    "  assert(rd == sz);\n",
    "  size_t begin_offset = offset + page_sz - 1;\n",
    "  begin_offset -= begin_offset % page_sz;\n",
    "  long s = 0;\n",
    "  for (size_t o = begin_offset; o < offset + sz; o += page_sz) {\n",
    "    s += buf[o - offset];\n",
    "  }\n",
    "  record_event(R, ek_read_return, offset, sz);\n",
    "  return s;\n",
    "}\n",
    "\n",
    "/* 10m, 100k みたいな文字列を読んで数に変換\n",
    "   e.g., 10k -> 10 * 1024 */\n",
    "long parse_size(char * s) {\n",
    "  long n = strlen(s);\n",
    "  long unit = -1;\n",
    "  assert(n > 0);\n",
    "  switch (s[n - 1]) {\n",
    "  case 'K' :\n",
    "  case 'k' :\n",
    "    unit = 1024L;\n",
    "    break;\n",
    "  case 'M' :\n",
    "  case 'm' :\n",
    "    unit = 1024L * 1024L;\n",
    "    break;\n",
    "  case '0' ... '9' :\n",
    "    unit = 1L;\n",
    "    break;\n",
    "  case 'G' :\n",
    "  case 'g' :\n",
    "    fprintf(stderr, \"do you mean GB? don't be so aggressive\\n\");\n",
    "    break;\n",
    "  case 'T' :\n",
    "  case 't' :\n",
    "    fprintf(stderr, \"do you mean TB? don't be so aggressive\\n\");\n",
    "    break;\n",
    "  default:\n",
    "    fprintf(stderr, \"invalid unit (%c) specified\\n\", s[n - 1]);\n",
    "    break;\n",
    "  }\n",
    "  if (unit == -1) return -1;\n",
    "  long x = atol(s);\n",
    "  assert(x > 0);\n",
    "  return x * unit;\n",
    "}\n",
    "\n",
    "/* \n",
    "./read_file_3 FILE SZ N_TIMES BLK_SZ SEED N_READAHEADS\n",
    " */\n",
    "int main(int argc, char ** argv) {\n",
    "  int i = 1;\n",
    "  char * const filename = (argc > i ? argv[i] : \"data.bin\"); i++;\n",
    "  /* 使うデータサイズ (ファイルの先頭から; MB単位) */\n",
    "  const long data_sz_   = (argc > i ? parse_size(argv[i]) : parse_size(\"64m\")); i++;\n",
    "  /* ファイル全体を読む周回数 */\n",
    "  const long n_times    = (argc > i ? atol(argv[i]) : 3); i++;\n",
    "  /* read一回で読む量 */\n",
    "  const long block_sz   = (argc > i ? parse_size(argv[i]) : parse_size(\"4k\")); i++;\n",
    "  /* 乱数 seed (0の場合は逐次) */\n",
    "  const long seed       = (argc > i ? atol(argv[i]) : 0); i++;\n",
    "  /* 先読みする数 */\n",
    "  const long n_aheads   = (argc > i ? atol(argv[i]) : 0); i++;\n",
    "  /* ブロック数 (中途半端は切り捨て) */\n",
    "  const long n_blocks   = data_sz_ / block_sz;\n",
    "  const long data_sz    = block_sz * n_blocks;\n",
    "  /* 読み出すオフセットを作成 */\n",
    "  const long n_records  = 4 * n_blocks * n_times;\n",
    "  ssize_t * const offsets = make_offsets(block_sz, n_blocks, seed);\n",
    "  records_t * const R = mk_records(n_records);\n",
    "\n",
    "  fprintf(stderr, \"read %ld bytes %ld times, %ld bytes at a time\\n\",\n",
    "          data_sz, n_times, block_sz); fflush(stderr);\n",
    "  for (long i = 0; i < n_times; i++) {\n",
    "    fprintf(stderr, \"%ld th read starts\\n\", i); fflush(stderr);\n",
    "    const double t0 = cur_time();\n",
    "    const int fd = open(filename, O_RDONLY);\n",
    "    if (fd == -1) err(1, \"open\");\n",
    "    long s = 0;\n",
    "    {\n",
    "      char * const buf = (char *)malloc(block_sz);\n",
    "      if (!buf) err(1, \"malloc\");\n",
    "      /* n_aheads回分のreadahead */\n",
    "      for (long j = -n_aheads; j < n_blocks; j++) {\n",
    "        if (j >= 0) {\n",
    "          s += read_sz_at(fd, buf, offsets[j], block_sz, R);\n",
    "        }\n",
    "        if (n_aheads > 0 && j + n_aheads < n_blocks) {\n",
    "          read_ahead(fd, offsets[j + n_aheads], block_sz, R);\n",
    "        }\n",
    "      }\n",
    "      free(buf);\n",
    "    }\n",
    "    if (close(fd) == -1) err(1, \"close\");\n",
    "    double t1 = cur_time();\n",
    "    double dt = t1 - t0;\n",
    "    fprintf(stderr, \"took %f sec, %f MB/sec, sum = %ld\\n\",\n",
    "            dt, data_sz / (1024.0 * 1024.0) / dt, s);\n",
    "    fflush(stderr);\n",
    "  }\n",
    "  print_records(R);\n",
    "  destroy_records(R);\n",
    "  return 0;\n",
    "}"
   ]
  },
  {
   "cell_type": "code",
   "execution_count": 17,
   "metadata": {
    "kernel": "Bash",
    "nbgrader": {
     "grade": false,
     "grade_id": "c-025",
     "locked": false,
     "schema_version": 3,
     "solution": false,
     "task": false
    }
   },
   "outputs": [],
   "source": [
    "gcc -Wall -O3 -o read_file_ahead read_file_ahead.c"
   ]
  },
  {
   "cell_type": "markdown",
   "metadata": {
    "deletable": false,
    "editable": false,
    "kernel": "SoS",
    "nbgrader": {
     "cell_type": "markdown",
     "checksum": "ea752e6f3e14652b77be8a36192453e0",
     "grade": false,
     "grade_id": "c-026",
     "locked": true,
     "schema_version": 3,
     "solution": false,
     "task": false
    }
   },
   "source": [
    "* 最後の引数 (p) をいろいろと変えて実行してみよ\n",
    "  * p = 1 は1つだけreadaheadする(readaheadしたデータを直後にreadするので先読みの効果は殆ど無い)\n",
    "  * p = 2 からは(装置により)効果が現れるはず. 措置が理想的に, 2つの読み出しを並行に(それぞれを単独の読み出しと同じ時間で)処理できるのなら性能が2倍になる\n",
    "  * 一般に, <font color=\"blue\">措置が理想的にp個の読み出しをほぼ並行に(それぞれを, 単独の読み出しと同じ時間で)処理できるのなら性能がp倍になる</font>\n",
    "\n",
    "* <font color=\"blue\">pを変えて観測してみよ</font>"
   ]
  },
  {
   "cell_type": "code",
   "execution_count": 41,
   "metadata": {
    "kernel": "Bash",
    "nbgrader": {
     "grade": false,
     "grade_id": "c-027",
     "locked": false,
     "schema_version": 3,
     "solution": false,
     "task": false
    }
   },
   "outputs": [
    {
     "name": "stdout",
     "output_type": "stream",
     "text": [
      "read 16777216 bytes 1 times, 4096 bytes at a time\n",
      "0 th read starts\n",
      "took 0.188480 sec, 84.889581 MB/sec, sum = 1315\n"
     ]
    }
   ],
   "source": [
    "data=../os11_cache/data.bin\n",
    "../os11_cache/drop_cache ${data}\n",
    "p=10\n",
    "./read_file_ahead ${data} 16m 1 4k 123456 ${p} > r.dat"
   ]
  },
  {
   "cell_type": "markdown",
   "metadata": {
    "deletable": false,
    "editable": false,
    "kernel": "SoS",
    "nbgrader": {
     "cell_type": "markdown",
     "checksum": "1413835b81025f86df4ee64f06e02682",
     "grade": false,
     "grade_id": "c-028",
     "locked": true,
     "schema_version": 3,
     "solution": false,
     "task": false
    }
   },
   "source": [
    "* 可視化"
   ]
  },
  {
   "cell_type": "code",
   "execution_count": 42,
   "metadata": {
    "kernel": "Python 3 (ipykernel)",
    "nbgrader": {
     "grade": false,
     "grade_id": "c-029",
     "locked": false,
     "schema_version": 3,
     "solution": false,
     "task": false
    }
   },
   "outputs": [
    {
     "data": {
      "image/png": "[encoded data removed]",
      "text/plain": [
       "<Figure size 640x480 with 1 Axes>"
      ]
     },
     "metadata": {},
     "output_type": "display_data"
    }
   ],
   "source": [
    "graph([\"r.dat\"])"
   ]
  },
  {
   "cell_type": "markdown",
   "metadata": {
    "deletable": false,
    "editable": false,
    "kernel": "SoS",
    "nbgrader": {
     "cell_type": "markdown",
     "checksum": "6e4b0cac2011a47030fda66d3d1ce104",
     "grade": false,
     "grade_id": "c-030",
     "locked": true,
     "schema_version": 3,
     "solution": false,
     "task": false
    }
   },
   "source": [
    "# 6. 複数スレッドで読み込み\n",
    "* readaheadを使う代わりに複数のスレッドで読み出すことでも, 複数の読み出し要求を並行して出すことができる\n",
    "* 以下は読み出し部分をOpenMPで並列化したもの"
   ]
  },
  {
   "cell_type": "code",
   "execution_count": 43,
   "metadata": {
    "kernel": "Python 3 (ipykernel)",
    "nbgrader": {
     "grade": false,
     "grade_id": "c-031",
     "locked": false,
     "schema_version": 3,
     "solution": false,
     "task": false
    }
   },
   "outputs": [
    {
     "name": "stdout",
     "output_type": "stream",
     "text": [
      "Writing read_file_thread.c\n"
     ]
    }
   ],
   "source": [
    "%%writefile read_file_thread.c\n",
    "#define _GNU_SOURCE             /* See feature_test_macros(7) */\n",
    "#include <assert.h>\n",
    "#include <err.h>\n",
    "#include <fcntl.h>\n",
    "#include <stdio.h>\n",
    "#include <stdlib.h>\n",
    "#include <string.h>\n",
    "#include <sys/time.h>\n",
    "#include <unistd.h>\n",
    "\n",
    "/* イベントの種類 */\n",
    "typedef enum {\n",
    "  ek_read_enter,\n",
    "  ek_read_return,\n",
    "  ek_read_ahead_enter,\n",
    "  ek_read_ahead_return,\n",
    "} event_kind_t;\n",
    "\n",
    "/* 1イベントの記録 */\n",
    "typedef struct {\n",
    "  double t;                     /* 時刻 */\n",
    "  event_kind_t kind;            /* イベントの種類(read呼び出し, read復帰, etc.) */\n",
    "  size_t offset;                /* 読んだ場所 */\n",
    "  size_t size;                  /* 読んだサイズ */\n",
    "} record_t;\n",
    "\n",
    "/* 全イベントの記録 */\n",
    "typedef struct {\n",
    "  long n_records;              /* 配列aのサイズ */\n",
    "  long i;                       /* 次に書き込むインデクス */\n",
    "  record_t * a;                 /* recordの配列 */\n",
    "  int fd;                       /* ファイルディスクリプタ */\n",
    "  long data_sz;                 /* ファイル(使う部分)のサイズ */\n",
    "} records_t;\n",
    "\n",
    "const char * event_kind_string(event_kind_t k) {\n",
    "  switch (k) {\n",
    "  case ek_read_enter:\n",
    "    return \"read_enter\";\n",
    "  case ek_read_return:\n",
    "    return \"read_return\";\n",
    "  case ek_read_ahead_enter:\n",
    "    return \"read_ahead_enter\";\n",
    "  case ek_read_ahead_return:\n",
    "    return \"read_ahead_return\";\n",
    "  default:\n",
    "    assert(0);\n",
    "  }\n",
    "}\n",
    "\n",
    "const long page_sz = 4096;\n",
    "\n",
    "/* n_records分の記録を保持できるrecords_tを作る */\n",
    "records_t * mk_records(long n_records\n",
    "                       ) {\n",
    "  record_t * a = (record_t *)malloc(sizeof(record_t) * n_records);\n",
    "  memset(a, 0, sizeof(record_t) * n_records);\n",
    "  /* records_tの割当て */\n",
    "  records_t * R = (records_t *)malloc(sizeof(records_t));\n",
    "  R->n_records = n_records;\n",
    "  R->i = 0;\n",
    "  R->a = a;\n",
    "  return R;\n",
    "}\n",
    "\n",
    "void destroy_records(records_t * R) {\n",
    "  free((records_t *)R);\n",
    "}\n",
    "\n",
    "/* 時刻を返す */\n",
    "double cur_time() {\n",
    "  struct timeval tp[1];\n",
    "  gettimeofday(tp, 0);\n",
    "  double t = tp->tv_sec + 1.0e-6 * tp->tv_usec;\n",
    "  return t;\n",
    "}\n",
    "\n",
    "/* 1イベントの記録 */\n",
    "void record_event(records_t * R, event_kind_t k, size_t offset, size_t size) {\n",
    "  long i = __sync_fetch_and_add(&R->i, 1);\n",
    "  assert(i < R->n_records);\n",
    "  R->a[i].t = cur_time();\n",
    "  R->a[i].kind = k;\n",
    "  R->a[i].offset = offset;\n",
    "  R->a[i].size = size;\n",
    "}\n",
    "\n",
    "/* 全イベントの記録を標準出力へ表示 */\n",
    "void print_records(records_t * R) {\n",
    "  long m = R->i;\n",
    "  for (long i = 0; i < m; i++) {\n",
    "    printf(\"%f %s %ld %ld\\n\",\n",
    "           R->a[i].t - R->a[0].t,\n",
    "           event_kind_string(R->a[i].kind),\n",
    "           R->a[i].offset,\n",
    "           R->a[i].size);\n",
    "  }\n",
    "}\n",
    "\n",
    "/* 長さ n_blocks の配列 a を返す. \n",
    "   a[i] は i 番目に読むべきファイルの位置.\n",
    "   seed == 0 の場合 -> 逐次 \n",
    "   seed != 0 の場合 -> ランダム */\n",
    "ssize_t * make_offsets(int block_sz, int n_blocks, long seed) {\n",
    "  ssize_t * a = (ssize_t *)malloc(sizeof(ssize_t) * n_blocks);\n",
    "  int i = 0;\n",
    "  for (i = 0; i < n_blocks; i++) {\n",
    "    a[i] = i * block_sz;\n",
    "  }\n",
    "  if (seed) {\n",
    "    unsigned short rg[3] = {(unsigned short)(seed >> 16),\n",
    "                            (unsigned short)(seed >> 8),\n",
    "                            (unsigned short)(seed >> 0)};\n",
    "    /* 配列のかき混ぜ (10 * 要素数回くらい, 適当な2要素を入れ替え) */\n",
    "    for (i = 0; i < 10 * n_blocks; i++) {\n",
    "      int j = nrand48(rg) % n_blocks;\n",
    "      int k = nrand48(rg) % n_blocks;\n",
    "      int t = a[j];\n",
    "      a[j] = a[k];\n",
    "      a[k] = t;\n",
    "    }\n",
    "  }\n",
    "  return a;\n",
    "}\n",
    "\n",
    "/* ファイルfdの [offset, offset+sz) の範囲をreadahead */\n",
    "void read_ahead(int fd, off64_t offset, size_t sz, records_t * R) {\n",
    "  record_event(R, ek_read_ahead_enter, offset, sz);\n",
    "  ssize_t r = readahead(fd, offset, sz);\n",
    "  if (r == -1) err(1, \"readahead\");\n",
    "  record_event(R, ek_read_ahead_return, offset, sz);\n",
    "}\n",
    "\n",
    "/* szバイトぴったり読む. その前にEOFになったらエラー */\n",
    "long read_sz_at(int fd, char * buf, off_t offset, size_t sz, records_t * R) {\n",
    "  //if (lseek(fd, offset, SEEK_SET) == -1) err(1, \"lseek\");\n",
    "  record_event(R, ek_read_enter, offset, sz);\n",
    "  size_t rd = 0;\n",
    "  while (rd < sz) {\n",
    "    ssize_t x = pread(fd, buf + rd, sz - rd, offset + rd);\n",
    "    if (x == -1) err(1, \"read\");\n",
    "    assert(x > 0);\n",
    "    rd += x;\n",
    "  }\n",
    "  assert(rd == sz);\n",
    "  size_t begin_offset = offset + page_sz - 1;\n",
    "  begin_offset -= begin_offset % page_sz;\n",
    "  long s = 0;\n",
    "  for (size_t o = begin_offset; o < offset + sz; o += page_sz) {\n",
    "    s += buf[o - offset];\n",
    "  }\n",
    "  record_event(R, ek_read_return, offset, sz);\n",
    "  return s;\n",
    "}\n",
    "\n",
    "/* 10m, 100k みたいな文字列を読んで数に変換\n",
    "   e.g., 10k -> 10 * 1024 */\n",
    "long parse_size(char * s) {\n",
    "  long n = strlen(s);\n",
    "  long unit = -1;\n",
    "  assert(n > 0);\n",
    "  switch (s[n - 1]) {\n",
    "  case 'K' :\n",
    "  case 'k' :\n",
    "    unit = 1024L;\n",
    "    break;\n",
    "  case 'M' :\n",
    "  case 'm' :\n",
    "    unit = 1024L * 1024L;\n",
    "    break;\n",
    "  case '0' ... '9' :\n",
    "    unit = 1L;\n",
    "    break;\n",
    "  case 'G' :\n",
    "  case 'g' :\n",
    "    fprintf(stderr, \"do you mean GB? don't be so aggressive\\n\");\n",
    "    break;\n",
    "  case 'T' :\n",
    "  case 't' :\n",
    "    fprintf(stderr, \"do you mean TB? don't be so aggressive\\n\");\n",
    "    break;\n",
    "  default:\n",
    "    fprintf(stderr, \"invalid unit (%c) specified\\n\", s[n - 1]);\n",
    "    break;\n",
    "  }\n",
    "  if (unit == -1) return -1;\n",
    "  long x = atol(s);\n",
    "  assert(x > 0);\n",
    "  return x * unit;\n",
    "}\n",
    "\n",
    "/* \n",
    "OMP_NUM_THREADS=N ./read_file_4 FILE SZ N_TIMES BLK_SZ SEED\n",
    " */\n",
    "int main(int argc, char ** argv) {\n",
    "  int i = 1;\n",
    "  char * const filename = (argc > i ? argv[i] : \"data.bin\"); i++;\n",
    "  /* 使うデータサイズ (ファイルの先頭から; MB単位) */\n",
    "  const long data_sz_   = (argc > i ? parse_size(argv[i]) : parse_size(\"64m\")); i++;\n",
    "  /* ファイル全体を読む周回数 */\n",
    "  const long n_times    = (argc > i ? atol(argv[i]) : 3); i++;\n",
    "  /* read一回で読む量 */\n",
    "  const long block_sz   = (argc > i ? parse_size(argv[i]) : parse_size(\"4k\")); i++;\n",
    "  /* 乱数 seed (0の場合は逐次) */\n",
    "  const long seed       = (argc > i ? atol(argv[i]) : 0); i++;\n",
    "  /* 先読みする数 */\n",
    "  const long n_aheads   = (argc > i ? atol(argv[i]) : 0); i++;\n",
    "  /* ブロック数 (中途半端は切り捨て) */\n",
    "  const long n_blocks   = data_sz_ / block_sz;\n",
    "  const long data_sz    = block_sz * n_blocks;\n",
    "  /* 読み出すオフセットを作成 */\n",
    "  const long n_records  = 4 * n_blocks * n_times;\n",
    "  ssize_t * const offsets = make_offsets(block_sz, n_blocks, seed);\n",
    "  records_t * const R = mk_records(n_records);\n",
    "\n",
    "  fprintf(stderr, \"read %ld bytes %ld times, %ld bytes at a time\\n\",\n",
    "          data_sz, n_times, block_sz); fflush(stderr);\n",
    "  for (long i = 0; i < n_times; i++) {\n",
    "    fprintf(stderr, \"%ld th read starts\\n\", i); fflush(stderr);\n",
    "    const double t0 = cur_time();\n",
    "    const int fd = open(filename, O_RDONLY);\n",
    "    if (fd == -1) err(1, \"open\");\n",
    "    long s = 0;\n",
    "#pragma omp parallel reduction(+:s)\n",
    "    {\n",
    "      char * const buf = (char *)malloc(block_sz);\n",
    "      if (!buf) err(1, \"malloc\");\n",
    "#pragma omp for schedule(dynamic)\n",
    "      /* n_aheads回分のreadahead */\n",
    "      for (long j = -n_aheads; j < n_blocks; j++) {\n",
    "        if (j >= 0) {\n",
    "          s += read_sz_at(fd, buf, offsets[j], block_sz, R);\n",
    "        }\n",
    "        if (n_aheads > 0 && j + n_aheads < n_blocks) {\n",
    "          read_ahead(fd, offsets[j + n_aheads], block_sz, R);\n",
    "        }\n",
    "      }\n",
    "      free(buf);\n",
    "    }\n",
    "    if (close(fd) == -1) err(1, \"close\");\n",
    "    double t1 = cur_time();\n",
    "    double dt = t1 - t0;\n",
    "    fprintf(stderr, \"took %f sec, %f MB/sec, sum = %ld\\n\",\n",
    "            dt, data_sz / (1024.0 * 1024.0) / dt, s);\n",
    "    fflush(stderr);\n",
    "  }\n",
    "  print_records(R);\n",
    "  destroy_records(R);\n",
    "  return 0;\n",
    "}"
   ]
  },
  {
   "cell_type": "code",
   "execution_count": 44,
   "metadata": {
    "kernel": "Bash",
    "nbgrader": {
     "grade": false,
     "grade_id": "c-032",
     "locked": false,
     "schema_version": 3,
     "solution": false,
     "task": false
    }
   },
   "outputs": [],
   "source": [
    "gcc -Wall -O3 -fopenmp -o read_file_thread read_file_thread.c"
   ]
  },
  {
   "cell_type": "markdown",
   "metadata": {
    "deletable": false,
    "editable": false,
    "kernel": "SoS",
    "nbgrader": {
     "cell_type": "markdown",
     "checksum": "ca7b63f8997c1645085caafaee70d3e4",
     "grade": false,
     "grade_id": "c-033",
     "locked": true,
     "schema_version": 3,
     "solution": false,
     "task": false
    }
   },
   "source": [
    "* 実行 (スレッド数thをいろいろ変えて実行してみよ)"
   ]
  },
  {
   "cell_type": "code",
   "execution_count": 56,
   "metadata": {
    "kernel": "Bash",
    "nbgrader": {
     "grade": false,
     "grade_id": "c-034",
     "locked": false,
     "schema_version": 3,
     "solution": false,
     "task": false
    }
   },
   "outputs": [
    {
     "name": "stdout",
     "output_type": "stream",
     "text": [
      "read 16777216 bytes 1 times, 4096 bytes at a time\n",
      "0 th read starts\n",
      "took 0.192751 sec, 83.008678 MB/sec, sum = 1315\n"
     ]
    }
   ],
   "source": [
    "data=../os11_cache/data.bin\n",
    "../os11_cache/drop_cache ${data}\n",
    "th=2\n",
    "OMP_NUM_THREADS=${th} ./read_file_thread ${data} 16m 1 4k 123456 > r.dat"
   ]
  },
  {
   "cell_type": "markdown",
   "metadata": {
    "deletable": false,
    "editable": false,
    "kernel": "SoS",
    "nbgrader": {
     "cell_type": "markdown",
     "checksum": "49fc4dad693ae5e0a71c07ebc4b2f528",
     "grade": false,
     "grade_id": "c-035",
     "locked": true,
     "schema_version": 3,
     "solution": false,
     "task": false
    }
   },
   "source": [
    "* 可視化"
   ]
  },
  {
   "cell_type": "code",
   "execution_count": 57,
   "metadata": {
    "kernel": "Python 3 (ipykernel)",
    "nbgrader": {
     "grade": false,
     "grade_id": "c-036",
     "locked": false,
     "schema_version": 3,
     "solution": false,
     "task": false
    }
   },
   "outputs": [
    {
     "data": {
      "image/png": "[encoded data removed]",
      "text/plain": [
       "<Figure size 640x480 with 1 Axes>"
      ]
     },
     "metadata": {},
     "output_type": "display_data"
    }
   ],
   "source": [
    "graph([\"r.dat\"])"
   ]
  }
 ],
 "metadata": {
  "kernelspec": {
   "display_name": "SoS",
   "language": "sos",
   "name": "sos"
  },
  "language_info": {
   "codemirror_mode": "sos",
   "file_extension": ".sos",
   "mimetype": "text/x-sos",
   "name": "sos",
   "nbconvert_exporter": "sos_notebook.converter.SoS_Exporter",
   "pygments_lexer": "sos"
  },
  "sos": {
   "kernels": [
    [
     "Bash",
     "bash",
     "bash",
     "",
     "shell"
    ],
    [
     "C",
     "c_kernel",
     "c",
     "",
     ""
    ],
    [
     "Go",
     "gophernotes",
     "go",
     "",
     ""
    ],
    [
     "Julia 1.8.5",
     "julia-1.8",
     "julia",
     "",
     ""
    ],
    [
     "OCaml default",
     "ocaml-jupyter",
     "OCaml",
     "",
     "text/x-ocaml"
    ],
    [
     "Python 3 (ipykernel)",
     "python3",
     "python3",
     "",
     {
      "name": "ipython",
      "version": 3
     }
    ],
    [
     "Rust",
     "rust",
     "rust",
     "",
     ""
    ]
   ],
   "panel": {
    "displayed": true,
    "height": 0
   },
   "version": "0.23.3"
  }
 },
 "nbformat": 4,
 "nbformat_minor": 4
}
