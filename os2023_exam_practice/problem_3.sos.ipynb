{
 "cells": [
  {
   "cell_type": "markdown",
   "metadata": {
    "deletable": false,
    "editable": false,
    "kernel": "SoS",
    "nbgrader": {
     "cell_type": "markdown",
     "checksum": "92a6c4cb7cbc18b3ca60e2c01436ea63",
     "grade": false,
     "grade_id": "c-001",
     "locked": true,
     "schema_version": 3,
     "solution": false,
     "task": false
    }
   },
   "source": [
    "#  問題3"
   ]
  },
  {
   "cell_type": "markdown",
   "metadata": {
    "deletable": false,
    "editable": false,
    "kernel": "SoS",
    "nbgrader": {
     "cell_type": "markdown",
     "checksum": "f0dd11f54d9bdb63692591ec81c6c6ac",
     "grade": false,
     "grade_id": "c-002",
     "locked": true,
     "schema_version": 3,
     "solution": false,
     "task": false
    }
   },
   "source": [
    "* 解答用セル(以下のセルを修正せよ)"
   ]
  },
  {
   "cell_type": "code",
   "execution_count": 1,
   "metadata": {
    "deletable": false,
    "kernel": "Python 3 (ipykernel)",
    "nbgrader": {
     "cell_type": "code",
     "checksum": "00b4eb250688ba6f80f7ff909aca0aca",
     "grade": true,
     "grade_id": "p-001",
     "locked": false,
     "points": 1,
     "schema_version": 3,
     "solution": true,
     "task": false
    }
   },
   "outputs": [
    {
     "name": "stdout",
     "output_type": "stream",
     "text": [
      "Overwriting count_char.c\n"
     ]
    }
   ],
   "source": [
    "\n",
    "%%writefile count_char.c\n",
    "#include <err.h>\n",
    "#include <fcntl.h>\n",
    "#include <sys/types.h>\n",
    "#include <unistd.h>\n",
    "#include <stdio.h>\n",
    "\n",
    "#define BLK_SZ 4096\n",
    "\n",
    "int main(int argc, char ** argv) {\n",
    "  int idx = 1;\n",
    "  char * file = (idx < argc ? argv[idx++] : \"wikipedia-operating-system.html\");\n",
    "  char c =      (idx < argc ? argv[idx++][0] : 'a');\n",
    "  int fd = open(file, O_RDONLY);\n",
    "  if (fd == -1) err(1, \"open\");\n",
    "  char a[BLK_SZ];\n",
    "  ssize_t count = 0;\n",
    "  while (1) {\n",
    "    int rd = read(fd, a, BLK_SZ);\n",
    "    if (rd == -1) err(1, \"read\");\n",
    "    for (ssize_t i = 0; i < rd; i++) {\n",
    "      if (a[i] == c) count++;\n",
    "    }\n",
    "    if (rd == 0) break;\n",
    "  }\n",
    "  printf(\"%ld\\n\", count);\n",
    "  return 0;\n",
    "}"
   ]
  },
  {
   "cell_type": "code",
   "execution_count": 2,
   "metadata": {
    "deletable": false,
    "kernel": "Bash",
    "nbgrader": {
     "cell_type": "code",
     "checksum": "c1b96940d6e28e9b27fa2c686ad8ff2b",
     "grade": true,
     "grade_id": "p-002",
     "locked": true,
     "points": 1,
     "schema_version": 3,
     "solution": true,
     "task": false
    }
   },
   "outputs": [],
   "source": [
    "\n",
    "gcc -Wall -Wextra -o count_char count_char.c"
   ]
  },
  {
   "cell_type": "markdown",
   "metadata": {
    "deletable": false,
    "editable": false,
    "kernel": "SoS",
    "nbgrader": {
     "cell_type": "markdown",
     "checksum": "9d373b62c23ad0851a3f80b74aecc08e",
     "grade": false,
     "grade_id": "c-003",
     "locked": true,
     "schema_version": 3,
     "solution": false,
     "task": false
    }
   },
   "source": [
    "* テスト(実行せよ)"
   ]
  },
  {
   "cell_type": "code",
   "execution_count": 3,
   "metadata": {
    "deletable": false,
    "kernel": "Bash",
    "nbgrader": {
     "cell_type": "code",
     "checksum": "685d7ffb666d004e232e0bbaea1fe73b",
     "grade": true,
     "grade_id": "p-003",
     "locked": true,
     "points": 1,
     "schema_version": 3,
     "solution": true,
     "task": false
    }
   },
   "outputs": [
    {
     "name": "stdout",
     "output_type": "stream",
     "text": [
      "22513\n",
      "OK\n"
     ]
    }
   ],
   "source": [
    "\n",
    "if ./count_char misc/wikipedia-operating-system.html a | grep 22513 ; then\n",
    "   echo OK\n",
    "else\n",
    "   echo NG\n",
    "fi   "
   ]
  },
  {
   "cell_type": "code",
   "execution_count": 4,
   "metadata": {
    "deletable": false,
    "kernel": "Bash",
    "nbgrader": {
     "cell_type": "code",
     "checksum": "f0e814b20823dc4b2f7e1fa5055d8f90",
     "grade": true,
     "grade_id": "p-004",
     "locked": true,
     "points": 1,
     "schema_version": 3,
     "solution": true,
     "task": false
    }
   },
   "outputs": [
    {
     "name": "stdout",
     "output_type": "stream",
     "text": [
      "3690\n",
      "OK\n"
     ]
    }
   ],
   "source": [
    "\n",
    "if ./count_char misc/wikipedia-operating-system.html b | grep 3690 ; then\n",
    "   echo OK\n",
    "else\n",
    "   echo NG\n",
    "fi   "
   ]
  },
  {
   "cell_type": "code",
   "execution_count": 5,
   "metadata": {
    "deletable": false,
    "kernel": "Bash",
    "nbgrader": {
     "cell_type": "code",
     "checksum": "cf2aa9c077bb3e386c3c52dced0d1116",
     "grade": true,
     "grade_id": "p-005",
     "locked": true,
     "points": 1,
     "schema_version": 3,
     "solution": true,
     "task": false
    }
   },
   "outputs": [
    {
     "name": "stdout",
     "output_type": "stream",
     "text": [
      "2146\n",
      "OK\n"
     ]
    }
   ],
   "source": [
    "\n",
    "if ./count_char misc/wikipedia-operating-system.html x | grep 2146 ; then\n",
    "   echo OK\n",
    "else\n",
    "   echo NG\n",
    "fi   "
   ]
  },
  {
   "cell_type": "markdown",
   "metadata": {
    "deletable": false,
    "editable": false,
    "kernel": "SoS",
    "nbgrader": {
     "cell_type": "markdown",
     "checksum": "8c00ab18131d18afedfac3f0947e0d2a",
     "grade": false,
     "grade_id": "c-004",
     "locked": true,
     "schema_version": 3,
     "solution": false,
     "task": false
    }
   },
   "source": [
    "プログラム原版(やり直したい時はこのセルのプログラムをコピーせよ)"
   ]
  },
  {
   "cell_type": "code",
   "execution_count": null,
   "metadata": {
    "deletable": false,
    "editable": false,
    "kernel": "Python 3 (ipykernel)",
    "nbgrader": {
     "cell_type": "code",
     "checksum": "d07e7cd3b20fd2fa8ca0929d1c2e0d69",
     "grade": false,
     "grade_id": "c-005",
     "locked": true,
     "schema_version": 3,
     "solution": false,
     "task": false
    }
   },
   "outputs": [],
   "source": [
    "%%writefile count_char.c\n",
    "#include <err.h>\n",
    "\n",
    "#define BLK_SZ 4096\n",
    "\n",
    "int main(int argc, char ** argv) {\n",
    "  int idx = 1;\n",
    "  char * file = (idx < argc ? argv[idx++] : \"wikipedia-operating-system.html\");\n",
    "  char c =      (idx < argc ? argv[idx++][0] : 'a');\n",
    "  if (fd == -1) err(1, \"open\");\n",
    "  char a[BLK_SZ];\n",
    "  ssize_t count = 0;\n",
    "  while (1) {\n",
    "    if (rd == -1) err(1, \"read\");\n",
    "    for (ssize_t i = 0; i < rd; i++) {\n",
    "      if (a[i] == c) count++;\n",
    "    }\n",
    "  }\n",
    "  printf(\"%ld\\n\", count);\n",
    "  return 0;\n",
    "}"
   ]
  }
 ],
 "metadata": {
  "kernelspec": {
   "display_name": "SoS",
   "language": "sos",
   "name": "sos"
  },
  "language_info": {
   "codemirror_mode": "sos",
   "file_extension": ".sos",
   "mimetype": "text/x-sos",
   "name": "sos",
   "nbconvert_exporter": "sos_notebook.converter.SoS_Exporter",
   "pygments_lexer": "sos"
  },
  "sos": {
   "kernels": [
    [
     "Bash",
     "bash",
     "bash",
     "",
     "shell"
    ],
    [
     "C",
     "c_kernel",
     "c",
     "",
     ""
    ],
    [
     "Go",
     "gophernotes",
     "go",
     "",
     ""
    ],
    [
     "Julia 1.8.5",
     "julia-1.8",
     "julia",
     "",
     ""
    ],
    [
     "OCaml default",
     "ocaml-jupyter",
     "OCaml",
     "",
     "text/x-ocaml"
    ],
    [
     "Python 3 (ipykernel)",
     "python3",
     "python3",
     "",
     {
      "name": "ipython",
      "version": 3
     }
    ],
    [
     "Rust",
     "rust",
     "rust",
     "",
     ""
    ]
   ],
   "panel": {
    "displayed": true,
    "height": 0
   },
   "version": "0.23.3"
  }
 },
 "nbformat": 4,
 "nbformat_minor": 4
}
