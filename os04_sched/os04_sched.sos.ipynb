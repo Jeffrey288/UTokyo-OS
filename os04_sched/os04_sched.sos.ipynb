{
 "cells": [
  {
   "cell_type": "markdown",
   "metadata": {
    "deletable": false,
    "editable": false,
    "kernel": "SoS",
    "nbgrader": {
     "cell_type": "markdown",
     "checksum": "5c3041754c985a327130bdaa3f0d398b",
     "grade": false,
     "grade_id": "c-001",
     "locked": true,
     "schema_version": 3,
     "solution": false,
     "task": false
    }
   },
   "source": [
    "\n",
    "#  オペレーティングシステム 演習 04\n",
    "#  スケジューリング"
   ]
  },
  {
   "cell_type": "markdown",
   "metadata": {
    "kernel": "SoS",
    "nbgrader": {
     "grade": false,
     "grade_id": "c-002",
     "locked": false,
     "schema_version": 3,
     "solution": false,
     "task": false
    }
   },
   "source": [
    "\n",
    "名前と学生証番号を書け. Enter your name and student ID.\n",
    "\n",
    " * 名前 Name: Hartanto Kwee Jeffrey\n",
    " * 学生証番号 Student ID: 7V239416\n"
   ]
  },
  {
   "cell_type": "markdown",
   "metadata": {
    "deletable": false,
    "editable": false,
    "kernel": "SoS",
    "nbgrader": {
     "cell_type": "markdown",
     "checksum": "3755d89a0adb6a52cf0f87d8adeaaef7",
     "grade": false,
     "grade_id": "c-003",
     "locked": true,
     "schema_version": 3,
     "solution": false,
     "task": false
    }
   },
   "source": [
    "# 1. スケジューリング"
   ]
  },
  {
   "cell_type": "markdown",
   "metadata": {
    "deletable": false,
    "editable": false,
    "kernel": "SoS",
    "nbgrader": {
     "cell_type": "markdown",
     "checksum": "1d6d80ec0e2021528910a0aa335f1bf7",
     "grade": false,
     "grade_id": "c-004",
     "locked": true,
     "schema_version": 3,
     "solution": false,
     "task": false
    }
   },
   "source": [
    "\n",
    "* スレッド(プロセス)が脇目もふらず実行をしているつもりでも, そのようなスレッドが(仮想)コア数以上あれば, それらすべてのスレッドが, 同時に実行されているはずはない. \n",
    "* OSは, 時折スレッドをCPUコア上で切り替えながら実行しているはずである. その様子を観測する実験をしてみよう."
   ]
  },
  {
   "cell_type": "markdown",
   "metadata": {
    "deletable": false,
    "editable": false,
    "kernel": "SoS",
    "nbgrader": {
     "cell_type": "markdown",
     "checksum": "14987c634b0ae35aa10a402f49952e1e",
     "grade": false,
     "grade_id": "c-005",
     "locked": true,
     "schema_version": 3,
     "solution": false,
     "task": false
    }
   },
   "source": [
    "\n",
    "以下のプログラムは擬似コードで書けば以下のようなことをしている\n",
    "\n",
    "```\n",
    " 1: int main() {\n",
    " 2:   t = 現在時刻();\n",
    " 3:   while (10秒たつか記録する配列があふれるまで) {\n",
    " 4:     t' = 現在時刻();\n",
    " 5:     t'と, 最後に見た現在時刻(t)を比べる;\n",
    " 6:     tとt'の差が非常に小さければ, 自分はtからt'までCPUが割り当てられていた,\n",
    " 7:     そうでなければ, tからt'まで自分は走っていなかった\n",
    " 8:     (CPUが他のスレッドに割り当てられていた)と考える;\n",
    " 9:     t = t';\n",
    "10:   }\n",
    "11:   CPUが自分に割り当てられていたと考えられる時間帯を表示する;\n",
    "12: }\n",
    "```\n",
    "\n",
    "* スレッドは実質的に時計を見る以外のことをせずにひたすら走り続けている\n",
    "* したがってほんとんどの時, tとt'の差は小さいのだが稀に, そうでないことがある\n",
    "* それはおそらくその間他のスレッドにCPUが割り当てられており自分はその時間帯OSによって止められていた場合に生ずる\n"
   ]
  },
  {
   "cell_type": "markdown",
   "metadata": {
    "deletable": false,
    "editable": false,
    "kernel": "SoS",
    "nbgrader": {
     "cell_type": "markdown",
     "checksum": "a7f7c1abc9281d3b78701e87df45e185",
     "grade": false,
     "grade_id": "c-006",
     "locked": true,
     "schema_version": 3,
     "solution": false,
     "task": false
    }
   },
   "source": [
    "\n",
    "* 以下が実際のCコード\n"
   ]
  },
  {
   "cell_type": "code",
   "execution_count": 1,
   "metadata": {
    "kernel": "Python 3 (ipykernel)",
    "nbgrader": {
     "grade": false,
     "grade_id": "c-007",
     "locked": false,
     "schema_version": 3,
     "solution": false,
     "task": false
    }
   },
   "outputs": [
    {
     "name": "stdout",
     "output_type": "stream",
     "text": [
      "Writing sched_rec.c\n"
     ]
    }
   ],
   "source": [
    "%%writefile sched_rec.c\n",
    "#define _GNU_SOURCE\n",
    "#include <assert.h>\n",
    "#include <sched.h>\n",
    "#include <sys/time.h>\n",
    "#include <stdio.h>\n",
    "#include <stdlib.h>\n",
    "#include <unistd.h>\n",
    "\n",
    "\n",
    "/* 時刻 begin -- end まで proc 上で動いていた記録 */\n",
    "typedef struct {\n",
    "  double begin;\n",
    "  double end;\n",
    "  int proc;\n",
    "} rec_t;\n",
    "\n",
    "/* 現在時刻を得る */\n",
    "double cur_time() {\n",
    "  struct timeval tp[1];\n",
    "  gettimeofday(tp, 0);\n",
    "  return tp->tv_sec + tp->tv_usec * 1.0E-6;\n",
    "}\n",
    "\n",
    "/* T秒間走り続け, CPUが割り当てられていたと思しき時間帯を記録する */\n",
    "int run(double T, int n) {\n",
    "  pid_t pid = getpid();\n",
    "  double limit = cur_time() + T;\n",
    "  rec_t * R = (rec_t *)calloc(n, sizeof(rec_t));\n",
    "  int i = 0;\n",
    "  R[i].begin = R[i].end = cur_time();\n",
    "  R[i].proc = sched_getcpu();\n",
    "\n",
    "  while (R[i].end < limit && i < n) {\n",
    "    double t = cur_time(); /* 現在時刻を得る */\n",
    "    int proc = sched_getcpu();\n",
    "    if (t - R[i].end < 1.0E-3 && proc == R[i].proc) {\n",
    "      /* 最後に見た時刻とあまり変わらない(< 1ms) -> R[i].endを増やす */\n",
    "      R[i].end = t;\n",
    "    } else {\n",
    "      /* 最後に見た時刻から1ms以上たっている -> 新しい区間に入る */\n",
    "      if (i + 1 >= n) break;\n",
    "      i++;\n",
    "      R[i].proc = proc;\n",
    "      R[i].begin = R[i].end = cur_time();\n",
    "    }\n",
    "  }\n",
    "  assert(i < n);\n",
    "  int j;\n",
    "  for (j = 0; j <= i; j++) {\n",
    "    printf(\"%d %f %f %d %f\\n\", \n",
    "           pid, R[j].begin, R[j].end, R[j].proc,\n",
    "           R[j].end - R[j].begin);\n",
    "  }\n",
    "  return 0;\n",
    "}\n",
    "\n",
    "\n",
    "int main(int argc, char ** argv) {\n",
    "  double T = (argc > 1 ? atof(argv[1]) : 10.0);\n",
    "  int n    = (argc > 2 ? atoi(argv[2]) : 100000);\n",
    "\n",
    "  run(T, n);\n",
    "  return 0;\n",
    "}"
   ]
  },
  {
   "cell_type": "code",
   "execution_count": 2,
   "metadata": {
    "kernel": "Bash",
    "nbgrader": {
     "grade": false,
     "grade_id": "c-008",
     "locked": false,
     "schema_version": 3,
     "solution": false,
     "task": false
    }
   },
   "outputs": [],
   "source": [
    "gcc -Wall -o sched_rec sched_rec.c"
   ]
  },
  {
   "cell_type": "markdown",
   "metadata": {
    "deletable": false,
    "editable": false,
    "kernel": "SoS",
    "nbgrader": {
     "cell_type": "markdown",
     "checksum": "a1e207c7aa4e4adae700c63e74fa5699",
     "grade": false,
     "grade_id": "c-009",
     "locked": true,
     "schema_version": 3,
     "solution": false,
     "task": false
    }
   },
   "source": [
    "\n",
    "* 以下は1秒ほど, 単独で走らせてみる例\n",
    "* 1行の読み方は以下\n",
    "```\n",
    "プロセスID  区間開始時刻  区間終了時刻  CPU番号 区間の長さ\n",
    "```\n",
    "* なお, Jupyterのbash kernelのバグによって出力が出ない場合があるかもしれない(経験上, 最初の一回がそうなることが多い). そういうときは何度か実行してみてください\n"
   ]
  },
  {
   "cell_type": "code",
   "execution_count": 11,
   "metadata": {
    "kernel": "Bash",
    "nbgrader": {
     "grade": false,
     "grade_id": "c-010",
     "locked": false,
     "schema_version": 3,
     "solution": false,
     "task": false
    }
   },
   "outputs": [
    {
     "name": "stdout",
     "output_type": "stream",
     "text": [
      "137417 1697588723.083981 1697588724.279557 35 1.195576\n",
      "137417 1697588724.280161 1697588726.545751 34 2.265590\n",
      "137417 1697588726.547277 1697588728.742815 34 2.195538\n",
      "137417 1697588728.744273 1697588733.083948 34 4.339675\n"
     ]
    }
   ],
   "source": [
    "./sched_rec 10"
   ]
  },
  {
   "cell_type": "markdown",
   "metadata": {
    "deletable": false,
    "editable": false,
    "kernel": "SoS",
    "nbgrader": {
     "cell_type": "markdown",
     "checksum": "ea4a1d91e168910cfe818dda6809dd1d",
     "grade": false,
     "grade_id": "c-011",
     "locked": true,
     "schema_version": 3,
     "solution": false,
     "task": false
    }
   },
   "source": [
    "\n",
    "* 各行はひとつの, 連続してOSにCPUを与えられていた時間(区間)を表している\n",
    "* もし上記の結果が1行しか表示されなければそれは, 約1秒間, まったく(正確には1ms以上連続して)他のスレッドにCPUを奪われずに走っていたということになる(最後の行がほぼ1秒であることを確認せよ)\n",
    "* 2行以上に渡った場合, ある区間の終了時刻と次の区間の開始時刻の差を観察してみよ(最後の行を合計するとほぼ1秒になることを確認せよ)\n"
   ]
  },
  {
   "cell_type": "markdown",
   "metadata": {
    "deletable": false,
    "editable": false,
    "kernel": "SoS",
    "nbgrader": {
     "cell_type": "markdown",
     "checksum": "1e7dbb3c1cf3ab3236c26f1b669e2176",
     "grade": false,
     "grade_id": "c-012",
     "locked": true,
     "schema_version": 3,
     "solution": false,
     "task": false
    }
   },
   "source": [
    "\n",
    "* 以下ではこのプロセスを複数同時に走らせると何が起きるかを観察, 可視化する\n",
    "* その前に以下で, このJupyter環境(をホストしてるマシン)にいくつのCPU (正確には仮想コア)がつまれているかを見てみる\n"
   ]
  },
  {
   "cell_type": "code",
   "execution_count": 12,
   "metadata": {
    "kernel": "Bash",
    "nbgrader": {
     "grade": false,
     "grade_id": "c-013",
     "locked": false,
     "schema_version": 3,
     "solution": false,
     "task": false
    }
   },
   "outputs": [
    {
     "name": "stdout",
     "output_type": "stream",
     "text": [
      "Architecture:            x86_64\n",
      "  CPU op-mode(s):        32-bit, 64-bit\n",
      "  Address sizes:         45 bits physical, 48 bits virtual\n",
      "  Byte Order:            Little Endian\n",
      "CPU(s):                  38\n",
      "  On-line CPU(s) list:   0-37\n",
      "Vendor ID:               GenuineIntel\n",
      "  Model name:            Intel(R) Xeon(R) Platinum 8368 CPU @ 2.40GHz\n",
      "    CPU family:          6\n",
      "    Model:               106\n",
      "    Thread(s) per core:  1\n",
      "    Core(s) per socket:  1\n",
      "    Socket(s):           38\n",
      "    Stepping:            6\n",
      "    BogoMIPS:            4788.74\n",
      "    Flags:               fpu vme de pse tsc msr pae mce cx8 apic sep mtrr pge mc\n",
      "                         a cmov pat pse36 clflush mmx fxsr sse sse2 ss syscall n\n",
      "                         x pdpe1gb rdtscp lm constant_tsc arch_perfmon rep_good \n",
      "                         nopl xtopology tsc_reliable nonstop_tsc cpuid tsc_known\n",
      "                         _freq pni pclmulqdq ssse3 fma cx16 pcid sse4_1 sse4_2 x\n",
      "                         2apic movbe popcnt tsc_deadline_timer aes xsave avx f16\n",
      "                         c rdrand hypervisor lahf_lm abm 3dnowprefetch cpuid_fau\n",
      "                         lt invpcid_single ssbd ibrs ibpb stibp ibrs_enhanced fs\n",
      "                         gsbase tsc_adjust bmi1 avx2 smep bmi2 erms invpcid avx5\n",
      "                         12f avx512dq rdseed adx smap avx512ifma clflushopt clwb\n",
      "                          avx512cd sha_ni avx512bw avx512vl xsaveopt xsavec xget\n",
      "                         bv1 xsaves wbnoinvd arat avx512vbmi umip pku ospke avx5\n",
      "                         12_vbmi2 gfni vaes vpclmulqdq avx512_vnni avx512_bitalg\n",
      "                          avx512_vpopcntdq rdpid fsrm md_clear flush_l1d arch_ca\n",
      "                         pabilities\n",
      "Virtualization features: \n",
      "  Hypervisor vendor:     VMware\n",
      "  Virtualization type:   full\n",
      "Caches (sum of all):     \n",
      "  L1d:                   1.8 MiB (38 instances)\n",
      "  L1i:                   1.2 MiB (38 instances)\n",
      "  L2:                    47.5 MiB (38 instances)\n",
      "  L3:                    2.1 GiB (38 instances)\n",
      "NUMA:                    \n",
      "  NUMA node(s):          1\n",
      "  NUMA node0 CPU(s):     0-37\n",
      "Vulnerabilities:         \n",
      "  Gather data sampling:  Unknown: Dependent on hypervisor status\n",
      "  Itlb multihit:         KVM: Mitigation: VMX unsupported\n",
      "  L1tf:                  Not affected\n",
      "  Mds:                   Not affected\n",
      "  Meltdown:              Not affected\n",
      "  Mmio stale data:       Vulnerable: Clear CPU buffers attempted, no microcode; \n",
      "                         SMT Host state unknown\n",
      "  Retbleed:              Not affected\n",
      "  Spec store bypass:     Mitigation; Speculative Store Bypass disabled via prctl\n",
      "                          and seccomp\n",
      "  Spectre v1:            Mitigation; usercopy/swapgs barriers and __user pointer\n",
      "                          sanitization\n",
      "  Spectre v2:            Mitigation; Enhanced IBRS, IBPB conditional, RSB fillin\n",
      "                         g, PBRSB-eIBRS SW sequence\n",
      "  Srbds:                 Not affected\n",
      "  Tsx async abort:       Not affected\n"
     ]
    }
   ],
   "source": [
    "lscpu"
   ]
  },
  {
   "cell_type": "markdown",
   "metadata": {
    "deletable": false,
    "editable": false,
    "kernel": "SoS",
    "nbgrader": {
     "cell_type": "markdown",
     "checksum": "608835350b95a409c32777804c1ab4a3",
     "grade": false,
     "grade_id": "c-014",
     "locked": true,
     "schema_version": 3,
     "solution": false,
     "task": false
    }
   },
   "source": [
    "\n",
    "* 以下はシェルスクリプトで同時に4個, 3秒間このプロセスを走らせ, 結果はファイル sched.0, sched.1, sched.2, sched.3 に記録したもの\n"
   ]
  },
  {
   "cell_type": "code",
   "execution_count": 13,
   "metadata": {
    "kernel": "Bash",
    "nbgrader": {
     "grade": false,
     "grade_id": "c-015",
     "locked": false,
     "schema_version": 3,
     "solution": false,
     "task": false
    }
   },
   "outputs": [],
   "source": [
    "./sched_rec 3 > sched.0 | ./sched_rec 3 > sched.1 | ./sched_rec 3 > sched.2 | ./sched_rec 3 > sched.3"
   ]
  },
  {
   "cell_type": "markdown",
   "metadata": {
    "deletable": false,
    "editable": false,
    "kernel": "SoS",
    "nbgrader": {
     "cell_type": "markdown",
     "checksum": "e97551726a0d9878b9630fef184b339c",
     "grade": false,
     "grade_id": "c-016",
     "locked": true,
     "schema_version": 3,
     "solution": false,
     "task": false
    }
   },
   "source": [
    "\n",
    "* sched_vis は sched_rec の結果を可視化する関数\n",
    "* 同時に結果は sched.svg という画像ファイルに保存される\n"
   ]
  },
  {
   "cell_type": "code",
   "execution_count": 14,
   "metadata": {
    "kernel": "Python 3 (ipykernel)",
    "nbgrader": {
     "grade": false,
     "grade_id": "c-017",
     "locked": false,
     "schema_version": 3,
     "solution": false,
     "task": false
    }
   },
   "outputs": [],
   "source": [
    "#!/usr/bin/python3\n",
    "import matplotlib.collections as mc\n",
    "import matplotlib.pyplot as plt\n",
    "\n",
    "def read_dats(files):\n",
    "    sched = {}\n",
    "    for f in files:\n",
    "        with open(f) as fp:\n",
    "            for line in fp:\n",
    "                fields = line.strip().split()\n",
    "                [ pid,a,b,proc,dt ] = fields\n",
    "                pid = int(pid)\n",
    "                a = float(a)\n",
    "                b = float(b)\n",
    "                proc = int(proc)\n",
    "                if pid not in sched:\n",
    "                    sched[pid] = []\n",
    "                sched[pid].append((a, b, proc))\n",
    "    return sched\n",
    "\n",
    "def sched_vis(files, start_t=0, end_t=float(\"inf\")):\n",
    "    '''\n",
    "    files : sched_rec の結果が入ったファイル名のリスト \n",
    "            (例: [ \"rec.0\", \"rec.1\", .. ])\n",
    "    start_t, end_t : その中で可視化したい区間の開始と終了\n",
    "            (結果の中の一番早い時点を0として指定. 例えば\n",
    "             begin_t=1, end_t=3, は開始から1秒目〜3秒目の\n",
    "             2秒間を可視化する)\n",
    "    '''\n",
    "    log = read_dats(files)\n",
    "    T0 = min(min(a for a, _, _ in T)  for T in log.values())\n",
    "    n_procs = max(max(p for _, _, p in T) for T in log.values()) + 1\n",
    "    cmap = plt.cm.get_cmap('RdYlGn', n_procs)\n",
    "    segs = []\n",
    "    cols = []\n",
    "    fig, ax = plt.subplots()\n",
    "    for i,(pid,T) in enumerate(sorted(log.items())):\n",
    "        T.sort()\n",
    "        for a,b,proc in T:\n",
    "            t0 = max(a - T0, start_t)\n",
    "            t1 = min(b - T0, end_t)\n",
    "            if t0 >= t1:\n",
    "                continue\n",
    "            rect = plt.Rectangle((a - T0, i), b - a, 1, fc=cmap(proc))\n",
    "            ax.add_patch(rect)\n",
    "    ax.autoscale()\n",
    "    plt.title(\"thread scheduling\")\n",
    "    plt.xlabel(\"time\")\n",
    "    plt.ylabel(\"thread\")\n",
    "    plt.ylim(0, len(log))\n",
    "    plt.savefig(\"sched.svg\")\n",
    "    plt.show()"
   ]
  },
  {
   "cell_type": "markdown",
   "metadata": {
    "deletable": false,
    "editable": false,
    "kernel": "SoS",
    "nbgrader": {
     "cell_type": "markdown",
     "checksum": "d1c08dca49e17f9bc0b79409c354a772",
     "grade": false,
     "grade_id": "c-018",
     "locked": true,
     "schema_version": 3,
     "solution": false,
     "task": false
    }
   },
   "source": [
    "* 以下で実際に可視化\n",
    "* 以下は sched.0, sched.1, sched.2, sched.3 の4つのファイルを可視化する\n",
    "* start_t, end_tを指定すれば可視化の開始時刻と終了時刻を指定できる(start_t=None, end_t=Noneにすると, それぞれファイル中に含まれる最小, 最大の時刻という意味)"
   ]
  },
  {
   "cell_type": "code",
   "execution_count": 15,
   "metadata": {
    "kernel": "Python 3 (ipykernel)",
    "nbgrader": {
     "grade": false,
     "grade_id": "c-019",
     "locked": false,
     "schema_version": 3,
     "solution": false,
     "task": false
    }
   },
   "outputs": [
    {
     "name": "stderr",
     "output_type": "stream",
     "text": [
      "/tmp/ipykernel_135369/2275135251.py:33: MatplotlibDeprecationWarning: The get_cmap function was deprecated in Matplotlib 3.7 and will be removed two minor releases later. Use ``matplotlib.colormaps[name]`` or ``matplotlib.colormaps.get_cmap(obj)`` instead.\n",
      "  cmap = plt.cm.get_cmap('RdYlGn', n_procs)\n"
     ]
    },
    {
     "data": {
      "image/png": "[encoded data removed]",
      "text/plain": [
       "<Figure size 640x480 with 1 Axes>"
      ]
     },
     "metadata": {},
     "output_type": "display_data"
    }
   ],
   "source": [
    "sched_vis([\"sched.{}\".format(i) for i in range(4)])\n",
    "#sched_vis([\"sched.{}\".format(i) for i in range(4)], start_t=1.0, end_t=1.5)"
   ]
  },
  {
   "cell_type": "markdown",
   "metadata": {
    "deletable": false,
    "editable": false,
    "kernel": "SoS",
    "nbgrader": {
     "cell_type": "markdown",
     "checksum": "0c3afc9490b0b83709828911cc4b19fc",
     "grade": false,
     "grade_id": "c-020",
     "locked": true,
     "schema_version": 3,
     "solution": false,
     "task": false
    }
   },
   "source": [
    "\n",
    "* 本題は, プロセスをさらに増やしたらどうなるかということ\n",
    "* 上記の書き方で複数同時に走らせるのはタイプ量の限界を超えるので, シェルスクリプトのループを使う\n",
    "* 以下は8個のプロセスを3秒間走らせる\n",
    "* 記録はsched.0 ... sched.7 に記録される"
   ]
  },
  {
   "cell_type": "code",
   "execution_count": 19,
   "metadata": {
    "kernel": "Bash",
    "nbgrader": {
     "grade": false,
     "grade_id": "c-021",
     "locked": false,
     "schema_version": 3,
     "solution": false,
     "task": false
    }
   },
   "outputs": [
    {
     "name": "stdout",
     "output_type": "stream",
     "text": [
      "[1] 149778\n",
      "[2] 149779\n",
      "[3] 149780\n",
      "[4] 149781\n",
      "[5] 149782\n",
      "[6] 149783\n",
      "[7] 149784\n",
      "[8] 149785\n",
      "[9] 149786\n",
      "[10] 149787\n",
      "[11] 149788\n",
      "[12] 149789\n",
      "[1]   Done                    taskset -c 0-3 ./sched_rec 3 > sched.${i}\n",
      "[3]   Done                    taskset -c 0-3 ./sched_rec 3 > sched.${i}\n",
      "[5]   Done                    taskset -c 0-3 ./sched_rec 3 > sched.${i}\n",
      "[2]   Done                    taskset -c 0-3 ./sched_rec 3 > sched.${i}\n",
      "[4]   Done                    taskset -c 0-3 ./sched_rec 3 > sched.${i}\n",
      "[6]   Done                    taskset -c 0-3 ./sched_rec 3 > sched.${i}\n",
      "[7]   Done                    taskset -c 0-3 ./sched_rec 3 > sched.${i}\n",
      "[8]   Done                    taskset -c 0-3 ./sched_rec 3 > sched.${i}\n",
      "[9]   Done                    taskset -c 0-3 ./sched_rec 3 > sched.${i}\n",
      "[11]-  Done                    taskset -c 0-3 ./sched_rec 3 > sched.${i}\n",
      "[12]+  Done                    taskset -c 0-3 ./sched_rec 3 > sched.${i}\n",
      "[10]+  Done                    taskset -c 0-3 ./sched_rec 3 > sched.${i}\n"
     ]
    }
   ],
   "source": [
    "for i in $(seq 0 11); do\n",
    "  taskset -c 0-3 ./sched_rec 3 > sched.${i} &\n",
    "done\n",
    "wait"
   ]
  },
  {
   "cell_type": "markdown",
   "metadata": {
    "deletable": false,
    "editable": false,
    "kernel": "SoS",
    "nbgrader": {
     "cell_type": "markdown",
     "checksum": "c3d98e29b376384eeecc2647bf5a714c",
     "grade": false,
     "grade_id": "c-022",
     "locked": true,
     "schema_version": 3,
     "solution": false,
     "task": false
    }
   },
   "source": [
    "\n",
    "* <font color=\"blue\">実行し終えたら再び, 可視化せよ</font>\n"
   ]
  },
  {
   "cell_type": "code",
   "execution_count": 21,
   "metadata": {
    "kernel": "Python 3 (ipykernel)",
    "nbgrader": {
     "grade": false,
     "grade_id": "c-023",
     "locked": false,
     "schema_version": 3,
     "solution": false,
     "task": false
    },
    "scrolled": true
   },
   "outputs": [
    {
     "name": "stderr",
     "output_type": "stream",
     "text": [
      "/tmp/ipykernel_135369/2275135251.py:33: MatplotlibDeprecationWarning: The get_cmap function was deprecated in Matplotlib 3.7 and will be removed two minor releases later. Use ``matplotlib.colormaps[name]`` or ``matplotlib.colormaps.get_cmap(obj)`` instead.\n",
      "  cmap = plt.cm.get_cmap('RdYlGn', n_procs)\n"
     ]
    },
    {
     "data": {
      "image/png": "[encoded data removed]",
      "text/plain": [
       "<Figure size 640x480 with 1 Axes>"
      ]
     },
     "metadata": {},
     "output_type": "display_data"
    }
   ],
   "source": [
    "#sched_vis([\"sched.{}\".format(i) for i in range(8)])\n",
    "sched_vis([\"sched.{}\".format(i) for i in range(12)], start_t=1.0, end_t=1.5)"
   ]
  },
  {
   "cell_type": "markdown",
   "metadata": {
    "deletable": false,
    "editable": false,
    "kernel": "SoS",
    "nbgrader": {
     "cell_type": "markdown",
     "checksum": "e40a16688b9368177754e8db2a1108ab",
     "grade": false,
     "grade_id": "c-024",
     "locked": true,
     "schema_version": 3,
     "solution": false,
     "task": false
    }
   },
   "source": [
    "* sched.svg というファイルが生成されているのでそれを開いて, 適宜拡大表示してみよ"
   ]
  },
  {
   "cell_type": "markdown",
   "metadata": {
    "deletable": false,
    "editable": false,
    "kernel": "SoS",
    "nbgrader": {
     "cell_type": "markdown",
     "checksum": "fce312ceadef9c449ca7dacea4c574e8",
     "grade": false,
     "grade_id": "c-025",
     "locked": true,
     "schema_version": 3,
     "solution": false,
     "task": false
    }
   },
   "source": [
    "\n",
    "* 上記の taskset コマンドはプロセスを特定のCPUでしか実行できないようにするコマンド(man参照)\n",
    "```\n",
    "taskset -c 0-3 ./sched_rec 3\n",
    "```\n",
    "はCPU 0 ... 3 を使えということ. <font color=\"blue\">tasksetの引数を変えて結果の違いを観察せよ</font>\n",
    "* プロセス数を 使うCPU数より少し少ないあたりから, 使うCPU数x2くらいまで, <font color=\"blue\">色々変えて結果の違いを観察せよ</font>\n"
   ]
  },
  {
   "cell_type": "markdown",
   "metadata": {
    "deletable": false,
    "editable": false,
    "kernel": "SoS",
    "nbgrader": {
     "cell_type": "markdown",
     "checksum": "154b87e1cae604322eb4f8e7e5e378b9",
     "grade": false,
     "grade_id": "c-026",
     "locked": true,
     "schema_version": 3,
     "solution": false,
     "task": false
    }
   },
   "source": [
    "\n",
    "* 注: 大勢で同じ環境を共有しているので, 複数の人が同時に同じ実験をすると自分は少数のプロセスしか立ち上げていなくても, 他の人のプロセスにCPUを奪われているかも知れない\n",
    "* それ以外にもこのJupyterノートブック自身の処理やWebサーバの処理も行われるのでそれらにCPUを奪われることもある\n",
    "* 従って, 同じ設定で実験しても結果は毎回同じとは限らない\n",
    "* 自分だけの環境で走らせると結果の予測はしやすい\n"
   ]
  }
 ],
 "metadata": {
  "kernelspec": {
   "display_name": "SoS",
   "language": "sos",
   "name": "sos"
  },
  "language_info": {
   "codemirror_mode": "sos",
   "file_extension": ".sos",
   "mimetype": "text/x-sos",
   "name": "sos",
   "nbconvert_exporter": "sos_notebook.converter.SoS_Exporter",
   "pygments_lexer": "sos"
  },
  "sos": {
   "kernels": [
    [
     "Bash",
     "bash",
     "bash",
     "",
     "shell"
    ],
    [
     "C",
     "c_kernel",
     "c",
     "",
     ""
    ],
    [
     "Go",
     "gophernotes",
     "go",
     "",
     ""
    ],
    [
     "Julia 1.8.5",
     "julia-1.8",
     "julia",
     "",
     ""
    ],
    [
     "OCaml default",
     "ocaml-jupyter",
     "OCaml",
     "",
     "text/x-ocaml"
    ],
    [
     "Python 3 (ipykernel)",
     "python3",
     "python3",
     "",
     {
      "name": "ipython",
      "version": 3
     }
    ],
    [
     "Rust",
     "rust",
     "rust",
     "",
     ""
    ]
   ],
   "panel": {
    "displayed": true,
    "height": 0
   },
   "version": "0.23.3"
  }
 },
 "nbformat": 4,
 "nbformat_minor": 4
}
