{
 "cells": [
  {
   "cell_type": "markdown",
   "metadata": {
    "deletable": false,
    "editable": false,
    "kernel": "SoS",
    "nbgrader": {
     "cell_type": "markdown",
     "checksum": "2107dedfa1b45efc6d9485408d65de62",
     "grade": false,
     "grade_id": "c-001",
     "locked": true,
     "schema_version": 3,
     "solution": false,
     "task": false
    }
   },
   "source": [
    "#  オペレーティングシステム 演習 13\n",
    "#  mmap"
   ]
  },
  {
   "cell_type": "markdown",
   "metadata": {
    "kernel": "SoS",
    "nbgrader": {
     "grade": false,
     "grade_id": "c-002",
     "locked": false,
     "schema_version": 3,
     "solution": false,
     "task": false
    }
   },
   "source": [
    "名前と学生証番号を書け. Enter your name and student ID.\n",
    "\n",
    " * 名前 Name:\n",
    " * 学生証番号 Student ID:"
   ]
  },
  {
   "cell_type": "markdown",
   "metadata": {
    "deletable": false,
    "editable": false,
    "kernel": "SoS",
    "nbgrader": {
     "cell_type": "markdown",
     "checksum": "386740cfbb6f7a5e1d06b2572fa52e44",
     "grade": false,
     "grade_id": "c-003",
     "locked": true,
     "schema_version": 3,
     "solution": false,
     "task": false
    }
   },
   "source": [
    "# 1. mmapでファイル読み込み\n",
    "* mmapでファイルを読み込む単純な例"
   ]
  },
  {
   "cell_type": "code",
   "execution_count": 6,
   "metadata": {
    "deletable": false,
    "kernel": "Python 3 (ipykernel)",
    "nbgrader": {
     "cell_type": "code",
     "checksum": "96b92ae1e38c8252065e796a218e4eb0",
     "grade": true,
     "grade_id": "p-001",
     "locked": false,
     "points": 1,
     "schema_version": 3,
     "solution": true,
     "task": false
    }
   },
   "outputs": [
    {
     "name": "stdout",
     "output_type": "stream",
     "text": [
      "Overwriting mmap_read.c\n"
     ]
    }
   ],
   "source": [
    "\n",
    "%%writefile mmap_read.c\n",
    "#include <assert.h>\n",
    "#include <err.h>\n",
    "#include <fcntl.h>\n",
    "#include <stdio.h>\n",
    "#include <stdlib.h>\n",
    "#include <sys/mman.h>\n",
    "#include <sys/stat.h>\n",
    "#include <sys/types.h>\n",
    "#include <unistd.h>\n",
    "\n",
    "int main(int argc, char ** argv) {\n",
    "  int i = 1;\n",
    "  char * filename = (argc > i ? argv[i] : \"mmap_1.c\"); i++;\n",
    "  /* ファイルを開く */\n",
    "  int fd = open(filename, O_RDONLY);\n",
    "  if (fd == -1) err(1, \"open\");\n",
    "  /* ファイルのサイズ */\n",
    "  struct stat sb[1];\n",
    "  if (fstat(fd, sb) == -1) err(1, \"fstat\");\n",
    "  /* mmap (読み出しのみ) */\n",
    "  long sz = sb->st_size;\n",
    "  char * a = mmap(0, sz, PROT_READ, MAP_PRIVATE, fd, 0);\n",
    "  if (a == MAP_FAILED) err(1, \"mmap\");\n",
    "  /* 配列aを表示すると filename の中身を表示することになる*/\n",
    "  for (long i = 0; i < sz; i++) {\n",
    "    putchar(a[i]);\n",
    "  }\n",
    "  if (munmap(a, sz) == -1) err(1, \"mumap\");\n",
    "  if (close(fd) == -1) err(1, \"close\");\n",
    "  return 0;\n",
    "}"
   ]
  },
  {
   "cell_type": "code",
   "execution_count": 7,
   "metadata": {
    "kernel": "Bash",
    "nbgrader": {
     "grade": false,
     "grade_id": "c-004",
     "locked": false,
     "schema_version": 3,
     "solution": false,
     "task": false
    }
   },
   "outputs": [],
   "source": [
    "gcc -O3 -Wall mmap_read.c -o mmap_read"
   ]
  },
  {
   "cell_type": "code",
   "execution_count": 8,
   "metadata": {
    "kernel": "Bash",
    "nbgrader": {
     "grade": false,
     "grade_id": "c-005",
     "locked": false,
     "schema_version": 3,
     "solution": false,
     "task": false
    }
   },
   "outputs": [
    {
     "name": "stdout",
     "output_type": "stream",
     "text": [
      "#include <assert.h>\n",
      "#include <err.h>\n",
      "#include <fcntl.h>\n",
      "#include <stdio.h>\n",
      "#include <stdlib.h>\n",
      "#include <sys/mman.h>\n",
      "#include <sys/stat.h>\n",
      "#include <sys/types.h>\n",
      "#include <unistd.h>\n",
      "\n",
      "int main(int argc, char ** argv) {\n",
      "  int i = 1;\n",
      "  char * filename = (argc > i ? argv[i] : \"mmap_1.c\"); i++;\n",
      "  /* ファイルを開く */\n",
      "  int fd = open(filename, O_RDONLY);\n",
      "  if (fd == -1) err(1, \"open\");\n",
      "  /* ファイルのサイズ */\n",
      "  struct stat sb[1];\n",
      "  if (fstat(fd, sb) == -1) err(1, \"fstat\");\n",
      "  /* mmap (読み出しのみ) */\n",
      "  long sz = sb->st_size;\n",
      "  char * a = mmap(0, sz, PROT_READ, MAP_PRIVATE, fd, 0);\n",
      "  if (a == MAP_FAILED) err(1, \"mmap\");\n",
      "  /* 配列aを表示すると filename の中身を表示することになる*/\n",
      "  for (long i = 0; i < sz; i++) {\n",
      "    putchar(a[i]);\n",
      "  }\n",
      "  if (munmap(a, sz) == -1) err(1, \"mumap\");\n",
      "  if (close(fd) == -1) err(1, \"close\");\n",
      "  return 0;\n",
      "}\n"
     ]
    }
   ],
   "source": [
    "# mmap_read.c の中身を表示\n",
    "./mmap_read mmap_read.c"
   ]
  },
  {
   "cell_type": "markdown",
   "metadata": {
    "deletable": false,
    "editable": false,
    "kernel": "SoS",
    "nbgrader": {
     "cell_type": "markdown",
     "checksum": "4ee0c6307919e5000fc904934f389216",
     "grade": false,
     "grade_id": "c-006",
     "locked": true,
     "schema_version": 3,
     "solution": false,
     "task": false
    }
   },
   "source": [
    "# 2. mmapでファイル書き込み\n",
    "* mmapでファイルに書き込む単純な例"
   ]
  },
  {
   "cell_type": "code",
   "execution_count": 9,
   "metadata": {
    "deletable": false,
    "kernel": "Python 3 (ipykernel)",
    "nbgrader": {
     "cell_type": "code",
     "checksum": "abf59b5d93f7537bf5b2b260ac544bf4",
     "grade": true,
     "grade_id": "p-002",
     "locked": false,
     "points": 1,
     "schema_version": 3,
     "solution": true,
     "task": false
    }
   },
   "outputs": [
    {
     "name": "stdout",
     "output_type": "stream",
     "text": [
      "Overwriting mmap_write.c\n"
     ]
    }
   ],
   "source": [
    "\n",
    "%%writefile mmap_write.c\n",
    "#include <assert.h>\n",
    "#include <err.h>\n",
    "#include <fcntl.h>\n",
    "#include <stdio.h>\n",
    "#include <stdlib.h>\n",
    "#include <sys/mman.h>\n",
    "#include <sys/stat.h>\n",
    "#include <sys/types.h>\n",
    "#include <unistd.h>\n",
    "\n",
    "int main(int argc, char ** argv) {\n",
    "  int i = 1;\n",
    "  char * filename = (argc > i ? argv[i] : \"hogehoge.txt\"); i++;\n",
    "  long sz         = (argc > i ? atol(argv[i]) : 1000); i++;\n",
    "  /* ファイルを開く */\n",
    "  int fd = open(filename, O_RDWR|O_TRUNC|O_CREAT, 0777);\n",
    "  if (fd == -1) err(1, \"open\");\n",
    "  if (posix_fallocate(fd, 0, sz) == -1) err(1, \"posix_fallocate\");\n",
    "  /* mmap */\n",
    "  char * a = mmap(0, sz, PROT_READ|PROT_WRITE, MAP_SHARED, fd, 0);\n",
    "  if (a == MAP_FAILED) err(1, \"mmap\");\n",
    "  /* 配列aに書き込むとfilenameに書き込むことになる */\n",
    "  for (long i = 0; i < sz; i++) {\n",
    "    a[i] = i % 128;\n",
    "  }\n",
    "  if (munmap(a, sz) == -1) err(1, \"mumap\");\n",
    "  if (close(fd) == -1) err(1, \"close\");\n",
    "  return 0;\n",
    "}"
   ]
  },
  {
   "cell_type": "code",
   "execution_count": 10,
   "metadata": {
    "kernel": "Bash",
    "nbgrader": {
     "grade": false,
     "grade_id": "c-007",
     "locked": false,
     "schema_version": 3,
     "solution": false,
     "task": false
    }
   },
   "outputs": [],
   "source": [
    "gcc -O3 -Wall mmap_write.c -o mmap_write"
   ]
  },
  {
   "cell_type": "code",
   "execution_count": 11,
   "metadata": {
    "kernel": "Bash",
    "nbgrader": {
     "grade": false,
     "grade_id": "c-008",
     "locked": false,
     "schema_version": 3,
     "solution": false,
     "task": false
    }
   },
   "outputs": [],
   "source": [
    "./mmap_write hogehoge.txt"
   ]
  },
  {
   "cell_type": "code",
   "execution_count": 12,
   "metadata": {
    "kernel": "Bash",
    "nbgrader": {
     "grade": false,
     "grade_id": "c-009",
     "locked": false,
     "schema_version": 3,
     "solution": false,
     "task": false
    }
   },
   "outputs": [
    {
     "name": "stdout",
     "output_type": "stream",
     "text": [
      "\u0000\u0001\u0002\u0003\u0004\u0005\u0006\t\n",
      "\u000e\u000f\u0010\u0011\u0012\u0013\u0014\u0015\u0016\u0017\u0018\u0019\u001a\u001b\u001c",
      "\u001d",
      "\u001e",
      "\u001f !\"#$%&'()*+,-./0123456789:;<=>?@ABCDEFGHIJKLMNOPQRSTUVWXYZ[\\]^_`abcdefghijklmnopqrstuvwxyz{|}~\u0000\u0001\u0002\u0003\u0004\u0005\u0006\t\n",
      "\u000e\u000f\u0010\u0011\u0012\u0013\u0014\u0015\u0016\u0017\u0018\u0019\u001a\u001b\u001c",
      "\u001d",
      "\u001e",
      "\u001f !\"#$%&'()*+,-./0123456789:;<=>?@ABCDEFGHIJKLMNOPQRSTUVWXYZ[\\]^_`abcdefghijklmnopqrstuvwxyz{|}~\u0000\u0001\u0002\u0003\u0004\u0005\u0006\t\n",
      "\u000e\u000f\u0010\u0011\u0012\u0013\u0014\u0015\u0016\u0017\u0018\u0019\u001a\u001b\u001c",
      "\u001d",
      "\u001e",
      "\u001f !\"#$%&'()*+,-./0123456789:;<=>?@ABCDEFGHIJKLMNOPQRSTUVWXYZ[\\]^_`abcdefghijklmnopqrstuvwxyz{|}~\u0000\u0001\u0002\u0003\u0004\u0005\u0006\t\n",
      "\u000e\u000f\u0010\u0011\u0012\u0013\u0014\u0015\u0016\u0017\u0018\u0019\u001a\u001b\u001c",
      "\u001d",
      "\u001e",
      "\u001f !\"#$%&'()*+,-./0123456789:;<=>?@ABCDEFGHIJKLMNOPQRSTUVWXYZ[\\]^_`abcdefghijklmnopqrstuvwxyz{|}~\u0000\u0001\u0002\u0003\u0004\u0005\u0006\t\n",
      "\u000e\u000f\u0010\u0011\u0012\u0013\u0014\u0015\u0016\u0017\u0018\u0019\u001a\u001b\u001c",
      "\u001d",
      "\u001e",
      "\u001f !\"#$%&'()*+,-./0123456789:;<=>?@ABCDEFGHIJKLMNOPQRSTUVWXYZ[\\]^_`abcdefghijklmnopqrstuvwxyz{|}~\u0000\u0001\u0002\u0003\u0004\u0005\u0006\t\n",
      "\u000e\u000f\u0010\u0011\u0012\u0013\u0014\u0015\u0016\u0017\u0018\u0019\u001a\u001b\u001c",
      "\u001d",
      "\u001e",
      "\u001f !\"#$%&'()*+,-./0123456789:;<=>?@ABCDEFGHIJKLMNOPQRSTUVWXYZ[\\]^_`abcdefghijklmnopqrstuvwxyz{|}~\u0000\u0001\u0002\u0003\u0004\u0005\u0006\t\n",
      "\u000e\u000f\u0010\u0011\u0012\u0013\u0014\u0015\u0016\u0017\u0018\u0019\u001a\u001b\u001c",
      "\u001d",
      "\u001e",
      "\u001f !\"#$%&'()*+,-./0123456789:;<=>?@ABCDEFGHIJKLMNOPQRSTUVWXYZ[\\]^_`abcdefghijklmnopqrstuvwxyz{|}~\u0000\u0001\u0002\u0003\u0004\u0005\u0006\t\n",
      "\u000e\u000f\u0010\u0011\u0012\u0013\u0014\u0015\u0016\u0017\u0018\u0019\u001a\u001b\u001c",
      "\u001d",
      "\u001e",
      "\u001f !\"#$%&'()*+,-./0123456789:;<=>?@ABCDEFGHIJKLMNOPQRSTUVWXYZ[\\]^_`abcdefg\n"
     ]
    }
   ],
   "source": [
    "cat hogehoge.txt"
   ]
  },
  {
   "cell_type": "markdown",
   "metadata": {
    "deletable": false,
    "editable": false,
    "kernel": "SoS",
    "nbgrader": {
     "cell_type": "markdown",
     "checksum": "c7166083aae2151906c7019cf0e8f948",
     "grade": false,
     "grade_id": "c-010",
     "locked": true,
     "schema_version": 3,
     "solution": false,
     "task": false
    }
   },
   "source": [
    "# 3. mmapで(ファイルと無関係な)メモリ割当て\n",
    "* mmapはファイル読み書きとは無関係に, メモリ割り当て(のみ)のために使えることを示す例"
   ]
  },
  {
   "cell_type": "code",
   "execution_count": 13,
   "metadata": {
    "deletable": false,
    "kernel": "Python 3 (ipykernel)",
    "nbgrader": {
     "cell_type": "code",
     "checksum": "bfb30ef35e1a2f7fc7b97f68ae6d2949",
     "grade": true,
     "grade_id": "p-003",
     "locked": false,
     "points": 1,
     "schema_version": 3,
     "solution": true,
     "task": false
    }
   },
   "outputs": [
    {
     "name": "stdout",
     "output_type": "stream",
     "text": [
      "Writing mmap_alloc.c\n"
     ]
    }
   ],
   "source": [
    "\n",
    "%%writefile mmap_alloc.c\n",
    "#include <assert.h>\n",
    "#include <err.h>\n",
    "#include <fcntl.h>\n",
    "#include <stdio.h>\n",
    "#include <stdlib.h>\n",
    "#include <sys/mman.h>\n",
    "#include <sys/stat.h>\n",
    "#include <sys/types.h>\n",
    "#include <unistd.h>\n",
    "\n",
    "int main(int argc, char ** argv) {\n",
    "  int i = 1;\n",
    "  long sz         = (argc > i ? atol(argv[i]) : 1000); i++;\n",
    "  /* mmap メモリ割当のみ */\n",
    "  char * a = mmap(0, sz, PROT_READ|PROT_WRITE, MAP_PRIVATE|MAP_ANONYMOUS, -1, 0);\n",
    "  if (a == MAP_FAILED) err(1, \"mmap\");\n",
    "  /* これは単なるメモリ割り当て */\n",
    "  for (long i = 0; i < sz; i++) {\n",
    "    assert(a[i] == 0);\n",
    "  }\n",
    "  if (munmap(a, sz) == -1) err(1, \"mumap\");\n",
    "  printf(\"OK\\n\");\n",
    "  return 0;\n",
    "}"
   ]
  },
  {
   "cell_type": "code",
   "execution_count": 14,
   "metadata": {
    "kernel": "Bash",
    "nbgrader": {
     "grade": false,
     "grade_id": "c-011",
     "locked": false,
     "schema_version": 3,
     "solution": false,
     "task": false
    }
   },
   "outputs": [],
   "source": [
    "gcc -O3 -Wall mmap_alloc.c -o mmap_alloc"
   ]
  },
  {
   "cell_type": "code",
   "execution_count": 15,
   "metadata": {
    "kernel": "Bash",
    "nbgrader": {
     "grade": false,
     "grade_id": "c-012",
     "locked": false,
     "schema_version": 3,
     "solution": false,
     "task": false
    }
   },
   "outputs": [
    {
     "name": "stdout",
     "output_type": "stream",
     "text": [
      "OK\n"
     ]
    }
   ],
   "source": [
    "./mmap_alloc"
   ]
  },
  {
   "cell_type": "markdown",
   "metadata": {
    "deletable": false,
    "editable": false,
    "kernel": "SoS",
    "nbgrader": {
     "cell_type": "markdown",
     "checksum": "5b06ae1952501ba68f90d1376f995a85",
     "grade": false,
     "grade_id": "c-013",
     "locked": true,
     "schema_version": 3,
     "solution": false,
     "task": false
    }
   },
   "source": [
    "# 4. mmapの性能\n",
    "## 4-1. mmapでは実際に触った部分だけが読み込まれる\n",
    "* 以下は大きなファイル全体をmmapして, 返された領域を先頭から終わりまで, 1ページにつき1回(1バイト)触る(読む)プログラム\n",
    "* 1バイト触るごとに時刻とページフォルト数を計測する\n",
    "* ポイントは, mmapの呼び出し自身にはほとんど時間がかからないこと\n",
    "* 返された領域中のあるページを初めて触ったときにページフォルトがおき, OSがそこでページの中身を読み込む\n",
    "* 従ってmmapを使ってファイルを読むと, 「(mmapした領域の大きさとはほぼ無関係に)実際に触ったページの数に応じた時間しかかからない」という良い特性を持つ"
   ]
  },
  {
   "cell_type": "code",
   "execution_count": 20,
   "metadata": {
    "deletable": false,
    "kernel": "Python 3 (ipykernel)",
    "nbgrader": {
     "cell_type": "code",
     "checksum": "ec275e97ffda8dc03f20bb3eb11dbca1",
     "grade": true,
     "grade_id": "p-004",
     "locked": false,
     "points": 1,
     "schema_version": 3,
     "solution": true,
     "task": false
    }
   },
   "outputs": [
    {
     "name": "stdout",
     "output_type": "stream",
     "text": [
      "Overwriting read_by_mmap_rec.c\n"
     ]
    }
   ],
   "source": [
    "\n",
    "%%writefile read_by_mmap_rec.c\n",
    "#include <assert.h>\n",
    "#include <err.h>\n",
    "#include <stddef.h>\n",
    "#include <stdio.h>\n",
    "#include <stdlib.h>\n",
    "#include <string.h>\n",
    "#include <sys/mman.h>\n",
    "#include <sys/time.h>\n",
    "#include <sys/resource.h>\n",
    "#include <sys/types.h>\n",
    "#include <sys/stat.h>\n",
    "#include <fcntl.h>\n",
    "#include <unistd.h>\n",
    "\n",
    "/* 1イベントの記録 */\n",
    "typedef struct {\n",
    "  struct timeval tv;\n",
    "  struct rusage ru;\n",
    "  size_t offset;                /* 読んだ場所 */\n",
    "} record_t;\n",
    "\n",
    "/* 全イベントの記録 */\n",
    "typedef struct {\n",
    "  long n_records;              /* 配列aのサイズ */\n",
    "  long i;                       /* 次に書き込むインデクス */\n",
    "  record_t * a;                 /* recordの配列 */\n",
    "} records_t;\n",
    "\n",
    "const long page_sz = 4096;\n",
    "\n",
    "/* n_records分の記録を保持できるrecords_tを作る */\n",
    "records_t * mk_records(long n_records) {\n",
    "  record_t * a = (record_t *)malloc(sizeof(record_t) * n_records);\n",
    "  memset(a, 1, sizeof(record_t) * n_records);\n",
    "  /* records_tの割当て */\n",
    "  records_t * R = (records_t *)malloc(sizeof(records_t));\n",
    "  R->n_records = n_records;\n",
    "  R->i = 0;\n",
    "  R->a = a;\n",
    "  return R;\n",
    "}\n",
    "\n",
    "void destroy_records(records_t * R) {\n",
    "  free(R);\n",
    "}\n",
    "\n",
    "/* 1イベントの記録 */\n",
    "void record_access(records_t * R) {\n",
    "  long i = R->i;\n",
    "  record_t * r = &R->a[i];\n",
    "  if (gettimeofday(&r->tv, 0) == -1) { err(1, \"gettimeofday\"); }\n",
    "  if (getrusage(RUSAGE_SELF, &r->ru) == -1) { err(1, \"getrusage\"); }\n",
    "  R->i = i + 1;\n",
    "}\n",
    "\n",
    "/* 全イベントの記録を標準出力へ表示 */\n",
    "void print_records(records_t * R) {\n",
    "  long m = R->i;\n",
    "  for (long i = 0; i < m; i++) {\n",
    "    record_t * r0 = &R->a[0];\n",
    "    record_t *  r = &R->a[i];\n",
    "    double t0 = r0->tv.tv_sec + r0->tv.tv_usec * 1.0e-6;\n",
    "    double t  =  r->tv.tv_sec +  r->tv.tv_usec * 1.0e-6;\n",
    "    printf(\"%ld %f %ld %ld %ld %ld\\n\",\n",
    "           i,\n",
    "           t - t0,\n",
    "           r->ru.ru_minflt,\n",
    "           r->ru.ru_majflt,\n",
    "           r->ru.ru_inblock,\n",
    "           r->ru.ru_oublock);\n",
    "  }\n",
    "}\n",
    "\n",
    "/* szバイトぴったり読む. その前にEOFになったらエラー */\n",
    "void read_sz(int fd, char * buf, size_t sz) {\n",
    "  size_t rd = 0;\n",
    "  while (rd < sz) {\n",
    "    ssize_t x = read(fd, buf + rd, sz - rd);\n",
    "    if (x == -1) err(1, \"read\");\n",
    "    assert(x > 0);\n",
    "    rd += x;\n",
    "  }\n",
    "  assert(rd == sz);\n",
    "}\n",
    "\n",
    "/* 10m, 100k みたいな文字列を読んで数に変換\n",
    "   e.g., 10k -> 10 * 1024 */\n",
    "long parse_size(char * s) {\n",
    "  long n = strlen(s);\n",
    "  long unit = -1;\n",
    "  assert(n > 0);\n",
    "  switch (s[n - 1]) {\n",
    "  case 'K' :\n",
    "  case 'k' :\n",
    "    unit = 1024L;\n",
    "    break;\n",
    "  case 'M' :\n",
    "  case 'm' :\n",
    "    unit = 1024L * 1024L;\n",
    "    break;\n",
    "  case '0' ... '9' :\n",
    "    unit = 1L;\n",
    "    break;\n",
    "  case 'G' :\n",
    "  case 'g' :\n",
    "    fprintf(stderr, \"do you mean GB? don't be so aggressive\\n\");\n",
    "    break;\n",
    "  case 'T' :\n",
    "  case 't' :\n",
    "    fprintf(stderr, \"do you mean TB? don't be so aggressive\\n\");\n",
    "    break;\n",
    "  default:\n",
    "    fprintf(stderr, \"invalid unit (%c) specified\\n\", s[n - 1]);\n",
    "    break;\n",
    "  }\n",
    "  if (unit == -1) return -1;\n",
    "  long x = atol(s);\n",
    "  assert(x > 0);\n",
    "  return x * unit;\n",
    "}\n",
    "\n",
    "/* \n",
    " */\n",
    "int main(int argc, char ** argv) {\n",
    "  int i = 1;\n",
    "  char * const filename = (argc > i ? argv[i] : \"data.bin\"); i++;\n",
    "  /* 使うデータサイズ (ファイルの先頭から; MB単位) */\n",
    "  const long data_sz   = (argc > i ? parse_size(argv[i]) : parse_size(\"64m\")); i++;\n",
    "  /* ファイル全体を読む周回数 */\n",
    "  const long n_times    = (argc > i ? atol(argv[i]) : 3); i++;\n",
    "  /* 1周でアクセスする量 */\n",
    "  const long stride = page_sz;\n",
    "  const long n_accesses = data_sz / stride;\n",
    "  const long n_records = n_accesses * n_times + 1;\n",
    "  records_t * const R = mk_records(n_records);\n",
    "\n",
    "  fprintf(stderr, \"read %ld bytes %ld times\\n\",\n",
    "          data_sz, n_times); fflush(stderr);\n",
    "  for (long i = 0; i < n_times; i++) {\n",
    "    fprintf(stderr, \"%ld th read starts\\n\", i); fflush(stderr);\n",
    "    record_access(R);\n",
    "    const int fd = open(filename, O_RDONLY);\n",
    "    if (fd == -1) err(1, \"open\");\n",
    "    char * const a = mmap(0, data_sz, PROT_READ, MAP_PRIVATE, fd, 0);\n",
    "    if (a == MAP_FAILED) err(1, \"mmap\");\n",
    "    long s = 0;\n",
    "    for (long j = 0; j < n_accesses; j++) {\n",
    "      s += a[j * stride];\n",
    "      record_access(R);\n",
    "    }\n",
    "    munmap(a, data_sz);\n",
    "    if (close(fd) == -1) err(1, \"close\");\n",
    "    fprintf(stderr, \"sum = %ld\\n\", s);\n",
    "  }\n",
    "  print_records(R);\n",
    "  destroy_records(R);\n",
    "  return 0;\n",
    "}"
   ]
  },
  {
   "cell_type": "code",
   "execution_count": 21,
   "metadata": {
    "kernel": "Bash",
    "nbgrader": {
     "grade": false,
     "grade_id": "c-014",
     "locked": false,
     "schema_version": 3,
     "solution": false,
     "task": false
    }
   },
   "outputs": [],
   "source": [
    "gcc -O3 -Wall read_by_mmap_rec.c -o read_by_mmap_rec"
   ]
  },
  {
   "cell_type": "markdown",
   "metadata": {
    "deletable": false,
    "editable": false,
    "kernel": "SoS",
    "nbgrader": {
     "cell_type": "markdown",
     "checksum": "e4d4efda9c814361933fe9d37dec20a7",
     "grade": false,
     "grade_id": "c-015",
     "locked": true,
     "schema_version": 3,
     "solution": false,
     "task": false
    }
   },
   "source": [
    "* 可視化用プログラム"
   ]
  },
  {
   "cell_type": "code",
   "execution_count": 22,
   "metadata": {
    "kernel": "Python 3 (ipykernel)",
    "nbgrader": {
     "grade": false,
     "grade_id": "c-016",
     "locked": false,
     "schema_version": 3,
     "solution": false,
     "task": false
    }
   },
   "outputs": [],
   "source": [
    "#!/usr/bin/python3\n",
    "import pdb\n",
    "import re\n",
    "import sqlite3\n",
    "import sys\n",
    "import matplotlib.pyplot as plt\n",
    "import numpy as np\n",
    "\n",
    "def process_line(filename, line, exprs, row_exprs, V, K, R):\n",
    "    for e in exprs:\n",
    "        m = e.search(line)\n",
    "        if m:\n",
    "            V.update(m.groupdict())\n",
    "            dK = set(V.keys()).difference(set(K))\n",
    "            K.extend(list(dK))\n",
    "    for r in row_exprs:\n",
    "        if r.search(line):\n",
    "            R.append(V.copy())\n",
    "            break\n",
    "\n",
    "def read_dats(result_dats, exprs, row_exprs):\n",
    "    K = []\n",
    "    R = []\n",
    "    for result_dat in result_dats:\n",
    "        V = {\"file\" : result_dat}\n",
    "        with open(result_dat) as fp:\n",
    "            for line in fp:\n",
    "                process_line(result_dat, line, exprs, row_exprs, V, K, R)\n",
    "    return K, R\n",
    "\n",
    "def sqlite3_val(x):\n",
    "    if x is None:\n",
    "        return None\n",
    "    try:\n",
    "        return int(x)\n",
    "    except ValueError:\n",
    "        pass\n",
    "    try:\n",
    "        return float(x)\n",
    "    except ValueError:\n",
    "        pass\n",
    "    try:\n",
    "        return float(x)\n",
    "    except ValueError:\n",
    "        pass\n",
    "    return x\n",
    "\n",
    "def sql_exec(co, cmd, *args):\n",
    "    #print(cmd)\n",
    "    return co.execute(cmd, *args)\n",
    "\n",
    "def dats_to_db(result_dats, exprs, row_exprs):\n",
    "    K, R = read_dats(result_dats, exprs, row_exprs)\n",
    "    co = sqlite3.connect(\":memory:\")\n",
    "    sql_exec(co, \"create table a({cols})\".format(cols=\",\".join(K)))\n",
    "    insert = (\"insert into a({cols}) values({placeholders})\"\n",
    "              .format(cols=\",\".join(K), placeholders=\",\".join([\"?\"] * len(K))))\n",
    "    for r in R:\n",
    "        sql_exec(co, insert, tuple([sqlite3_val(r.get(k)) for k in K]))\n",
    "    co.commit()\n",
    "    return co\n",
    "\n",
    "def draw(files, exprs, row_exprs, cmds, start=0, end=-1,\n",
    "         xlabel=None, ylabel=None, col_is_x=False):\n",
    "    co = dats_to_db(files, exprs, row_exprs)\n",
    "    fig, ax = plt.subplots()\n",
    "    if xlabel:\n",
    "        plt.xlabel(xlabel)\n",
    "    if ylabel:\n",
    "        plt.ylabel(ylabel)\n",
    "    for cmd,kw in cmds:\n",
    "        res = list(sql_exec(co, cmd))\n",
    "        res = res[start:end]\n",
    "        if len(res) == 0:\n",
    "            continue\n",
    "        if len(res[0]) == 1:\n",
    "            res = list(enumerate(x for x, in res))\n",
    "            if col_is_x:\n",
    "                res = [(y,x) for x,y in res]\n",
    "        x = np.array([x for x,_ in res])\n",
    "        y = np.array([y for _,y in res])\n",
    "        plt.plot(x, y, '-o', **kw)\n",
    "    plt.legend()\n",
    "    plt.show()\n",
    "    co.close()\n",
    "\n",
    "def graph(files, y, start=0, end=-1):\n",
    "    exprs = [\n",
    "        re.compile(r\"(?P<i>\\d+) (?P<t>\\d+\\.\\d+) (?P<minflt>\\d+) (?P<majflt>\\d+) (?P<inblock>\\d+) (?P<oublock>\\d+)\"),\n",
    "    ]\n",
    "    row_exprs = exprs[-1:]\n",
    "    draw(files, exprs, row_exprs,\n",
    "         [('select i,%s from a where file=\"%s\"' % (y, filename),\n",
    "           dict(label=\"%s\" % filename))\n",
    "          for filename in files], # , \"minflt\", \"majflt\"\n",
    "         xlabel=\"i\", ylabel=y, start=start, end=end)\n",
    "\n",
    "if sys.argv[0].endswith(\"read_mmap_vis.py\"):\n",
    "    graph(sys.argv[1:], \"t\")\n"
   ]
  },
  {
   "cell_type": "markdown",
   "metadata": {
    "deletable": false,
    "editable": false,
    "kernel": "SoS",
    "nbgrader": {
     "cell_type": "markdown",
     "checksum": "283c9e85e22e722702051a867533912a",
     "grade": false,
     "grade_id": "c-017",
     "locked": true,
     "schema_version": 3,
     "solution": false,
     "task": false
    }
   },
   "source": [
    "* 実行 (ファイルをキャッシュから追い出し, dataの先頭128MBを, {open, mmap, 触る}を3回繰り返す)\n",
    "* 適宜データの大きさ(128m), 繰り返し数(3)を変えてやってみよ"
   ]
  },
  {
   "cell_type": "code",
   "execution_count": 24,
   "metadata": {
    "kernel": "Bash",
    "nbgrader": {
     "grade": false,
     "grade_id": "c-018",
     "locked": false,
     "schema_version": 3,
     "solution": false,
     "task": false
    }
   },
   "outputs": [
    {
     "name": "stdout",
     "output_type": "stream",
     "text": [
      "read 134217728 bytes 3 times\n",
      "0 th read starts\n",
      "sum = -10329\n",
      "1 th read starts\n",
      "sum = -10329\n",
      "2 th read starts\n",
      "sum = -10329\n"
     ]
    }
   ],
   "source": [
    "data=../os11_cache/data.bin\n",
    "../os11_cache/drop_cache ${data}\n",
    "./read_by_mmap_rec ${data} 128m 3 > mmap.dat"
   ]
  },
  {
   "cell_type": "markdown",
   "metadata": {
    "deletable": false,
    "editable": false,
    "kernel": "SoS",
    "nbgrader": {
     "cell_type": "markdown",
     "checksum": "dd307fd47d81c9198421a18b608e87ec",
     "grade": false,
     "grade_id": "c-019",
     "locked": true,
     "schema_version": 3,
     "solution": false,
     "task": false
    }
   },
   "source": [
    "* 可視化 (経過時間)"
   ]
  },
  {
   "cell_type": "code",
   "execution_count": 25,
   "metadata": {
    "kernel": "Python 3 (ipykernel)",
    "nbgrader": {
     "grade": false,
     "grade_id": "c-020",
     "locked": false,
     "schema_version": 3,
     "solution": false,
     "task": false
    }
   },
   "outputs": [
    {
     "data": {
      "image/png": "[encoded data removed]",
      "text/plain": [
       "<Figure size 640x480 with 1 Axes>"
      ]
     },
     "metadata": {},
     "output_type": "display_data"
    }
   ],
   "source": [
    "graph([\"mmap.dat\"], \"t\",)"
   ]
  },
  {
   "cell_type": "markdown",
   "metadata": {
    "deletable": false,
    "editable": false,
    "kernel": "SoS",
    "nbgrader": {
     "cell_type": "markdown",
     "checksum": "c620e0bfbf885bcb12268fbbb0732afc",
     "grade": false,
     "grade_id": "c-021",
     "locked": true,
     "schema_version": 3,
     "solution": false,
     "task": false
    }
   },
   "source": [
    "  * 時間は, 実際に触ったページ数に比例している\n",
    "  * すなわちファイルのごく一部しか使わないアプリが全体をmmapしてもほとんどペナルティーはない\n",
    "\n",
    "* マイナーフォルト (getrusageで取得)"
   ]
  },
  {
   "cell_type": "code",
   "execution_count": 26,
   "metadata": {
    "kernel": "Python 3 (ipykernel)",
    "nbgrader": {
     "grade": false,
     "grade_id": "c-022",
     "locked": false,
     "schema_version": 3,
     "solution": false,
     "task": false
    }
   },
   "outputs": [
    {
     "data": {
      "image/png": "[encoded data removed]",
      "text/plain": [
       "<Figure size 640x480 with 1 Axes>"
      ]
     },
     "metadata": {},
     "output_type": "display_data"
    }
   ],
   "source": [
    "graph([\"mmap.dat\"], \"minflt\")"
   ]
  },
  {
   "cell_type": "markdown",
   "metadata": {
    "deletable": false,
    "editable": false,
    "kernel": "SoS",
    "nbgrader": {
     "cell_type": "markdown",
     "checksum": "3d7ff40488f59bcebdbf9dc0a4d67720",
     "grade": false,
     "grade_id": "c-023",
     "locked": true,
     "schema_version": 3,
     "solution": false,
     "task": false
    }
   },
   "source": [
    "  * 1回読むのにおこるマイナーフォルトの数とページ数を比べてみよ. 何がわかるか? \n",
    "  * 拡大表示して, 個々の点が見えるまで拡大してみよ\n",
    "\n",
    "* メジャーフォルト (getrusageで取得)"
   ]
  },
  {
   "cell_type": "code",
   "execution_count": 27,
   "metadata": {
    "kernel": "Python 3 (ipykernel)",
    "nbgrader": {
     "grade": false,
     "grade_id": "c-024",
     "locked": false,
     "schema_version": 3,
     "solution": false,
     "task": false
    }
   },
   "outputs": [
    {
     "data": {
      "image/png": "[encoded data removed]",
      "text/plain": [
       "<Figure size 640x480 with 1 Axes>"
      ]
     },
     "metadata": {},
     "output_type": "display_data"
    }
   ],
   "source": [
    "graph([\"mmap.dat\"], \"majflt\")"
   ]
  },
  {
   "cell_type": "markdown",
   "metadata": {
    "deletable": false,
    "editable": false,
    "kernel": "SoS",
    "nbgrader": {
     "cell_type": "markdown",
     "checksum": "8a92edd4d6628302f2278f4644b44378",
     "grade": false,
     "grade_id": "c-025",
     "locked": true,
     "schema_version": 3,
     "solution": false,
     "task": false
    }
   },
   "source": [
    "* 読み込みブロック数 (getrusageで取得)"
   ]
  },
  {
   "cell_type": "code",
   "execution_count": 28,
   "metadata": {
    "kernel": "Python 3 (ipykernel)",
    "nbgrader": {
     "grade": false,
     "grade_id": "c-026",
     "locked": false,
     "schema_version": 3,
     "solution": false,
     "task": false
    }
   },
   "outputs": [
    {
     "data": {
      "image/png": "[encoded data removed]",
      "text/plain": [
       "<Figure size 640x480 with 1 Axes>"
      ]
     },
     "metadata": {},
     "output_type": "display_data"
    }
   ],
   "source": [
    "graph([\"mmap.dat\"], \"inblock\")"
   ]
  },
  {
   "cell_type": "markdown",
   "metadata": {
    "deletable": false,
    "editable": false,
    "kernel": "SoS",
    "nbgrader": {
     "cell_type": "markdown",
     "checksum": "6d97faa235f62132b6623e97c122576b",
     "grade": false,
     "grade_id": "c-027",
     "locked": true,
     "schema_version": 3,
     "solution": false,
     "task": false
    }
   },
   "source": [
    "  * getrusageのマニュアルによるとこの数字は \"The number of times the filesystem had to perform input\" でIOの「回数」だと思えば良いだろう\n",
    "  * 一回に何バイト位を読み込んでいると思われるか"
   ]
  },
  {
   "cell_type": "markdown",
   "metadata": {
    "deletable": false,
    "editable": false,
    "kernel": "SoS",
    "nbgrader": {
     "cell_type": "markdown",
     "checksum": "20ccb2470f60159525b641b1d513ee1f",
     "grade": false,
     "grade_id": "c-028",
     "locked": true,
     "schema_version": 3,
     "solution": false,
     "task": false
    }
   },
   "source": [
    "# 5. mmap vs. read\n",
    "* 大きなファイル全体をmmapする代わりにファイル全体を実際にreadで読み込む\n",
    "* その後は同様, 1バイト触るごとに時刻とページフォルト数を計測する"
   ]
  },
  {
   "cell_type": "code",
   "execution_count": 29,
   "metadata": {
    "deletable": false,
    "kernel": "Python 3 (ipykernel)",
    "nbgrader": {
     "cell_type": "code",
     "checksum": "54e7153345c1039d36299e66c7bac0c6",
     "grade": true,
     "grade_id": "p-005",
     "locked": false,
     "points": 1,
     "schema_version": 3,
     "solution": true,
     "task": false
    }
   },
   "outputs": [
    {
     "name": "stdout",
     "output_type": "stream",
     "text": [
      "Writing read_by_read_rec.c\n"
     ]
    }
   ],
   "source": [
    "\n",
    "%%writefile read_by_read_rec.c\n",
    "#include <assert.h>\n",
    "#include <err.h>\n",
    "#include <stddef.h>\n",
    "#include <stdio.h>\n",
    "#include <stdlib.h>\n",
    "#include <string.h>\n",
    "#include <sys/mman.h>\n",
    "#include <sys/time.h>\n",
    "#include <sys/resource.h>\n",
    "#include <sys/types.h>\n",
    "#include <sys/stat.h>\n",
    "#include <fcntl.h>\n",
    "#include <unistd.h>\n",
    "\n",
    "/* 1イベントの記録 */\n",
    "typedef struct {\n",
    "  struct timeval tv;\n",
    "  struct rusage ru;\n",
    "  size_t offset;                /* 読んだ場所 */\n",
    "} record_t;\n",
    "\n",
    "/* 全イベントの記録 */\n",
    "typedef struct {\n",
    "  long n_records;              /* 配列aのサイズ */\n",
    "  long i;                       /* 次に書き込むインデクス */\n",
    "  record_t * a;                 /* recordの配列 */\n",
    "} records_t;\n",
    "\n",
    "const long page_sz = 4096;\n",
    "\n",
    "/* n_records分の記録を保持できるrecords_tを作る */\n",
    "records_t * mk_records(long n_records) {\n",
    "  record_t * a = (record_t *)malloc(sizeof(record_t) * n_records);\n",
    "  memset(a, 1, sizeof(record_t) * n_records);\n",
    "  /* records_tの割当て */\n",
    "  records_t * R = (records_t *)malloc(sizeof(records_t));\n",
    "  R->n_records = n_records;\n",
    "  R->i = 0;\n",
    "  R->a = a;\n",
    "  return R;\n",
    "}\n",
    "\n",
    "void destroy_records(records_t * R) {\n",
    "  free(R);\n",
    "}\n",
    "\n",
    "/* 1イベントの記録 */\n",
    "void record_access(records_t * R) {\n",
    "  long i = R->i;\n",
    "  record_t * r = &R->a[i];\n",
    "  if (gettimeofday(&r->tv, 0) == -1) { err(1, \"gettimeofday\"); }\n",
    "  if (getrusage(RUSAGE_SELF, &r->ru) == -1) { err(1, \"getrusage\"); }\n",
    "  R->i = i + 1;\n",
    "}\n",
    "\n",
    "/* 全イベントの記録を標準出力へ表示 */\n",
    "void print_records(records_t * R) {\n",
    "  long m = R->i;\n",
    "  for (long i = 0; i < m; i++) {\n",
    "    record_t * r0 = &R->a[0];\n",
    "    record_t *  r = &R->a[i];\n",
    "    double t0 = r0->tv.tv_sec + r0->tv.tv_usec * 1.0e-6;\n",
    "    double t  =  r->tv.tv_sec +  r->tv.tv_usec * 1.0e-6;\n",
    "    printf(\"%ld %f %ld %ld %ld %ld\\n\",\n",
    "           i,\n",
    "           t - t0,\n",
    "           r->ru.ru_minflt,\n",
    "           r->ru.ru_majflt,\n",
    "           r->ru.ru_inblock,\n",
    "           r->ru.ru_oublock);\n",
    "  }\n",
    "}\n",
    "\n",
    "/* szバイトぴったり読む. その前にEOFになったらエラー */\n",
    "void read_sz(int fd, char * buf, size_t sz) {\n",
    "  size_t rd = 0;\n",
    "  while (rd < sz) {\n",
    "    ssize_t x = read(fd, buf + rd, sz - rd);\n",
    "    if (x == -1) err(1, \"read\");\n",
    "    assert(x > 0);\n",
    "    rd += x;\n",
    "  }\n",
    "  assert(rd == sz);\n",
    "}\n",
    "\n",
    "/* 10m, 100k みたいな文字列を読んで数に変換\n",
    "   e.g., 10k -> 10 * 1024 */\n",
    "long parse_size(char * s) {\n",
    "  long n = strlen(s);\n",
    "  long unit = -1;\n",
    "  assert(n > 0);\n",
    "  switch (s[n - 1]) {\n",
    "  case 'K' :\n",
    "  case 'k' :\n",
    "    unit = 1024L;\n",
    "    break;\n",
    "  case 'M' :\n",
    "  case 'm' :\n",
    "    unit = 1024L * 1024L;\n",
    "    break;\n",
    "  case '0' ... '9' :\n",
    "    unit = 1L;\n",
    "    break;\n",
    "  case 'G' :\n",
    "  case 'g' :\n",
    "    fprintf(stderr, \"do you mean GB? don't be so aggressive\\n\");\n",
    "    break;\n",
    "  case 'T' :\n",
    "  case 't' :\n",
    "    fprintf(stderr, \"do you mean TB? don't be so aggressive\\n\");\n",
    "    break;\n",
    "  default:\n",
    "    fprintf(stderr, \"invalid unit (%c) specified\\n\", s[n - 1]);\n",
    "    break;\n",
    "  }\n",
    "  if (unit == -1) return -1;\n",
    "  long x = atol(s);\n",
    "  assert(x > 0);\n",
    "  return x * unit;\n",
    "}\n",
    "\n",
    "/* \n",
    " */\n",
    "int main(int argc, char ** argv) {\n",
    "  int i = 1;\n",
    "  char * const filename = (argc > i ? argv[i] : \"data.bin\"); i++;\n",
    "  /* 使うデータサイズ (ファイルの先頭から; MB単位) */\n",
    "  const long data_sz   = (argc > i ? parse_size(argv[i]) : parse_size(\"64m\")); i++;\n",
    "  /* ファイル全体を読む周回数 */\n",
    "  const long n_times    = (argc > i ? atol(argv[i]) : 3); i++;\n",
    "  /* 1周でアクセスする量 */\n",
    "  const long stride = page_sz;\n",
    "  const long n_accesses = data_sz / stride;\n",
    "  const long n_records = n_accesses * n_times + 1;\n",
    "  records_t * const R = mk_records(n_records);\n",
    "\n",
    "  fprintf(stderr, \"read %ld bytes %ld times\\n\",\n",
    "          data_sz, n_times); fflush(stderr);\n",
    "  for (long i = 0; i < n_times; i++) {\n",
    "    fprintf(stderr, \"%ld th read starts\\n\", i); fflush(stderr);\n",
    "    record_access(R);\n",
    "    const int fd = open(filename, O_RDONLY);\n",
    "    if (fd == -1) err(1, \"open\");\n",
    "    char * const a = (char *)malloc(data_sz);\n",
    "    if (!a) err(1, \"malloc\");\n",
    "    read_sz(fd, a, data_sz);\n",
    "    long s = 0;\n",
    "    for (long j = 0; j < n_accesses; j++) {\n",
    "      s += a[j * stride];\n",
    "      record_access(R);\n",
    "    }\n",
    "    free(a);\n",
    "    if (close(fd) == -1) err(1, \"close\");\n",
    "    fprintf(stderr, \"sum = %ld\\n\", s);\n",
    "  }\n",
    "  print_records(R);\n",
    "  destroy_records(R);\n",
    "  return 0;\n",
    "}"
   ]
  },
  {
   "cell_type": "code",
   "execution_count": 30,
   "metadata": {
    "kernel": "Bash",
    "nbgrader": {
     "grade": false,
     "grade_id": "c-029",
     "locked": false,
     "schema_version": 3,
     "solution": false,
     "task": false
    }
   },
   "outputs": [],
   "source": [
    "gcc -O3 -Wall read_by_read_rec.c -o read_by_read_rec"
   ]
  },
  {
   "cell_type": "markdown",
   "metadata": {
    "deletable": false,
    "editable": false,
    "kernel": "SoS",
    "nbgrader": {
     "cell_type": "markdown",
     "checksum": "f5b3a36ca5df81ef04e4400492d62a70",
     "grade": false,
     "grade_id": "c-030",
     "locked": true,
     "schema_version": 3,
     "solution": false,
     "task": false
    }
   },
   "source": [
    "* 実行 (ファイルをキャッシュから追い出し, {open, read, 触る}を3回繰り返す)"
   ]
  },
  {
   "cell_type": "code",
   "execution_count": 31,
   "metadata": {
    "kernel": "Bash",
    "nbgrader": {
     "grade": false,
     "grade_id": "c-031",
     "locked": false,
     "schema_version": 3,
     "solution": false,
     "task": false
    }
   },
   "outputs": [
    {
     "name": "stdout",
     "output_type": "stream",
     "text": [
      "read 134217728 bytes 3 times\n",
      "0 th read starts\n",
      "sum = -10329\n",
      "1 th read starts\n",
      "sum = -10329\n",
      "2 th read starts\n",
      "sum = -10329\n"
     ]
    }
   ],
   "source": [
    "data=../os11_cache/data.bin\n",
    "../os11_cache/drop_cache ${data}\n",
    "./read_by_read_rec ${data} 128m 3 > read.dat"
   ]
  },
  {
   "cell_type": "markdown",
   "metadata": {
    "deletable": false,
    "editable": false,
    "kernel": "SoS",
    "nbgrader": {
     "cell_type": "markdown",
     "checksum": "3231dc0390c7929906475e5a5f2af76b",
     "grade": false,
     "grade_id": "c-032",
     "locked": true,
     "schema_version": 3,
     "solution": false,
     "task": false
    }
   },
   "source": [
    "* 可視化 (経過時間)"
   ]
  },
  {
   "cell_type": "code",
   "execution_count": 32,
   "metadata": {
    "kernel": "Python 3 (ipykernel)",
    "nbgrader": {
     "grade": false,
     "grade_id": "c-033",
     "locked": false,
     "schema_version": 3,
     "solution": false,
     "task": false
    }
   },
   "outputs": [
    {
     "data": {
      "image/png": "[encoded data removed]",
      "text/plain": [
       "<Figure size 640x480 with 1 Axes>"
      ]
     },
     "metadata": {},
     "output_type": "display_data"
    }
   ],
   "source": [
    "graph([\"mmap.dat\", \"read.dat\"], \"t\")"
   ]
  },
  {
   "cell_type": "markdown",
   "metadata": {
    "deletable": false,
    "editable": false,
    "kernel": "SoS",
    "nbgrader": {
     "cell_type": "markdown",
     "checksum": "584668b7ee4c1dbdc2a4143e1384aadb",
     "grade": false,
     "grade_id": "c-034",
     "locked": true,
     "schema_version": 3,
     "solution": false,
     "task": false
    }
   },
   "source": [
    "* マイナーフォルト (getrusageで取得)"
   ]
  },
  {
   "cell_type": "code",
   "execution_count": 33,
   "metadata": {
    "kernel": "Python 3 (ipykernel)",
    "nbgrader": {
     "grade": false,
     "grade_id": "c-035",
     "locked": false,
     "schema_version": 3,
     "solution": false,
     "task": false
    }
   },
   "outputs": [
    {
     "data": {
      "image/png": "[encoded data removed]",
      "text/plain": [
       "<Figure size 640x480 with 1 Axes>"
      ]
     },
     "metadata": {},
     "output_type": "display_data"
    }
   ],
   "source": [
    "graph([\"mmap.dat\", \"read.dat\"], \"minflt\")"
   ]
  },
  {
   "cell_type": "markdown",
   "metadata": {
    "deletable": false,
    "editable": false,
    "kernel": "SoS",
    "nbgrader": {
     "cell_type": "markdown",
     "checksum": "4877220976971d2f0d611c48fe22e1ff",
     "grade": false,
     "grade_id": "c-036",
     "locked": true,
     "schema_version": 3,
     "solution": false,
     "task": false
    }
   },
   "source": [
    "* メジャーフォルト (getrusageで取得)"
   ]
  },
  {
   "cell_type": "code",
   "execution_count": 34,
   "metadata": {
    "kernel": "Python 3 (ipykernel)",
    "nbgrader": {
     "grade": false,
     "grade_id": "c-037",
     "locked": false,
     "schema_version": 3,
     "solution": false,
     "task": false
    }
   },
   "outputs": [
    {
     "data": {
      "image/png": "[encoded data removed]",
      "text/plain": [
       "<Figure size 640x480 with 1 Axes>"
      ]
     },
     "metadata": {},
     "output_type": "display_data"
    }
   ],
   "source": [
    "graph([\"mmap.dat\", \"read.dat\"], \"majflt\")"
   ]
  },
  {
   "cell_type": "markdown",
   "metadata": {
    "deletable": false,
    "editable": false,
    "kernel": "SoS",
    "nbgrader": {
     "cell_type": "markdown",
     "checksum": "9eaaa1d5f566915f1f0474e9f8b27ea2",
     "grade": false,
     "grade_id": "c-038",
     "locked": true,
     "schema_version": 3,
     "solution": false,
     "task": false
    }
   },
   "source": [
    "* 読み込みブロック数 (getrusageで取得)"
   ]
  },
  {
   "cell_type": "code",
   "execution_count": 35,
   "metadata": {
    "kernel": "Python 3 (ipykernel)",
    "nbgrader": {
     "grade": false,
     "grade_id": "c-039",
     "locked": false,
     "schema_version": 3,
     "solution": false,
     "task": false
    }
   },
   "outputs": [
    {
     "data": {
      "image/png": "[encoded data removed]",
      "text/plain": [
       "<Figure size 640x480 with 1 Axes>"
      ]
     },
     "metadata": {},
     "output_type": "display_data"
    }
   ],
   "source": [
    "graph([\"mmap.dat\", \"read.dat\"], \"inblock\")"
   ]
  },
  {
   "cell_type": "markdown",
   "metadata": {
    "deletable": false,
    "editable": false,
    "kernel": "SoS",
    "nbgrader": {
     "cell_type": "markdown",
     "checksum": "94cefba456dad11cef6fb4d39b41173f",
     "grade": false,
     "grade_id": "c-040",
     "locked": true,
     "schema_version": 3,
     "solution": false,
     "task": false
    }
   },
   "source": [
    "* mmapとreadを比較したグラフから何が読み取れるか?\n",
    "  * mmap自身にはほとんど時間がかからない\n",
    "  * ファイル全体を1回読み終わるまでの時間はほとんど同じ\n",
    "  * 2回目以降も, readはファイル全体を読み込むのに多少時間がかかっている. これはデータをキャッシュからプロセスのメモリへコピーする時間. mmapは大きなデータをキャッシュから読み出す場合にも有効\n",
    "\n",
    "## 5-1. mmapはメモリ消費量が少ない\n",
    "* 例えばあるプロセス160MBの領域を全て読み込んだとする\n",
    "* readだとカーネルがそのファイルをキャッシュに持つために160MB, プロセス自身が160MBのメモリを消費する\n",
    "* 複数のプロセスが同じことを行えば1プロセスに付き160MB必要になる\n",
    "* mmapだと, 共有マッピング(MAP_SHARED)であればカーネルがキャッシュに用いている物理メモリを共有できるし, プライベートマッピングであっても書き込みが起きるまでは物理メモリを共有できる\n",
    "* 複数のプロセスが同じことを行っても同様\n",
    "\n",
    "* 以下は cg_mem_limit でプロセスが使えるメモリ量を 256MB に制限して, ファイルの先頭160MBを3回読み込む (256 &lt; 160MB x 2 に注意)"
   ]
  },
  {
   "cell_type": "code",
   "execution_count": 36,
   "metadata": {
    "kernel": "Bash",
    "nbgrader": {
     "grade": false,
     "grade_id": "c-041",
     "locked": false,
     "schema_version": 3,
     "solution": false,
     "task": false
    }
   },
   "outputs": [
    {
     "name": "stdout",
     "output_type": "stream",
     "text": [
      "read 167772160 bytes 3 times\n",
      "0 th read starts\n",
      "sum = -17150\n",
      "1 th read starts\n",
      "sum = -17150\n",
      "2 th read starts\n",
      "sum = -17150\n",
      "read 167772160 bytes 3 times\n",
      "0 th read starts\n",
      "sum = -17150\n",
      "1 th read starts\n",
      "sum = -17150\n",
      "2 th read starts\n",
      "sum = -17150\n"
     ]
    }
   ],
   "source": [
    "data=../os11_cache/data.bin\n",
    "../os11_cache/drop_cache ${data}\n",
    "cg_mem_limit ./read_by_mmap_rec ${data} 160m 3 > mmap_mem_limit.dat\n",
    "../os11_cache/drop_cache ${data}\n",
    "cg_mem_limit ./read_by_read_rec ${data} 160m 3 > read_mem_limit.dat"
   ]
  },
  {
   "cell_type": "markdown",
   "metadata": {
    "deletable": false,
    "editable": false,
    "kernel": "SoS",
    "nbgrader": {
     "cell_type": "markdown",
     "checksum": "29883290289466c81989ca1e4453a71b",
     "grade": false,
     "grade_id": "c-042",
     "locked": true,
     "schema_version": 3,
     "solution": false,
     "task": false
    }
   },
   "source": [
    "* 可視化"
   ]
  },
  {
   "cell_type": "code",
   "execution_count": 37,
   "metadata": {
    "kernel": "Python 3 (ipykernel)",
    "nbgrader": {
     "grade": false,
     "grade_id": "c-043",
     "locked": false,
     "schema_version": 3,
     "solution": false,
     "task": false
    }
   },
   "outputs": [
    {
     "data": {
      "image/png": "[encoded data removed]",
      "text/plain": [
       "<Figure size 640x480 with 1 Axes>"
      ]
     },
     "metadata": {},
     "output_type": "display_data"
    }
   ],
   "source": [
    "graph([\"mmap_mem_limit.dat\", \"read_mem_limit.dat\"], \"t\")"
   ]
  },
  {
   "cell_type": "markdown",
   "metadata": {
    "deletable": false,
    "editable": false,
    "kernel": "SoS",
    "nbgrader": {
     "cell_type": "markdown",
     "checksum": "c85ce0a7afc1cb28e24809ed0986e64f",
     "grade": false,
     "grade_id": "c-044",
     "locked": true,
     "schema_version": 3,
     "solution": false,
     "task": false
    }
   },
   "source": [
    "* mmapの場合は2回目以降, キャッシュが効いている\n",
    "* readの場合は2回目以降もキャッシュが効いていない状態になっていることがわかるだろう\n",
    "\n",
    "* 多くのプロセスが同じことをやった場合に差はより顕著になる"
   ]
  }
 ],
 "metadata": {
  "kernelspec": {
   "display_name": "SoS",
   "language": "sos",
   "name": "sos"
  },
  "language_info": {
   "codemirror_mode": "sos",
   "file_extension": ".sos",
   "mimetype": "text/x-sos",
   "name": "sos",
   "nbconvert_exporter": "sos_notebook.converter.SoS_Exporter",
   "pygments_lexer": "sos"
  },
  "sos": {
   "kernels": [
    [
     "Bash",
     "bash",
     "bash",
     "",
     "shell"
    ],
    [
     "C",
     "c_kernel",
     "c",
     "",
     ""
    ],
    [
     "Go",
     "gophernotes",
     "go",
     "",
     ""
    ],
    [
     "Julia 1.8.5",
     "julia-1.8",
     "julia",
     "",
     ""
    ],
    [
     "OCaml default",
     "ocaml-jupyter",
     "OCaml",
     "",
     "text/x-ocaml"
    ],
    [
     "Python 3 (ipykernel)",
     "python3",
     "python3",
     "",
     {
      "name": "ipython",
      "version": 3
     }
    ],
    [
     "Rust",
     "rust",
     "rust",
     "",
     ""
    ]
   ],
   "panel": {
    "displayed": true,
    "height": 0
   },
   "version": "0.23.3"
  }
 },
 "nbformat": 4,
 "nbformat_minor": 4
}
