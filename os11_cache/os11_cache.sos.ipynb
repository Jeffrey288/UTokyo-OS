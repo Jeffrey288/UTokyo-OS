{
 "cells": [
  {
   "cell_type": "markdown",
   "metadata": {
    "deletable": false,
    "editable": false,
    "kernel": "SoS",
    "nbgrader": {
     "cell_type": "markdown",
     "checksum": "77ec9198a4c9d44d960282e2aed769af",
     "grade": false,
     "grade_id": "c-001",
     "locked": true,
     "schema_version": 3,
     "solution": false,
     "task": false
    }
   },
   "source": [
    "\n",
    "#  オペレーティングシステム 演習 11\n",
    "#  キャッシュ"
   ]
  },
  {
   "cell_type": "markdown",
   "metadata": {
    "kernel": "SoS",
    "nbgrader": {
     "grade": false,
     "grade_id": "c-002",
     "locked": false,
     "schema_version": 3,
     "solution": false,
     "task": false
    }
   },
   "source": [
    "名前と学生証番号を書け. Enter your name and student ID.\n",
    "\n",
    " * 名前 Name:\n",
    " * 学生証番号 Student ID:"
   ]
  },
  {
   "cell_type": "markdown",
   "metadata": {
    "deletable": false,
    "editable": false,
    "kernel": "SoS",
    "nbgrader": {
     "cell_type": "markdown",
     "checksum": "f7841f6ea0334ab143512fdc60c5a183",
     "grade": false,
     "grade_id": "c-003",
     "locked": true,
     "schema_version": 3,
     "solution": false,
     "task": false
    }
   },
   "source": [
    "# 1. はじめに\n",
    "* OSは一度読んだファイルはメモリ上に保持する<font color=\"blue\">(キャッシュ)</font>\n",
    "* ファイル読み込み時にすでにキャッシュされていれば, ディスクからの読み出し(IO)は行われず, 読み出しが高速に行われる\n",
    "* キャッシュは物理メモリを消費するので, メモリ管理の節で述べたのと似た仕組み(LRUの近似)で管理される\n",
    "* つまりしばらく使われなかったファイルがキャッシュから追い出される\n",
    "* キャッシュにどれくらいのメモリが使われているかはこれまでも紹介したfree, vmstat, (端末上では) topなどで知ることができる\n"
   ]
  },
  {
   "cell_type": "code",
   "execution_count": 1,
   "metadata": {
    "kernel": "Bash",
    "nbgrader": {
     "grade": false,
     "grade_id": "c-004",
     "locked": false,
     "schema_version": 3,
     "solution": false,
     "task": false
    }
   },
   "outputs": [
    {
     "name": "stdout",
     "output_type": "stream",
     "text": [
      "               total        used        free      shared  buff/cache   available\n",
      "Mem:        59066724     6024740    43476608        1528     9565376    52337916\n",
      "Swap:       16777212      728228    16048984\n"
     ]
    }
   ],
   "source": [
    "free"
   ]
  },
  {
   "cell_type": "code",
   "execution_count": 2,
   "metadata": {
    "kernel": "Bash",
    "nbgrader": {
     "grade": false,
     "grade_id": "c-005",
     "locked": false,
     "schema_version": 3,
     "solution": false,
     "task": false
    }
   },
   "outputs": [
    {
     "name": "stdout",
     "output_type": "stream",
     "text": [
      "procs -----------memory---------- ---swap-- -----io---- -system-- ------cpu-----\n",
      " r  b   swpd   free   buff  cache   si   so    bi    bo   in   cs us sy id wa st\n",
      " 0  0 728228 43476608 304908 9260468    1    2     1     3    0    0  0  0 99  0  0\n"
     ]
    }
   ],
   "source": [
    "vmstat"
   ]
  },
  {
   "cell_type": "markdown",
   "metadata": {
    "deletable": false,
    "editable": false,
    "kernel": "SoS",
    "nbgrader": {
     "cell_type": "markdown",
     "checksum": "0f4b373d7d19dc115ee3a039e4622698",
     "grade": false,
     "grade_id": "c-006",
     "locked": true,
     "schema_version": 3,
     "solution": false,
     "task": false
    }
   },
   "source": [
    "* 以下ではファイルキャッシュの効果を体感する"
   ]
  },
  {
   "cell_type": "markdown",
   "metadata": {
    "deletable": false,
    "editable": false,
    "kernel": "SoS",
    "nbgrader": {
     "cell_type": "markdown",
     "checksum": "519758feb8e121fd541f0f92e5de8e89",
     "grade": false,
     "grade_id": "c-007",
     "locked": true,
     "schema_version": 3,
     "solution": false,
     "task": false
    }
   },
   "source": [
    "# 2. 準備: 適当な大きさのファイルを作る\n",
    "* 適当なサイズで, 中身がランダムなファイルを作るPythonプログラム"
   ]
  },
  {
   "cell_type": "code",
   "execution_count": 3,
   "metadata": {
    "kernel": "Python 3 (ipykernel)",
    "nbgrader": {
     "grade": false,
     "grade_id": "c-008",
     "locked": false,
     "schema_version": 3,
     "solution": false,
     "task": false
    }
   },
   "outputs": [],
   "source": [
    "#!/usr/bin/python3\n",
    "import os\n",
    "import numpy as np\n",
    "\n",
    "def mk_random_file(filename, size):\n",
    "    assert(size <= 1000 * 1024 * 1024), \"don't make it > 1GB\"\n",
    "    rg = np.random.RandomState()\n",
    "    rg.seed(1234)\n",
    "    a = rg.randint(0, 256, size=size, dtype=np.uint8)\n",
    "    with open(filename, \"wb\") as wp:\n",
    "        a.tofile(wp)\n"
   ]
  },
  {
   "cell_type": "code",
   "execution_count": 4,
   "metadata": {
    "kernel": "Python 3 (ipykernel)",
    "nbgrader": {
     "grade": false,
     "grade_id": "c-009",
     "locked": false,
     "schema_version": 3,
     "solution": false,
     "task": false
    }
   },
   "outputs": [],
   "source": [
    "mk_random_file(\"data.bin\", 500 * 1000 * 1000)"
   ]
  },
  {
   "cell_type": "code",
   "execution_count": 5,
   "metadata": {
    "kernel": "Bash",
    "nbgrader": {
     "grade": false,
     "grade_id": "c-010",
     "locked": false,
     "schema_version": 3,
     "solution": false,
     "task": false
    }
   },
   "outputs": [
    {
     "name": "stdout",
     "output_type": "stream",
     "text": [
      "total 491732\n",
      "-rwxr-xr-x 1 u23391 u23391     16536 Jan  5 03:22 check_incore\n",
      "-rw-r--r-- 1 u23391 u23391      1303 Jan  5 03:22 check_incore.c\n",
      "-rw-r--r-- 1 u23391 u23391 500000000 Jan  6 00:46 data.bin\n",
      "-rwxr-xr-x 1 u23391 u23391     16272 Jan  5 03:22 drop_cache\n",
      "-rw-r--r-- 1 u23391 u23391       755 Jan  5 03:22 drop_cache.c\n",
      "-rw-r--r-- 1 u23391 u23391     69882 Jan  5 03:24 os11_cache.sos.ipynb\n",
      "-rwxr-xr-x 1 u23391 u23391     17216 Jan  5 03:23 read_file\n",
      "-rw-r--r-- 1 u23391 u23391      5594 Jan  5 03:23 read_file.c\n",
      "-rw-r--r-- 1 u23391 u23391   3375180 Jan  5 03:23 s.dat\n"
     ]
    }
   ],
   "source": [
    "ls -l "
   ]
  },
  {
   "cell_type": "markdown",
   "metadata": {
    "deletable": false,
    "editable": false,
    "kernel": "SoS",
    "nbgrader": {
     "cell_type": "markdown",
     "checksum": "2d3cffa74a653f67666c2a3d79598729",
     "grade": false,
     "grade_id": "c-011",
     "locked": true,
     "schema_version": 3,
     "solution": false,
     "task": false
    }
   },
   "source": [
    "#  参考\n",
    "* プログラムを書かずにコマンドを駆使するなら以下 (ddコマンドは知っておくと良いので参考までに紹介)\n",
    "* ifは入力, ofは出力, bsは一度に読み書きする量, countはその回数なので以下は/dev/urandomというファイルから1000000 バイト読み出してdata.binに書く, を250回繰り返す"
   ]
  },
  {
   "cell_type": "code",
   "execution_count": 6,
   "metadata": {
    "kernel": "Bash",
    "nbgrader": {
     "grade": false,
     "grade_id": "c-012",
     "locked": false,
     "schema_version": 3,
     "solution": false,
     "task": false
    }
   },
   "outputs": [
    {
     "name": "stdout",
     "output_type": "stream",
     "text": [
      "250+0 records in\n",
      "250+0 records out\n",
      "250000000 bytes (250 MB, 238 MiB) copied, 1.35659 s, 184 MB/s\n"
     ]
    }
   ],
   "source": [
    "# 参考: 実行する必要なし\n",
    "dd if=/dev/urandom of=data.bin bs=$((1000 * 1000)) count=250"
   ]
  },
  {
   "cell_type": "markdown",
   "metadata": {
    "deletable": false,
    "editable": false,
    "kernel": "SoS",
    "nbgrader": {
     "cell_type": "markdown",
     "checksum": "d3b8aa658e60ec1fbc483cce7b3ff85b",
     "grade": false,
     "grade_id": "c-013",
     "locked": true,
     "schema_version": 3,
     "solution": false,
     "task": false
    }
   },
   "source": [
    "* `/dev/urandom`は読み出すたびに乱数を返す擬似ファイルなので, 上記は乱数でファイルを作ることになる\n",
    "* 実際は中身は何でも良い(ゼロでも良い)のだが, ゼロでは中身が正しく読めていることのチェックにならないので乱数で埋めておく\n",
    "* `/dev/urandom`の読み出しには無駄に時間がかかるし, 作るたびに異なるファイルできてしまうので, 以下のように自分でプログラムを書いてしまうほうが便利で速い"
   ]
  },
  {
   "cell_type": "markdown",
   "metadata": {
    "deletable": false,
    "editable": false,
    "kernel": "SoS",
    "nbgrader": {
     "cell_type": "markdown",
     "checksum": "5606f7145d061e2db111f37ca839b397",
     "grade": false,
     "grade_id": "c-014",
     "locked": true,
     "schema_version": 3,
     "solution": false,
     "task": false
    }
   },
   "source": [
    "# 3. ファイルをキャッシュから追い出すには?\n",
    "* キャッシュの効果を図るために, ファイルがキャッシュされた状態とそうでない状態を比べたいのだが, そうでない状態を作るのにトリックがいる\n",
    "* ファイルは作った直後もキャッシュされているので上記を実行した直後はおそらくキャッシュされている\n",
    "* ファイルをキャッシュから追い出すためにはいくつかの方法がある\n",
    "  1. <font color=\"blue\">たくさんのプロセスメモリを消費して, 追い出す.</font> 例えば32GBのメモリを持つマシンなら32GBのメモリを割り当て, 実際にアクセスして物理メモリを32GB使うプロセスを走らせれば, おそらくキャッシュは全て追い出される. しかしこれは一時的にメモリ不足を引き起こし, 最悪の場合はスラッシングを引き起こす. やるなら自分専用の仮想マシンにしておくべきだろう\n",
    "  1. もう少し穏当には, <font color=\"blue\">たくさんのキャッシュメモリを消費して追い出す.</font> 例えば32GBのメモリを持つマシンなら32GB以上のファイルを作ってそれを何度か読み出す. 果たして本当に追い出されるかは多少疑ったほうが良い(通常は古いものが追い出されるが, 小さいファイルや最近書き込まれたファイルのキャッシュを救って, 32GBの大きなファイルの一部を追い出すという判断がありえないわけではない). スラッシングなどの心配はないが, 32GBをディスクから読み出すのは時間がかかるし, これを何十人もの人が同時にやったら結構大変なことになる. 大きなメモリを持つマシンでこんなことを実験のためにやりたくはない\n",
    "  1. 管理者権限があればできる裏技. 以下はOSに直接, <font color=\"blue\">キャッシュを開放するよう指示するコマンド</font>\n",
    "```\n",
    "sudo sysctl -w vm.drop_caches=3\n",
    "```\n",
    "管理者権限が必要である\n",
    "  1. <font color=\"blue\">ユーザでも出来る上, 特定ファイルのキャッシュだけを開放できる裏技. `posix_fadvise`というシステムコール</font>でファイルへこれからどういうアクセスをするかのヒントを与えることが出来るがそのうちの, <font color=\"blue\">`POSIX_FADV_DONTNEED`</font>というヒントを与えると, 指定した領域は当分不要とみなされ, キャッシュが開放される <font color=\"green\">以下ではこれを使う</font>"
   ]
  },
  {
   "cell_type": "code",
   "execution_count": 26,
   "metadata": {
    "kernel": "Python 3 (ipykernel)",
    "nbgrader": {
     "grade": false,
     "grade_id": "c-015",
     "locked": false,
     "schema_version": 3,
     "solution": false,
     "task": false
    }
   },
   "outputs": [
    {
     "name": "stdout",
     "output_type": "stream",
     "text": [
      "Overwriting drop_cache.c\n"
     ]
    }
   ],
   "source": [
    "%%writefile drop_cache.c\n",
    "#include <assert.h>\n",
    "#include <err.h>\n",
    "#include <fcntl.h>\n",
    "#include <stdio.h>\n",
    "#include <stdlib.h>\n",
    "#include <sys/mman.h>\n",
    "#include <sys/stat.h>\n",
    "#include <sys/types.h>\n",
    "#include <unistd.h>\n",
    "\n",
    "int drop_cache(const char * filename) {\n",
    "  /* ファイルを開く */\n",
    "  int fd = open(filename, O_RDWR, 0777);\n",
    "  if (fd == -1) err(1, \"open\");\n",
    "  struct stat sb[1];\n",
    "  if (fstat(fd, sb) == -1) err(1, \"fstat\");\n",
    "  if (fdatasync(fd) == -1) err(1, \"fdatasync\");\n",
    "  long sz = sb->st_size;\n",
    "  if (posix_fadvise(fd, 0, sz, POSIX_FADV_DONTNEED) == -1) {\n",
    "    err(1, \"posix_fadvise\");\n",
    "  }\n",
    "  if (close(fd) == -1) err(1, \"close\");\n",
    "  return 1;                     /* OK */\n",
    "}\n",
    "\n",
    "int main(int argc, char ** argv) {\n",
    "  for (int i = 1; i < argc; i++) {\n",
    "    drop_cache(argv[i]);\n",
    "  }\n",
    "  return 0;\n",
    "}"
   ]
  },
  {
   "cell_type": "code",
   "execution_count": 27,
   "metadata": {
    "kernel": "Bash",
    "nbgrader": {
     "grade": false,
     "grade_id": "c-016",
     "locked": false,
     "schema_version": 3,
     "solution": false,
     "task": false
    }
   },
   "outputs": [],
   "source": [
    "gcc -Wall -O3 -o drop_cache drop_cache.c"
   ]
  },
  {
   "cell_type": "markdown",
   "metadata": {
    "deletable": false,
    "editable": false,
    "kernel": "SoS",
    "nbgrader": {
     "cell_type": "markdown",
     "checksum": "f0db0494e935c9caa272d04cfa812f8a",
     "grade": false,
     "grade_id": "c-017",
     "locked": true,
     "schema_version": 3,
     "solution": false,
     "task": false
    }
   },
   "source": [
    "* 以下で, 上で作った5つのファルをキャッシュから追い出せる"
   ]
  },
  {
   "cell_type": "code",
   "execution_count": 28,
   "metadata": {
    "kernel": "Bash",
    "nbgrader": {
     "grade": false,
     "grade_id": "c-018",
     "locked": false,
     "schema_version": 3,
     "solution": false,
     "task": false
    }
   },
   "outputs": [],
   "source": [
    "./drop_cache data.bin"
   ]
  },
  {
   "cell_type": "markdown",
   "metadata": {
    "deletable": false,
    "editable": false,
    "kernel": "SoS",
    "nbgrader": {
     "cell_type": "markdown",
     "checksum": "50193bc9f375b7e9f8ed8c16eba1bbc4",
     "grade": false,
     "grade_id": "c-019",
     "locked": true,
     "schema_version": 3,
     "solution": false,
     "task": false
    }
   },
   "source": [
    "# 4. キャッシュをざっくり体感する\n",
    "* キャッシュされた状態とそうでない状態を比べたければ同じファイルを2度アクセスしてみれば良い\n",
    "* 遅いディスクのほうが違いがよくわかるがどれでも効果は体感できるはず\n",
    "* 適宜ファイル名を変えてやってみよ (7_ の数字のところだけを変えれば良い)\n",
    "\n",
    "* 1回目"
   ]
  },
  {
   "cell_type": "code",
   "execution_count": 29,
   "metadata": {
    "kernel": "Bash",
    "nbgrader": {
     "grade": false,
     "grade_id": "c-020",
     "locked": false,
     "schema_version": 3,
     "solution": false,
     "task": false
    }
   },
   "outputs": [
    {
     "name": "stdout",
     "output_type": "stream",
     "text": [
      "\n",
      "real\t0m0.180s\n",
      "user\t0m0.000s\n",
      "sys\t0m0.110s\n"
     ]
    }
   ],
   "source": [
    "time cat data.bin > /dev/null"
   ]
  },
  {
   "cell_type": "markdown",
   "metadata": {
    "deletable": false,
    "editable": false,
    "kernel": "SoS",
    "nbgrader": {
     "cell_type": "markdown",
     "checksum": "d7880eb4b9c1b6b1da8429c0c3fc53dc",
     "grade": false,
     "grade_id": "c-021",
     "locked": true,
     "schema_version": 3,
     "solution": false,
     "task": false
    }
   },
   "source": [
    "* 2回目"
   ]
  },
  {
   "cell_type": "code",
   "execution_count": 30,
   "metadata": {
    "kernel": "Bash",
    "nbgrader": {
     "grade": false,
     "grade_id": "c-022",
     "locked": false,
     "schema_version": 3,
     "solution": false,
     "task": false
    }
   },
   "outputs": [
    {
     "name": "stdout",
     "output_type": "stream",
     "text": [
      "\n",
      "real\t0m0.054s\n",
      "user\t0m0.000s\n",
      "sys\t0m0.054s\n"
     ]
    }
   ],
   "source": [
    "time cat data.bin > /dev/null"
   ]
  },
  {
   "cell_type": "markdown",
   "metadata": {
    "deletable": false,
    "editable": false,
    "kernel": "SoS",
    "nbgrader": {
     "cell_type": "markdown",
     "checksum": "41f095e82ab6a402f3d9469cf1621d29",
     "grade": false,
     "grade_id": "c-023",
     "locked": true,
     "schema_version": 3,
     "solution": false,
     "task": false
    }
   },
   "source": [
    "* キャッシュは偉大で, 普段コンピュータがキビキビと動いている理由の一部は, よく使うもの(プログラムのコード, ライブラリなどを含め, 編集中のファイル, 何度も閉じたり開いたりしているファイルなど)がキャッシュ上に載っているからである\n",
    "* コンピュータを立ち上げた直後プログラムの立ち上げが遅いが, 2度目は速くなるということを感じたことがないだろうか? 今度意識してみてください\n",
    "\n",
    "# 5. (参考) ファイルがキャッシュにあるかどうかを知る\n",
    "* ファイルがキャッシュにあるかどうかを知るのに fincore というコマンドがある"
   ]
  },
  {
   "cell_type": "code",
   "execution_count": 35,
   "metadata": {
    "kernel": "Bash",
    "nbgrader": {
     "grade": false,
     "grade_id": "c-024",
     "locked": false,
     "schema_version": 3,
     "solution": false,
     "task": false
    }
   },
   "outputs": [
    {
     "name": "stdout",
     "output_type": "stream",
     "text": [
      "   RES PAGES   SIZE FILE\n",
      "238.4M 61036 238.4M data.bin\n"
     ]
    }
   ],
   "source": [
    "fincore data.bin"
   ]
  },
  {
   "cell_type": "markdown",
   "metadata": {
    "deletable": false,
    "editable": false,
    "kernel": "SoS",
    "nbgrader": {
     "cell_type": "markdown",
     "checksum": "29925cea97e0be54de8fd7c7753b8846",
     "grade": false,
     "grade_id": "c-025",
     "locked": true,
     "schema_version": 3,
     "solution": false,
     "task": false
    }
   },
   "source": [
    "* 以下で追い出してまた上記でチェックしてみよ"
   ]
  },
  {
   "cell_type": "code",
   "execution_count": 32,
   "metadata": {
    "kernel": "Bash",
    "nbgrader": {
     "grade": false,
     "grade_id": "c-026",
     "locked": false,
     "schema_version": 3,
     "solution": false,
     "task": false
    }
   },
   "outputs": [],
   "source": [
    "./drop_cache data.bin"
   ]
  },
  {
   "cell_type": "code",
   "execution_count": 34,
   "metadata": {
    "kernel": "Bash",
    "nbgrader": {
     "grade": false,
     "grade_id": "c-027",
     "locked": false,
     "schema_version": 3,
     "solution": false,
     "task": false
    }
   },
   "outputs": [
    {
     "name": "stdout",
     "output_type": "stream",
     "text": [
      "\n",
      "real\t0m0.197s\n",
      "user\t0m0.000s\n",
      "sys\t0m0.113s\n"
     ]
    }
   ],
   "source": [
    "# 再び読み出してみる\n",
    "time cat data.bin > /dev/null"
   ]
  },
  {
   "cell_type": "markdown",
   "metadata": {
    "deletable": false,
    "editable": false,
    "kernel": "SoS",
    "nbgrader": {
     "cell_type": "markdown",
     "checksum": "b9471c323ce0842678296bc4af10c542",
     "grade": false,
     "grade_id": "c-028",
     "locked": true,
     "schema_version": 3,
     "solution": false,
     "task": false
    }
   },
   "source": [
    "* システムコールとしては実は, mincore を使ってる. ファイルをmmapしておいてその領域が物理メモリにあるか否かをmincoreで調べれば, 「物理メモリ上にある = キャッシュ上にある」という関係になっている\n",
    "\n",
    "* 以下は参考まで(fincoreの中身相当)"
   ]
  },
  {
   "cell_type": "code",
   "execution_count": 36,
   "metadata": {
    "kernel": "Python 3 (ipykernel)",
    "nbgrader": {
     "grade": false,
     "grade_id": "c-029",
     "locked": false,
     "schema_version": 3,
     "solution": false,
     "task": false
    }
   },
   "outputs": [
    {
     "name": "stdout",
     "output_type": "stream",
     "text": [
      "Overwriting check_incore.c\n"
     ]
    }
   ],
   "source": [
    "%%writefile check_incore.c\n",
    "#include <assert.h>\n",
    "#include <err.h>\n",
    "#include <fcntl.h>\n",
    "#include <stdio.h>\n",
    "#include <stdlib.h>\n",
    "#include <string.h>\n",
    "#include <sys/mman.h>\n",
    "#include <sys/stat.h>\n",
    "#include <sys/types.h>\n",
    "#include <unistd.h>\n",
    "\n",
    "int check_incore(char * filename) {\n",
    "  /* ファイルを開く */\n",
    "  int fd = open(filename, O_RDONLY);\n",
    "  if (fd == -1) err(1, \"open\");\n",
    "  /* ファイルのサイズ */\n",
    "  struct stat sb[1];\n",
    "  if (fstat(fd, sb) == -1) err(1, \"fstat\");\n",
    "  /* mmap (読み出しのみ) */\n",
    "  long sz = sb->st_size;\n",
    "  char * a = mmap(0, sz, PROT_READ, MAP_SHARED, fd, 0);\n",
    "  if (a == MAP_FAILED) err(1, \"mmap\");\n",
    "  const long page_sz = 4096;\n",
    "  long n_pages = (sz + page_sz - 1) / page_sz;\n",
    "  unsigned char * incore = malloc(n_pages);\n",
    "  memset(incore, 2, n_pages);\n",
    "\n",
    "  if (mincore(a, n_pages * page_sz, incore) == -1) {\n",
    "    err(1, \"mincore\");\n",
    "  }\n",
    "  long bytes_incore = 0;\n",
    "  for (long i = 0; i < n_pages; i++) {\n",
    "    assert(incore[i] == 0 || incore[i] == 1);\n",
    "    if (incore[i]) bytes_incore += page_sz;\n",
    "  }\n",
    "  printf(\"%s : %ld bytes of %ld bytes on memory\\n\", filename, bytes_incore, sz);\n",
    "  if (munmap(a, sz) == -1) err(1, \"mumap\");\n",
    "  if (close(fd) == -1) err(1, \"close\");\n",
    "  return 1;                     /* OK */\n",
    "}\n",
    "\n",
    "int main(int argc, char ** argv) {\n",
    "  for (int i = 1; i < argc; i++) {\n",
    "    check_incore(argv[i]);\n",
    "  }\n",
    "  return 0;\n",
    "}"
   ]
  },
  {
   "cell_type": "code",
   "execution_count": 37,
   "metadata": {
    "kernel": "Bash",
    "nbgrader": {
     "grade": false,
     "grade_id": "c-030",
     "locked": false,
     "schema_version": 3,
     "solution": false,
     "task": false
    }
   },
   "outputs": [],
   "source": [
    "gcc -Wall -O3 -o check_incore check_incore.c"
   ]
  },
  {
   "cell_type": "markdown",
   "metadata": {
    "deletable": false,
    "editable": false,
    "kernel": "SoS",
    "nbgrader": {
     "cell_type": "markdown",
     "checksum": "b547e17de6eb1deacf6fcda09db4b8ba",
     "grade": false,
     "grade_id": "c-031",
     "locked": true,
     "schema_version": 3,
     "solution": false,
     "task": false
    }
   },
   "source": [
    "* 参考までに実行(fincoreと同じ)"
   ]
  },
  {
   "cell_type": "code",
   "execution_count": 42,
   "metadata": {
    "kernel": "Bash",
    "nbgrader": {
     "grade": false,
     "grade_id": "c-032",
     "locked": false,
     "schema_version": 3,
     "solution": false,
     "task": false
    }
   },
   "outputs": [
    {
     "name": "stdout",
     "output_type": "stream",
     "text": [
      "data.bin : 250003456 bytes of 250000000 bytes on memory\n"
     ]
    }
   ],
   "source": [
    "./check_incore data.bin"
   ]
  },
  {
   "cell_type": "code",
   "execution_count": 39,
   "metadata": {
    "kernel": "Bash",
    "nbgrader": {
     "grade": false,
     "grade_id": "c-033",
     "locked": false,
     "schema_version": 3,
     "solution": false,
     "task": false
    }
   },
   "outputs": [],
   "source": [
    "./drop_cache data.bin"
   ]
  },
  {
   "cell_type": "code",
   "execution_count": 40,
   "metadata": {
    "kernel": "Bash",
    "nbgrader": {
     "grade": false,
     "grade_id": "c-034",
     "locked": false,
     "schema_version": 3,
     "solution": false,
     "task": false
    }
   },
   "outputs": [
    {
     "name": "stdout",
     "output_type": "stream",
     "text": [
      "data.bin : 0 bytes of 250000000 bytes on memory\n"
     ]
    }
   ],
   "source": [
    "./check_incore data.bin"
   ]
  },
  {
   "cell_type": "code",
   "execution_count": 41,
   "metadata": {
    "kernel": "Bash",
    "nbgrader": {
     "grade": false,
     "grade_id": "c-035",
     "locked": false,
     "schema_version": 3,
     "solution": false,
     "task": false
    }
   },
   "outputs": [
    {
     "name": "stdout",
     "output_type": "stream",
     "text": [
      "\n",
      "real\t0m0.229s\n",
      "user\t0m0.005s\n",
      "sys\t0m0.117s\n"
     ]
    }
   ],
   "source": [
    "time cat data.bin > /dev/null"
   ]
  },
  {
   "cell_type": "markdown",
   "metadata": {
    "deletable": false,
    "editable": false,
    "kernel": "SoS",
    "nbgrader": {
     "cell_type": "markdown",
     "checksum": "bcc8980f00a41df3efc9e4165d3c0fca",
     "grade": false,
     "grade_id": "c-036",
     "locked": true,
     "schema_version": 3,
     "solution": false,
     "task": false
    }
   },
   "source": [
    "# 6. キャッシュの効果を測定する\n",
    "* キャッシュの効果をきちんと測定してみよう\n",
    "* 以下は\n",
    "```\n",
    "./read_file F S R B > s.dat\n",
    "```\n",
    "で <font color=\"blue\">ファイルF の先頭 S [MB] をR回読む. 但し一回の読み出し(read)で B [バイト]ずつ読み出す</font>\n",
    "* 読み出しごとに時刻を見て read に入った時点と readからリターンした時点を記録し, 標準出力に出す"
   ]
  },
  {
   "cell_type": "code",
   "execution_count": 43,
   "metadata": {
    "kernel": "Python 3 (ipykernel)",
    "nbgrader": {
     "grade": false,
     "grade_id": "c-037",
     "locked": false,
     "schema_version": 3,
     "solution": false,
     "task": false
    }
   },
   "outputs": [
    {
     "name": "stdout",
     "output_type": "stream",
     "text": [
      "Overwriting read_file.c\n"
     ]
    }
   ],
   "source": [
    "%%writefile read_file.c\n",
    "#define _GNU_SOURCE             /* See feature_test_macros(7) */\n",
    "#include <assert.h>\n",
    "#include <err.h>\n",
    "#include <fcntl.h>\n",
    "#include <stdio.h>\n",
    "#include <stdlib.h>\n",
    "#include <string.h>\n",
    "#include <sys/time.h>\n",
    "#include <unistd.h>\n",
    "\n",
    "/* イベントの種類 */\n",
    "typedef enum {\n",
    "  ek_read_enter,\n",
    "  ek_read_return,\n",
    "} event_kind_t;\n",
    "\n",
    "/* 1イベントの記録 */\n",
    "typedef struct {\n",
    "  double t;                     /* 時刻 */\n",
    "  event_kind_t kind;            /* イベントの種類(read呼び出し, read復帰, etc.) */\n",
    "  size_t offset;                /* 読んだ場所 */\n",
    "  size_t size;                  /* 読んだサイズ */\n",
    "} record_t;\n",
    "\n",
    "/* 全イベントの記録 */\n",
    "typedef struct {\n",
    "  long n_records;              /* 配列aのサイズ */\n",
    "  long i;                       /* 次に書き込むインデクス */\n",
    "  record_t * a;                 /* recordの配列 */\n",
    "  int fd;                       /* ファイルディスクリプタ */\n",
    "  long data_sz;                 /* ファイル(使う部分)のサイズ */\n",
    "} records_t;\n",
    "\n",
    "const char * event_kind_string(event_kind_t k) {\n",
    "  switch (k) {\n",
    "  case ek_read_enter:\n",
    "    return \"read_enter\";\n",
    "  case ek_read_return:\n",
    "    return \"read_return\";\n",
    "  default:\n",
    "    assert(0);\n",
    "  }\n",
    "}\n",
    "\n",
    "const long page_sz = 4096;\n",
    "\n",
    "/* n_records分の記録を保持できるrecords_tを作る */\n",
    "records_t * mk_records(long n_records\n",
    "                       ) {\n",
    "  record_t * a = (record_t *)malloc(sizeof(record_t) * n_records);\n",
    "  memset(a, 0, sizeof(record_t) * n_records);\n",
    "  /* records_tの割当て */\n",
    "  records_t * R = (records_t *)malloc(sizeof(records_t));\n",
    "  R->n_records = n_records;\n",
    "  R->i = 0;\n",
    "  R->a = a;\n",
    "  return R;\n",
    "}\n",
    "\n",
    "void destroy_records(records_t * R) {\n",
    "  free((records_t *)R);\n",
    "}\n",
    "\n",
    "/* 時刻を返す */\n",
    "double cur_time() {\n",
    "  struct timeval tp[1];\n",
    "  gettimeofday(tp, 0);\n",
    "  double t = tp->tv_sec + 1.0e-6 * tp->tv_usec;\n",
    "  return t;\n",
    "}\n",
    "\n",
    "/* 1イベントの記録 */\n",
    "void record_event(records_t * R, event_kind_t k, size_t offset, size_t size) {\n",
    "  long i = __sync_fetch_and_add(&R->i, 1);\n",
    "  assert(i < R->n_records);\n",
    "  R->a[i].t = cur_time();\n",
    "  R->a[i].kind = k;\n",
    "  R->a[i].offset = offset;\n",
    "  R->a[i].size = size;\n",
    "}\n",
    "\n",
    "/* 全イベントの記録を標準出力へ表示 */\n",
    "void print_records(records_t * R) {\n",
    "  long m = R->i;\n",
    "  for (long i = 0; i < m; i++) {\n",
    "    printf(\"%f %s %ld %ld\\n\",\n",
    "           R->a[i].t - R->a[0].t,\n",
    "           event_kind_string(R->a[i].kind),\n",
    "           R->a[i].offset,\n",
    "           R->a[i].size);\n",
    "  }\n",
    "}\n",
    "\n",
    "/* szバイトぴったり読む. その前にEOFになったらエラー */\n",
    "long read_sz_at(int fd, char * buf, off_t offset, size_t sz, records_t * R) {\n",
    "  //if (lseek(fd, offset, SEEK_SET) == -1) err(1, \"lseek\");\n",
    "  record_event(R, ek_read_enter, offset, sz);\n",
    "  size_t rd = 0;\n",
    "  while (rd < sz) {\n",
    "    ssize_t x = pread(fd, buf + rd, sz - rd, offset + rd);\n",
    "    if (x == -1) err(1, \"read\");\n",
    "    assert(x > 0);\n",
    "    rd += x;\n",
    "  }\n",
    "  assert(rd == sz);\n",
    "  size_t begin_offset = offset + page_sz - 1;\n",
    "  begin_offset -= begin_offset % page_sz;\n",
    "  long s = 0;\n",
    "  for (size_t o = begin_offset; o < offset + sz; o += page_sz) {\n",
    "    s += buf[o - offset];\n",
    "  }\n",
    "  record_event(R, ek_read_return, offset, sz);\n",
    "  return s;\n",
    "}\n",
    "\n",
    "/* 10m, 100k みたいな文字列を読んで数に変換\n",
    "   e.g., 10k -> 10 * 1024 */\n",
    "long parse_size(char * s) {\n",
    "  long n = strlen(s);\n",
    "  long unit = -1;\n",
    "  assert(n > 0);\n",
    "  switch (s[n - 1]) {\n",
    "  case 'K' :\n",
    "  case 'k' :\n",
    "    unit = 1024L;\n",
    "    break;\n",
    "  case 'M' :\n",
    "  case 'm' :\n",
    "    unit = 1024L * 1024L;\n",
    "    break;\n",
    "  case '0' ... '9' :\n",
    "    unit = 1L;\n",
    "    break;\n",
    "  case 'G' :\n",
    "  case 'g' :\n",
    "    fprintf(stderr, \"do you mean GB? don't be so aggressive\\n\");\n",
    "    break;\n",
    "  case 'T' :\n",
    "  case 't' :\n",
    "    fprintf(stderr, \"do you mean TB? don't be so aggressive\\n\");\n",
    "    break;\n",
    "  default:\n",
    "    fprintf(stderr, \"invalid unit (%c) specified\\n\", s[n - 1]);\n",
    "    break;\n",
    "  }\n",
    "  if (unit == -1) return -1;\n",
    "  long x = atol(s);\n",
    "  assert(x > 0);\n",
    "  return x * unit;\n",
    "}\n",
    "\n",
    "/* \n",
    "./read_file_1 FILE SZ N_TIMES BLK_SZ\n",
    " */\n",
    "int main(int argc, char ** argv) {\n",
    "  int i = 1;\n",
    "  char * const filename = (argc > i ? argv[i] : \"data.bin\"); i++;\n",
    "  /* 使うデータサイズ (ファイルの先頭から; MB単位) */\n",
    "  const long data_sz_   = (argc > i ? parse_size(argv[i]) : parse_size(\"64m\")); i++;\n",
    "  /* ファイル全体を読む周回数 */\n",
    "  const long n_times    = (argc > i ? atol(argv[i]) : 3); i++;\n",
    "  /* read一回で読む量 */\n",
    "  const long block_sz   = (argc > i ? parse_size(argv[i]) : parse_size(\"4k\")); i++;\n",
    "  /* ブロック数 (中途半端は切り捨て) */\n",
    "  const long n_blocks   = data_sz_ / block_sz;\n",
    "  const long data_sz    = block_sz * n_blocks;\n",
    "  /* 読み出すオフセットを作成 */\n",
    "  const long n_records  = 2 * n_blocks * n_times;\n",
    "  records_t * const R = mk_records(n_records);\n",
    "\n",
    "  fprintf(stderr, \"read %ld bytes %ld times, %ld bytes at a time\\n\",\n",
    "          data_sz, n_times, block_sz); fflush(stderr);\n",
    "  for (long i = 0; i < n_times; i++) {\n",
    "    fprintf(stderr, \"%ld th read starts\\n\", i); fflush(stderr);\n",
    "    const double t0 = cur_time();\n",
    "    const int fd = open(filename, O_RDONLY);\n",
    "    if (fd == -1) err(1, \"open\");\n",
    "    long s = 0;\n",
    "    {\n",
    "      char * const buf = (char *)malloc(block_sz);\n",
    "      if (!buf) err(1, \"malloc\");\n",
    "      for (long j = 0; j < n_blocks; j++) {\n",
    "        s += read_sz_at(fd, buf, j * block_sz, block_sz, R);\n",
    "      }\n",
    "      free(buf);\n",
    "    }\n",
    "    if (close(fd) == -1) err(1, \"close\");\n",
    "    double t1 = cur_time();\n",
    "    double dt = t1 - t0;\n",
    "    fprintf(stderr, \"took %f sec, %f MB/sec, sum = %ld\\n\",\n",
    "            dt, data_sz / (1024.0 * 1024.0) / dt, s);\n",
    "    fflush(stderr);\n",
    "  }\n",
    "  print_records(R);\n",
    "  destroy_records(R);\n",
    "  return 0;\n",
    "}"
   ]
  },
  {
   "cell_type": "code",
   "execution_count": 44,
   "metadata": {
    "kernel": "Bash",
    "nbgrader": {
     "grade": false,
     "grade_id": "c-038",
     "locked": false,
     "schema_version": 3,
     "solution": false,
     "task": false
    }
   },
   "outputs": [],
   "source": [
    "gcc -Wall -O3 -o read_file read_file.c"
   ]
  },
  {
   "cell_type": "markdown",
   "metadata": {
    "deletable": false,
    "editable": false,
    "kernel": "SoS",
    "nbgrader": {
     "cell_type": "markdown",
     "checksum": "2cb0a085b0de1fc618cf370492d797cb",
     "grade": false,
     "grade_id": "c-039",
     "locked": true,
     "schema_version": 3,
     "solution": false,
     "task": false
    }
   },
   "source": [
    "* 以下は記録を可視化するプログラム"
   ]
  },
  {
   "cell_type": "code",
   "execution_count": 45,
   "metadata": {
    "kernel": "Python 3 (ipykernel)",
    "nbgrader": {
     "grade": false,
     "grade_id": "c-040",
     "locked": false,
     "schema_version": 3,
     "solution": false,
     "task": false
    }
   },
   "outputs": [],
   "source": [
    "#!/usr/bin/python3\n",
    "import pdb\n",
    "import re\n",
    "import sqlite3\n",
    "import sys\n",
    "import matplotlib.pyplot as plt\n",
    "import numpy as np\n",
    "\n",
    "def process_line(filename, line, exprs, row_exprs, V, K, R):\n",
    "    for e in exprs:\n",
    "        m = e.search(line)\n",
    "        if m:\n",
    "            V.update(m.groupdict())\n",
    "            dK = set(V.keys()).difference(set(K))\n",
    "            K.extend(list(dK))\n",
    "    for r in row_exprs:\n",
    "        if r.search(line):\n",
    "            R.append(V.copy())\n",
    "            break\n",
    "\n",
    "def read_dats(result_dats, exprs, row_exprs):\n",
    "    K = []\n",
    "    R = []\n",
    "    for result_dat in result_dats:\n",
    "        V = {\"file\" : result_dat}\n",
    "        with open(result_dat) as fp:\n",
    "            for line in fp:\n",
    "                process_line(result_dat, line, exprs, row_exprs, V, K, R)\n",
    "    return K, R\n",
    "\n",
    "def sqlite3_val(x):\n",
    "    if x is None:\n",
    "        return None\n",
    "    try:\n",
    "        return int(x)\n",
    "    except ValueError:\n",
    "        pass\n",
    "    try:\n",
    "        return float(x)\n",
    "    except ValueError:\n",
    "        pass\n",
    "    try:\n",
    "        return float(x)\n",
    "    except ValueError:\n",
    "        pass\n",
    "    return x\n",
    "\n",
    "def dats_to_db(result_dats, exprs, row_exprs):\n",
    "    K, R = read_dats(result_dats, exprs, row_exprs)\n",
    "    co = sqlite3.connect(\":memory:\")\n",
    "    co.execute(\"create table a({cols})\".format(cols=\",\".join(K)))\n",
    "    insert = (\"insert into a({cols}) values({placeholders})\"\n",
    "              .format(cols=\",\".join(K), placeholders=\",\".join([\"?\"] * len(K))))\n",
    "    for r in R:\n",
    "        co.execute(insert, tuple([sqlite3_val(r.get(k)) for k in K]))\n",
    "    co.commit()\n",
    "    return co\n",
    "\n",
    "def draw(files, exprs, row_exprs, cmds,\n",
    "         xlabel=None, ylabel=None, col_is_x=False):\n",
    "    co = dats_to_db(files, exprs, row_exprs)\n",
    "    fig, ax = plt.subplots()\n",
    "    if xlabel:\n",
    "        plt.xlabel(xlabel)\n",
    "    if ylabel:\n",
    "        plt.ylabel(ylabel)\n",
    "    for cmd,kw in cmds:\n",
    "        res = list(co.execute(cmd))\n",
    "        if len(res) == 0:\n",
    "            continue\n",
    "        if len(res[0]) == 1:\n",
    "            res = list(enumerate(x for x, in res))\n",
    "            if col_is_x:\n",
    "                res = [(y,x) for x,y in res]\n",
    "        x = np.array([x for x,_ in res])\n",
    "        y = np.array([y for _,y in res])\n",
    "        plt.plot(x, y, '-o', **kw)\n",
    "    plt.legend()\n",
    "    plt.show()\n",
    "    co.close()\n",
    "\n",
    "def graph(files):\n",
    "    exprs = [\n",
    "        re.compile(r\"(?P<t>\\d+\\.\\d+) (?P<event>.*?) (?P<offset>\\d+) (?P<size>\\d+)\"),\n",
    "    ]\n",
    "    row_exprs = exprs[-1:]\n",
    "    draw(files, exprs, row_exprs,\n",
    "         [('select 1000*t from a where event=\"%s\"' % x, dict(label=\"%s\" % x))\n",
    "          for x in [\"read_ahead_enter\", \"read_ahead_return\", \"read_enter\", \"read_return\"]],\n",
    "         xlabel=\"count\", ylabel=\"time [ms]\")\n",
    "\n",
    "if sys.argv[0].endswith(\"read_file_vis.py\"):\n",
    "    graph(sys.argv[1:])\n"
   ]
  },
  {
   "cell_type": "markdown",
   "metadata": {
    "deletable": false,
    "editable": false,
    "kernel": "SoS",
    "nbgrader": {
     "cell_type": "markdown",
     "checksum": "61ee4fc56756141833ceab7f25bd95b2",
     "grade": false,
     "grade_id": "c-041",
     "locked": true,
     "schema_version": 3,
     "solution": false,
     "task": false
    }
   },
   "source": [
    "* 実行 (64MB を 4KBずつ読み出す; 3回繰り返す)"
   ]
  },
  {
   "cell_type": "code",
   "execution_count": 46,
   "metadata": {
    "kernel": "Bash",
    "nbgrader": {
     "grade": false,
     "grade_id": "c-042",
     "locked": false,
     "schema_version": 3,
     "solution": false,
     "task": false
    }
   },
   "outputs": [
    {
     "name": "stdout",
     "output_type": "stream",
     "text": [
      "read 67108864 bytes 3 times, 4096 bytes at a time\n",
      "0 th read starts\n",
      "took 0.102190 sec, 626.284264 MB/sec, sum = -11020\n",
      "1 th read starts\n",
      "took 0.017678 sec, 3620.314456 MB/sec, sum = -11020\n",
      "2 th read starts\n",
      "took 0.017225 sec, 3715.523911 MB/sec, sum = -11020\n"
     ]
    }
   ],
   "source": [
    "export data=data.bin\n",
    "./drop_cache ${data}\n",
    "./read_file ${data} 64m 3 4k > s.dat"
   ]
  },
  {
   "cell_type": "markdown",
   "metadata": {
    "deletable": false,
    "editable": false,
    "kernel": "SoS",
    "nbgrader": {
     "cell_type": "markdown",
     "checksum": "df575c41c78309a63431d40f023d3de6",
     "grade": false,
     "grade_id": "c-043",
     "locked": true,
     "schema_version": 3,
     "solution": false,
     "task": false
    }
   },
   "source": [
    "#  可視化"
   ]
  },
  {
   "cell_type": "code",
   "execution_count": 47,
   "metadata": {
    "kernel": "Python 3 (ipykernel)",
    "nbgrader": {
     "grade": false,
     "grade_id": "c-044",
     "locked": false,
     "schema_version": 3,
     "solution": false,
     "task": false
    }
   },
   "outputs": [
    {
     "data": {
      "image/png": "[encoded data removed]",
      "text/plain": [
       "<Figure size 640x480 with 1 Axes>"
      ]
     },
     "metadata": {},
     "output_type": "display_data"
    }
   ],
   "source": [
    "graph([\"s.dat\"])"
   ]
  },
  {
   "cell_type": "markdown",
   "metadata": {
    "deletable": false,
    "editable": false,
    "kernel": "SoS",
    "nbgrader": {
     "cell_type": "markdown",
     "checksum": "923a6a29b92993b3d099e031045a38f1",
     "grade": false,
     "grade_id": "c-045",
     "locked": true,
     "schema_version": 3,
     "solution": false,
     "task": false
    }
   },
   "source": [
    "# 7. 結び\n",
    "* 効果(1回目と2回目の違い)は, ディスクの性能や読み出しパターンによっても異なる\n",
    "* 上記のプログラムを自分の手元にダウンロードして同じ実験をしてみることもオススメ\n",
    "\n",
    "* 今後生きてく上で, くれぐれも, <font color=\"blue\">キャッシュから読んだときの性能 (&gt; 数GB/sec) がディスク装置の性能である</font>と誤解しないようにしましょう\n",
    "* 売られているHDD装置の性能: 1本でおおよそ100MB/sec\n",
    "* 売られているSSD装置の性能: 1本でおおよそ200-300MB/sec (PCI接続) 〜 1-2GB程度 (PCI接続)"
   ]
  }
 ],
 "metadata": {
  "kernelspec": {
   "display_name": "SoS",
   "language": "sos",
   "name": "sos"
  },
  "language_info": {
   "codemirror_mode": "sos",
   "file_extension": ".sos",
   "mimetype": "text/x-sos",
   "name": "sos",
   "nbconvert_exporter": "sos_notebook.converter.SoS_Exporter",
   "pygments_lexer": "sos"
  },
  "sos": {
   "kernels": [
    [
     "Bash",
     "bash",
     "bash",
     "",
     "shell"
    ],
    [
     "C",
     "c_kernel",
     "c",
     "",
     ""
    ],
    [
     "Go",
     "gophernotes",
     "go",
     "",
     ""
    ],
    [
     "Julia 1.8.5",
     "julia-1.8",
     "julia",
     "",
     ""
    ],
    [
     "OCaml default",
     "ocaml-jupyter",
     "OCaml",
     "",
     "text/x-ocaml"
    ],
    [
     "Python 3 (ipykernel)",
     "python3",
     "python3",
     "",
     {
      "name": "ipython",
      "version": 3
     }
    ],
    [
     "Rust",
     "rust",
     "rust",
     "",
     ""
    ]
   ],
   "panel": {
    "displayed": true,
    "height": 0
   },
   "version": "0.23.3"
  }
 },
 "nbformat": 4,
 "nbformat_minor": 4
}
